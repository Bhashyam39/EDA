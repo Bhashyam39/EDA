{
 "cells": [
  {
   "cell_type": "markdown",
   "metadata": {},
   "source": [
    "# Performing Exploratory Data Analysis over an Instagram Reach"
   ]
  },
  {
   "cell_type": "markdown",
   "metadata": {},
   "source": [
    "Step - 1: Importing all the necessary packages for the analysis."
   ]
  },
  {
   "cell_type": "code",
   "execution_count": 11,
   "metadata": {},
   "outputs": [],
   "source": [
    "import pandas as pd\n",
    "import plotly.express as px\n",
    "import plotly.graph_objects as go\n",
    "import plotly.io as pio"
   ]
  },
  {
   "cell_type": "markdown",
   "metadata": {},
   "source": [
    "Step - 2: Reading the data from a CSV file."
   ]
  },
  {
   "cell_type": "code",
   "execution_count": 23,
   "metadata": {},
   "outputs": [
    {
     "data": {
      "text/html": [
       "<div>\n",
       "<style scoped>\n",
       "    .dataframe tbody tr th:only-of-type {\n",
       "        vertical-align: middle;\n",
       "    }\n",
       "\n",
       "    .dataframe tbody tr th {\n",
       "        vertical-align: top;\n",
       "    }\n",
       "\n",
       "    .dataframe thead th {\n",
       "        text-align: right;\n",
       "    }\n",
       "</style>\n",
       "<table border=\"1\" class=\"dataframe\">\n",
       "  <thead>\n",
       "    <tr style=\"text-align: right;\">\n",
       "      <th></th>\n",
       "      <th>Impressions</th>\n",
       "      <th>From Home</th>\n",
       "      <th>From Hashtags</th>\n",
       "      <th>From Explore</th>\n",
       "      <th>From Other</th>\n",
       "      <th>Saves</th>\n",
       "      <th>Comments</th>\n",
       "      <th>Shares</th>\n",
       "      <th>Likes</th>\n",
       "      <th>Profile Visits</th>\n",
       "      <th>Follows</th>\n",
       "      <th>Caption</th>\n",
       "      <th>Hashtags</th>\n",
       "    </tr>\n",
       "  </thead>\n",
       "  <tbody>\n",
       "    <tr>\n",
       "      <th>0</th>\n",
       "      <td>3920</td>\n",
       "      <td>2586</td>\n",
       "      <td>1028</td>\n",
       "      <td>619</td>\n",
       "      <td>56</td>\n",
       "      <td>98</td>\n",
       "      <td>9</td>\n",
       "      <td>5</td>\n",
       "      <td>162</td>\n",
       "      <td>35</td>\n",
       "      <td>2</td>\n",
       "      <td>Here are some of the most important data visua...</td>\n",
       "      <td>#finance #money #business #investing #investme...</td>\n",
       "    </tr>\n",
       "    <tr>\n",
       "      <th>1</th>\n",
       "      <td>5394</td>\n",
       "      <td>2727</td>\n",
       "      <td>1838</td>\n",
       "      <td>1174</td>\n",
       "      <td>78</td>\n",
       "      <td>194</td>\n",
       "      <td>7</td>\n",
       "      <td>14</td>\n",
       "      <td>224</td>\n",
       "      <td>48</td>\n",
       "      <td>10</td>\n",
       "      <td>Here are some of the best data science project...</td>\n",
       "      <td>#healthcare #health #covid #data #datascience ...</td>\n",
       "    </tr>\n",
       "    <tr>\n",
       "      <th>2</th>\n",
       "      <td>4021</td>\n",
       "      <td>2085</td>\n",
       "      <td>1188</td>\n",
       "      <td>0</td>\n",
       "      <td>533</td>\n",
       "      <td>41</td>\n",
       "      <td>11</td>\n",
       "      <td>1</td>\n",
       "      <td>131</td>\n",
       "      <td>62</td>\n",
       "      <td>12</td>\n",
       "      <td>Learn how to train a machine learning model an...</td>\n",
       "      <td>#data #datascience #dataanalysis #dataanalytic...</td>\n",
       "    </tr>\n",
       "    <tr>\n",
       "      <th>3</th>\n",
       "      <td>4528</td>\n",
       "      <td>2700</td>\n",
       "      <td>621</td>\n",
       "      <td>932</td>\n",
       "      <td>73</td>\n",
       "      <td>172</td>\n",
       "      <td>10</td>\n",
       "      <td>7</td>\n",
       "      <td>213</td>\n",
       "      <td>23</td>\n",
       "      <td>8</td>\n",
       "      <td>Heres how you can write a Python program to d...</td>\n",
       "      <td>#python #pythonprogramming #pythonprojects #py...</td>\n",
       "    </tr>\n",
       "    <tr>\n",
       "      <th>4</th>\n",
       "      <td>2518</td>\n",
       "      <td>1704</td>\n",
       "      <td>255</td>\n",
       "      <td>279</td>\n",
       "      <td>37</td>\n",
       "      <td>96</td>\n",
       "      <td>5</td>\n",
       "      <td>4</td>\n",
       "      <td>123</td>\n",
       "      <td>8</td>\n",
       "      <td>0</td>\n",
       "      <td>Plotting annotations while visualizing your da...</td>\n",
       "      <td>#datavisualization #datascience #data #dataana...</td>\n",
       "    </tr>\n",
       "  </tbody>\n",
       "</table>\n",
       "</div>"
      ],
      "text/plain": [
       "   Impressions  From Home  From Hashtags  From Explore  From Other  Saves   \n",
       "0         3920       2586           1028           619          56     98  \\\n",
       "1         5394       2727           1838          1174          78    194   \n",
       "2         4021       2085           1188             0         533     41   \n",
       "3         4528       2700            621           932          73    172   \n",
       "4         2518       1704            255           279          37     96   \n",
       "\n",
       "   Comments  Shares  Likes  Profile Visits  Follows   \n",
       "0         9       5    162              35        2  \\\n",
       "1         7      14    224              48       10   \n",
       "2        11       1    131              62       12   \n",
       "3        10       7    213              23        8   \n",
       "4         5       4    123               8        0   \n",
       "\n",
       "                                             Caption   \n",
       "0  Here are some of the most important data visua...  \\\n",
       "1  Here are some of the best data science project...   \n",
       "2  Learn how to train a machine learning model an...   \n",
       "3  Heres how you can write a Python program to d...   \n",
       "4  Plotting annotations while visualizing your da...   \n",
       "\n",
       "                                            Hashtags  \n",
       "0  #finance #money #business #investing #investme...  \n",
       "1  #healthcare #health #covid #data #datascience ...  \n",
       "2  #data #datascience #dataanalysis #dataanalytic...  \n",
       "3  #python #pythonprogramming #pythonprojects #py...  \n",
       "4  #datavisualization #datascience #data #dataana...  "
      ]
     },
     "execution_count": 23,
     "metadata": {},
     "output_type": "execute_result"
    }
   ],
   "source": [
    "data = pd.read_csv('Insta.csv',encoding='latin-1')\n",
    "data.head()"
   ]
  },
  {
   "cell_type": "markdown",
   "metadata": {},
   "source": [
    "Step - 3: Understanding the data for analysis. Checking for any null values if there are any then fill the null values with some relavent information."
   ]
  },
  {
   "cell_type": "code",
   "execution_count": 24,
   "metadata": {},
   "outputs": [
    {
     "data": {
      "text/html": [
       "<div>\n",
       "<style scoped>\n",
       "    .dataframe tbody tr th:only-of-type {\n",
       "        vertical-align: middle;\n",
       "    }\n",
       "\n",
       "    .dataframe tbody tr th {\n",
       "        vertical-align: top;\n",
       "    }\n",
       "\n",
       "    .dataframe thead th {\n",
       "        text-align: right;\n",
       "    }\n",
       "</style>\n",
       "<table border=\"1\" class=\"dataframe\">\n",
       "  <thead>\n",
       "    <tr style=\"text-align: right;\">\n",
       "      <th></th>\n",
       "      <th>Impressions</th>\n",
       "      <th>From Home</th>\n",
       "      <th>From Hashtags</th>\n",
       "      <th>From Explore</th>\n",
       "      <th>From Other</th>\n",
       "      <th>Saves</th>\n",
       "      <th>Comments</th>\n",
       "      <th>Shares</th>\n",
       "      <th>Likes</th>\n",
       "      <th>Profile Visits</th>\n",
       "      <th>Follows</th>\n",
       "    </tr>\n",
       "  </thead>\n",
       "  <tbody>\n",
       "    <tr>\n",
       "      <th>count</th>\n",
       "      <td>119.000000</td>\n",
       "      <td>119.000000</td>\n",
       "      <td>119.000000</td>\n",
       "      <td>119.000000</td>\n",
       "      <td>119.000000</td>\n",
       "      <td>119.000000</td>\n",
       "      <td>119.000000</td>\n",
       "      <td>119.000000</td>\n",
       "      <td>119.000000</td>\n",
       "      <td>119.000000</td>\n",
       "      <td>119.000000</td>\n",
       "    </tr>\n",
       "    <tr>\n",
       "      <th>mean</th>\n",
       "      <td>5703.991597</td>\n",
       "      <td>2475.789916</td>\n",
       "      <td>1887.512605</td>\n",
       "      <td>1078.100840</td>\n",
       "      <td>171.092437</td>\n",
       "      <td>153.310924</td>\n",
       "      <td>6.663866</td>\n",
       "      <td>9.361345</td>\n",
       "      <td>173.781513</td>\n",
       "      <td>50.621849</td>\n",
       "      <td>20.756303</td>\n",
       "    </tr>\n",
       "    <tr>\n",
       "      <th>std</th>\n",
       "      <td>4843.780105</td>\n",
       "      <td>1489.386348</td>\n",
       "      <td>1884.361443</td>\n",
       "      <td>2613.026132</td>\n",
       "      <td>289.431031</td>\n",
       "      <td>156.317731</td>\n",
       "      <td>3.544576</td>\n",
       "      <td>10.089205</td>\n",
       "      <td>82.378947</td>\n",
       "      <td>87.088402</td>\n",
       "      <td>40.921580</td>\n",
       "    </tr>\n",
       "    <tr>\n",
       "      <th>min</th>\n",
       "      <td>1941.000000</td>\n",
       "      <td>1133.000000</td>\n",
       "      <td>116.000000</td>\n",
       "      <td>0.000000</td>\n",
       "      <td>9.000000</td>\n",
       "      <td>22.000000</td>\n",
       "      <td>0.000000</td>\n",
       "      <td>0.000000</td>\n",
       "      <td>72.000000</td>\n",
       "      <td>4.000000</td>\n",
       "      <td>0.000000</td>\n",
       "    </tr>\n",
       "    <tr>\n",
       "      <th>25%</th>\n",
       "      <td>3467.000000</td>\n",
       "      <td>1945.000000</td>\n",
       "      <td>726.000000</td>\n",
       "      <td>157.500000</td>\n",
       "      <td>38.000000</td>\n",
       "      <td>65.000000</td>\n",
       "      <td>4.000000</td>\n",
       "      <td>3.000000</td>\n",
       "      <td>121.500000</td>\n",
       "      <td>15.000000</td>\n",
       "      <td>4.000000</td>\n",
       "    </tr>\n",
       "    <tr>\n",
       "      <th>50%</th>\n",
       "      <td>4289.000000</td>\n",
       "      <td>2207.000000</td>\n",
       "      <td>1278.000000</td>\n",
       "      <td>326.000000</td>\n",
       "      <td>74.000000</td>\n",
       "      <td>109.000000</td>\n",
       "      <td>6.000000</td>\n",
       "      <td>6.000000</td>\n",
       "      <td>151.000000</td>\n",
       "      <td>23.000000</td>\n",
       "      <td>8.000000</td>\n",
       "    </tr>\n",
       "    <tr>\n",
       "      <th>75%</th>\n",
       "      <td>6138.000000</td>\n",
       "      <td>2602.500000</td>\n",
       "      <td>2363.500000</td>\n",
       "      <td>689.500000</td>\n",
       "      <td>196.000000</td>\n",
       "      <td>169.000000</td>\n",
       "      <td>8.000000</td>\n",
       "      <td>13.500000</td>\n",
       "      <td>204.000000</td>\n",
       "      <td>42.000000</td>\n",
       "      <td>18.000000</td>\n",
       "    </tr>\n",
       "    <tr>\n",
       "      <th>max</th>\n",
       "      <td>36919.000000</td>\n",
       "      <td>13473.000000</td>\n",
       "      <td>11817.000000</td>\n",
       "      <td>17414.000000</td>\n",
       "      <td>2547.000000</td>\n",
       "      <td>1095.000000</td>\n",
       "      <td>19.000000</td>\n",
       "      <td>75.000000</td>\n",
       "      <td>549.000000</td>\n",
       "      <td>611.000000</td>\n",
       "      <td>260.000000</td>\n",
       "    </tr>\n",
       "  </tbody>\n",
       "</table>\n",
       "</div>"
      ],
      "text/plain": [
       "        Impressions     From Home  From Hashtags  From Explore   From Other   \n",
       "count    119.000000    119.000000     119.000000    119.000000   119.000000  \\\n",
       "mean    5703.991597   2475.789916    1887.512605   1078.100840   171.092437   \n",
       "std     4843.780105   1489.386348    1884.361443   2613.026132   289.431031   \n",
       "min     1941.000000   1133.000000     116.000000      0.000000     9.000000   \n",
       "25%     3467.000000   1945.000000     726.000000    157.500000    38.000000   \n",
       "50%     4289.000000   2207.000000    1278.000000    326.000000    74.000000   \n",
       "75%     6138.000000   2602.500000    2363.500000    689.500000   196.000000   \n",
       "max    36919.000000  13473.000000   11817.000000  17414.000000  2547.000000   \n",
       "\n",
       "             Saves    Comments      Shares       Likes  Profile Visits   \n",
       "count   119.000000  119.000000  119.000000  119.000000      119.000000  \\\n",
       "mean    153.310924    6.663866    9.361345  173.781513       50.621849   \n",
       "std     156.317731    3.544576   10.089205   82.378947       87.088402   \n",
       "min      22.000000    0.000000    0.000000   72.000000        4.000000   \n",
       "25%      65.000000    4.000000    3.000000  121.500000       15.000000   \n",
       "50%     109.000000    6.000000    6.000000  151.000000       23.000000   \n",
       "75%     169.000000    8.000000   13.500000  204.000000       42.000000   \n",
       "max    1095.000000   19.000000   75.000000  549.000000      611.000000   \n",
       "\n",
       "          Follows  \n",
       "count  119.000000  \n",
       "mean    20.756303  \n",
       "std     40.921580  \n",
       "min      0.000000  \n",
       "25%      4.000000  \n",
       "50%      8.000000  \n",
       "75%     18.000000  \n",
       "max    260.000000  "
      ]
     },
     "execution_count": 24,
     "metadata": {},
     "output_type": "execute_result"
    }
   ],
   "source": [
    "data.describe()"
   ]
  },
  {
   "cell_type": "code",
   "execution_count": 25,
   "metadata": {},
   "outputs": [
    {
     "name": "stdout",
     "output_type": "stream",
     "text": [
      "<class 'pandas.core.frame.DataFrame'>\n",
      "RangeIndex: 119 entries, 0 to 118\n",
      "Data columns (total 13 columns):\n",
      " #   Column          Non-Null Count  Dtype \n",
      "---  ------          --------------  ----- \n",
      " 0   Impressions     119 non-null    int64 \n",
      " 1   From Home       119 non-null    int64 \n",
      " 2   From Hashtags   119 non-null    int64 \n",
      " 3   From Explore    119 non-null    int64 \n",
      " 4   From Other      119 non-null    int64 \n",
      " 5   Saves           119 non-null    int64 \n",
      " 6   Comments        119 non-null    int64 \n",
      " 7   Shares          119 non-null    int64 \n",
      " 8   Likes           119 non-null    int64 \n",
      " 9   Profile Visits  119 non-null    int64 \n",
      " 10  Follows         119 non-null    int64 \n",
      " 11  Caption         119 non-null    object\n",
      " 12  Hashtags        119 non-null    object\n",
      "dtypes: int64(11), object(2)\n",
      "memory usage: 12.2+ KB\n"
     ]
    }
   ],
   "source": [
    "data.info()"
   ]
  },
  {
   "cell_type": "code",
   "execution_count": 26,
   "metadata": {},
   "outputs": [
    {
     "data": {
      "text/plain": [
       "Impressions       0\n",
       "From Home         0\n",
       "From Hashtags     0\n",
       "From Explore      0\n",
       "From Other        0\n",
       "Saves             0\n",
       "Comments          0\n",
       "Shares            0\n",
       "Likes             0\n",
       "Profile Visits    0\n",
       "Follows           0\n",
       "Caption           0\n",
       "Hashtags          0\n",
       "dtype: int64"
      ]
     },
     "execution_count": 26,
     "metadata": {},
     "output_type": "execute_result"
    }
   ],
   "source": [
    "data.isnull().sum()"
   ]
  },
  {
   "cell_type": "markdown",
   "metadata": {},
   "source": [
    "Step - 4: Important part of EDA is preparing analysis via diagrams or graphs over various metrics."
   ]
  },
  {
   "cell_type": "code",
   "execution_count": 27,
   "metadata": {},
   "outputs": [
    {
     "data": {
      "application/vnd.plotly.v1+json": {
       "config": {
        "plotlyServerURL": "https://plot.ly"
       },
       "data": [
        {
         "alignmentgroup": "True",
         "bingroup": "x",
         "hovertemplate": "Impressions=%{x}<br>count=%{y}<extra></extra>",
         "legendgroup": "",
         "marker": {
          "color": "#636efa",
          "pattern": {
           "shape": ""
          }
         },
         "name": "",
         "nbinsx": 10,
         "offsetgroup": "",
         "orientation": "v",
         "showlegend": false,
         "type": "histogram",
         "x": [
          3920,
          5394,
          4021,
          4528,
          2518,
          3884,
          2621,
          3541,
          3749,
          4115,
          2218,
          3234,
          4344,
          3216,
          9453,
          5055,
          4002,
          3169,
          6168,
          2407,
          2064,
          3973,
          7281,
          3052,
          4628,
          4082,
          5394,
          2766,
          3924,
          3015,
          6666,
          3854,
          4355,
          4343,
          6108,
          2523,
          2327,
          3990,
          2191,
          1941,
          16062,
          4998,
          4289,
          3880,
          3786,
          4298,
          3630,
          2826,
          7407,
          10386,
          2998,
          7018,
          2941,
          6432,
          10667,
          3988,
          4978,
          3388,
          4467,
          3246,
          5072,
          6339,
          4239,
          3454,
          7571,
          3333,
          3818,
          10933,
          5058,
          3601,
          3480,
          3525,
          3606,
          5542,
          6559,
          3623,
          10493,
          4446,
          2957,
          5538,
          4681,
          5273,
          5055,
          4002,
          3169,
          6168,
          2407,
          3630,
          2826,
          7407,
          10386,
          2998,
          3052,
          4628,
          4082,
          5394,
          2766,
          3924,
          3015,
          5409,
          5323,
          8001,
          4150,
          4609,
          6348,
          11068,
          7231,
          17396,
          6814,
          17713,
          5563,
          4842,
          11149,
          10206,
          13700,
          5731,
          4139,
          32695,
          36919
         ],
         "xaxis": "x",
         "yaxis": "y"
        }
       ],
       "layout": {
        "barmode": "relative",
        "legend": {
         "tracegroupgap": 0
        },
        "template": {
         "data": {
          "bar": [
           {
            "error_x": {
             "color": "#2a3f5f"
            },
            "error_y": {
             "color": "#2a3f5f"
            },
            "marker": {
             "line": {
              "color": "#E5ECF6",
              "width": 0.5
             },
             "pattern": {
              "fillmode": "overlay",
              "size": 10,
              "solidity": 0.2
             }
            },
            "type": "bar"
           }
          ],
          "barpolar": [
           {
            "marker": {
             "line": {
              "color": "#E5ECF6",
              "width": 0.5
             },
             "pattern": {
              "fillmode": "overlay",
              "size": 10,
              "solidity": 0.2
             }
            },
            "type": "barpolar"
           }
          ],
          "carpet": [
           {
            "aaxis": {
             "endlinecolor": "#2a3f5f",
             "gridcolor": "white",
             "linecolor": "white",
             "minorgridcolor": "white",
             "startlinecolor": "#2a3f5f"
            },
            "baxis": {
             "endlinecolor": "#2a3f5f",
             "gridcolor": "white",
             "linecolor": "white",
             "minorgridcolor": "white",
             "startlinecolor": "#2a3f5f"
            },
            "type": "carpet"
           }
          ],
          "choropleth": [
           {
            "colorbar": {
             "outlinewidth": 0,
             "ticks": ""
            },
            "type": "choropleth"
           }
          ],
          "contour": [
           {
            "colorbar": {
             "outlinewidth": 0,
             "ticks": ""
            },
            "colorscale": [
             [
              0,
              "#0d0887"
             ],
             [
              0.1111111111111111,
              "#46039f"
             ],
             [
              0.2222222222222222,
              "#7201a8"
             ],
             [
              0.3333333333333333,
              "#9c179e"
             ],
             [
              0.4444444444444444,
              "#bd3786"
             ],
             [
              0.5555555555555556,
              "#d8576b"
             ],
             [
              0.6666666666666666,
              "#ed7953"
             ],
             [
              0.7777777777777778,
              "#fb9f3a"
             ],
             [
              0.8888888888888888,
              "#fdca26"
             ],
             [
              1,
              "#f0f921"
             ]
            ],
            "type": "contour"
           }
          ],
          "contourcarpet": [
           {
            "colorbar": {
             "outlinewidth": 0,
             "ticks": ""
            },
            "type": "contourcarpet"
           }
          ],
          "heatmap": [
           {
            "colorbar": {
             "outlinewidth": 0,
             "ticks": ""
            },
            "colorscale": [
             [
              0,
              "#0d0887"
             ],
             [
              0.1111111111111111,
              "#46039f"
             ],
             [
              0.2222222222222222,
              "#7201a8"
             ],
             [
              0.3333333333333333,
              "#9c179e"
             ],
             [
              0.4444444444444444,
              "#bd3786"
             ],
             [
              0.5555555555555556,
              "#d8576b"
             ],
             [
              0.6666666666666666,
              "#ed7953"
             ],
             [
              0.7777777777777778,
              "#fb9f3a"
             ],
             [
              0.8888888888888888,
              "#fdca26"
             ],
             [
              1,
              "#f0f921"
             ]
            ],
            "type": "heatmap"
           }
          ],
          "heatmapgl": [
           {
            "colorbar": {
             "outlinewidth": 0,
             "ticks": ""
            },
            "colorscale": [
             [
              0,
              "#0d0887"
             ],
             [
              0.1111111111111111,
              "#46039f"
             ],
             [
              0.2222222222222222,
              "#7201a8"
             ],
             [
              0.3333333333333333,
              "#9c179e"
             ],
             [
              0.4444444444444444,
              "#bd3786"
             ],
             [
              0.5555555555555556,
              "#d8576b"
             ],
             [
              0.6666666666666666,
              "#ed7953"
             ],
             [
              0.7777777777777778,
              "#fb9f3a"
             ],
             [
              0.8888888888888888,
              "#fdca26"
             ],
             [
              1,
              "#f0f921"
             ]
            ],
            "type": "heatmapgl"
           }
          ],
          "histogram": [
           {
            "marker": {
             "pattern": {
              "fillmode": "overlay",
              "size": 10,
              "solidity": 0.2
             }
            },
            "type": "histogram"
           }
          ],
          "histogram2d": [
           {
            "colorbar": {
             "outlinewidth": 0,
             "ticks": ""
            },
            "colorscale": [
             [
              0,
              "#0d0887"
             ],
             [
              0.1111111111111111,
              "#46039f"
             ],
             [
              0.2222222222222222,
              "#7201a8"
             ],
             [
              0.3333333333333333,
              "#9c179e"
             ],
             [
              0.4444444444444444,
              "#bd3786"
             ],
             [
              0.5555555555555556,
              "#d8576b"
             ],
             [
              0.6666666666666666,
              "#ed7953"
             ],
             [
              0.7777777777777778,
              "#fb9f3a"
             ],
             [
              0.8888888888888888,
              "#fdca26"
             ],
             [
              1,
              "#f0f921"
             ]
            ],
            "type": "histogram2d"
           }
          ],
          "histogram2dcontour": [
           {
            "colorbar": {
             "outlinewidth": 0,
             "ticks": ""
            },
            "colorscale": [
             [
              0,
              "#0d0887"
             ],
             [
              0.1111111111111111,
              "#46039f"
             ],
             [
              0.2222222222222222,
              "#7201a8"
             ],
             [
              0.3333333333333333,
              "#9c179e"
             ],
             [
              0.4444444444444444,
              "#bd3786"
             ],
             [
              0.5555555555555556,
              "#d8576b"
             ],
             [
              0.6666666666666666,
              "#ed7953"
             ],
             [
              0.7777777777777778,
              "#fb9f3a"
             ],
             [
              0.8888888888888888,
              "#fdca26"
             ],
             [
              1,
              "#f0f921"
             ]
            ],
            "type": "histogram2dcontour"
           }
          ],
          "mesh3d": [
           {
            "colorbar": {
             "outlinewidth": 0,
             "ticks": ""
            },
            "type": "mesh3d"
           }
          ],
          "parcoords": [
           {
            "line": {
             "colorbar": {
              "outlinewidth": 0,
              "ticks": ""
             }
            },
            "type": "parcoords"
           }
          ],
          "pie": [
           {
            "automargin": true,
            "type": "pie"
           }
          ],
          "scatter": [
           {
            "fillpattern": {
             "fillmode": "overlay",
             "size": 10,
             "solidity": 0.2
            },
            "type": "scatter"
           }
          ],
          "scatter3d": [
           {
            "line": {
             "colorbar": {
              "outlinewidth": 0,
              "ticks": ""
             }
            },
            "marker": {
             "colorbar": {
              "outlinewidth": 0,
              "ticks": ""
             }
            },
            "type": "scatter3d"
           }
          ],
          "scattercarpet": [
           {
            "marker": {
             "colorbar": {
              "outlinewidth": 0,
              "ticks": ""
             }
            },
            "type": "scattercarpet"
           }
          ],
          "scattergeo": [
           {
            "marker": {
             "colorbar": {
              "outlinewidth": 0,
              "ticks": ""
             }
            },
            "type": "scattergeo"
           }
          ],
          "scattergl": [
           {
            "marker": {
             "colorbar": {
              "outlinewidth": 0,
              "ticks": ""
             }
            },
            "type": "scattergl"
           }
          ],
          "scattermapbox": [
           {
            "marker": {
             "colorbar": {
              "outlinewidth": 0,
              "ticks": ""
             }
            },
            "type": "scattermapbox"
           }
          ],
          "scatterpolar": [
           {
            "marker": {
             "colorbar": {
              "outlinewidth": 0,
              "ticks": ""
             }
            },
            "type": "scatterpolar"
           }
          ],
          "scatterpolargl": [
           {
            "marker": {
             "colorbar": {
              "outlinewidth": 0,
              "ticks": ""
             }
            },
            "type": "scatterpolargl"
           }
          ],
          "scatterternary": [
           {
            "marker": {
             "colorbar": {
              "outlinewidth": 0,
              "ticks": ""
             }
            },
            "type": "scatterternary"
           }
          ],
          "surface": [
           {
            "colorbar": {
             "outlinewidth": 0,
             "ticks": ""
            },
            "colorscale": [
             [
              0,
              "#0d0887"
             ],
             [
              0.1111111111111111,
              "#46039f"
             ],
             [
              0.2222222222222222,
              "#7201a8"
             ],
             [
              0.3333333333333333,
              "#9c179e"
             ],
             [
              0.4444444444444444,
              "#bd3786"
             ],
             [
              0.5555555555555556,
              "#d8576b"
             ],
             [
              0.6666666666666666,
              "#ed7953"
             ],
             [
              0.7777777777777778,
              "#fb9f3a"
             ],
             [
              0.8888888888888888,
              "#fdca26"
             ],
             [
              1,
              "#f0f921"
             ]
            ],
            "type": "surface"
           }
          ],
          "table": [
           {
            "cells": {
             "fill": {
              "color": "#EBF0F8"
             },
             "line": {
              "color": "white"
             }
            },
            "header": {
             "fill": {
              "color": "#C8D4E3"
             },
             "line": {
              "color": "white"
             }
            },
            "type": "table"
           }
          ]
         },
         "layout": {
          "annotationdefaults": {
           "arrowcolor": "#2a3f5f",
           "arrowhead": 0,
           "arrowwidth": 1
          },
          "autotypenumbers": "strict",
          "coloraxis": {
           "colorbar": {
            "outlinewidth": 0,
            "ticks": ""
           }
          },
          "colorscale": {
           "diverging": [
            [
             0,
             "#8e0152"
            ],
            [
             0.1,
             "#c51b7d"
            ],
            [
             0.2,
             "#de77ae"
            ],
            [
             0.3,
             "#f1b6da"
            ],
            [
             0.4,
             "#fde0ef"
            ],
            [
             0.5,
             "#f7f7f7"
            ],
            [
             0.6,
             "#e6f5d0"
            ],
            [
             0.7,
             "#b8e186"
            ],
            [
             0.8,
             "#7fbc41"
            ],
            [
             0.9,
             "#4d9221"
            ],
            [
             1,
             "#276419"
            ]
           ],
           "sequential": [
            [
             0,
             "#0d0887"
            ],
            [
             0.1111111111111111,
             "#46039f"
            ],
            [
             0.2222222222222222,
             "#7201a8"
            ],
            [
             0.3333333333333333,
             "#9c179e"
            ],
            [
             0.4444444444444444,
             "#bd3786"
            ],
            [
             0.5555555555555556,
             "#d8576b"
            ],
            [
             0.6666666666666666,
             "#ed7953"
            ],
            [
             0.7777777777777778,
             "#fb9f3a"
            ],
            [
             0.8888888888888888,
             "#fdca26"
            ],
            [
             1,
             "#f0f921"
            ]
           ],
           "sequentialminus": [
            [
             0,
             "#0d0887"
            ],
            [
             0.1111111111111111,
             "#46039f"
            ],
            [
             0.2222222222222222,
             "#7201a8"
            ],
            [
             0.3333333333333333,
             "#9c179e"
            ],
            [
             0.4444444444444444,
             "#bd3786"
            ],
            [
             0.5555555555555556,
             "#d8576b"
            ],
            [
             0.6666666666666666,
             "#ed7953"
            ],
            [
             0.7777777777777778,
             "#fb9f3a"
            ],
            [
             0.8888888888888888,
             "#fdca26"
            ],
            [
             1,
             "#f0f921"
            ]
           ]
          },
          "colorway": [
           "#636efa",
           "#EF553B",
           "#00cc96",
           "#ab63fa",
           "#FFA15A",
           "#19d3f3",
           "#FF6692",
           "#B6E880",
           "#FF97FF",
           "#FECB52"
          ],
          "font": {
           "color": "#2a3f5f"
          },
          "geo": {
           "bgcolor": "white",
           "lakecolor": "white",
           "landcolor": "#E5ECF6",
           "showlakes": true,
           "showland": true,
           "subunitcolor": "white"
          },
          "hoverlabel": {
           "align": "left"
          },
          "hovermode": "closest",
          "mapbox": {
           "style": "light"
          },
          "paper_bgcolor": "white",
          "plot_bgcolor": "#E5ECF6",
          "polar": {
           "angularaxis": {
            "gridcolor": "white",
            "linecolor": "white",
            "ticks": ""
           },
           "bgcolor": "#E5ECF6",
           "radialaxis": {
            "gridcolor": "white",
            "linecolor": "white",
            "ticks": ""
           }
          },
          "scene": {
           "xaxis": {
            "backgroundcolor": "#E5ECF6",
            "gridcolor": "white",
            "gridwidth": 2,
            "linecolor": "white",
            "showbackground": true,
            "ticks": "",
            "zerolinecolor": "white"
           },
           "yaxis": {
            "backgroundcolor": "#E5ECF6",
            "gridcolor": "white",
            "gridwidth": 2,
            "linecolor": "white",
            "showbackground": true,
            "ticks": "",
            "zerolinecolor": "white"
           },
           "zaxis": {
            "backgroundcolor": "#E5ECF6",
            "gridcolor": "white",
            "gridwidth": 2,
            "linecolor": "white",
            "showbackground": true,
            "ticks": "",
            "zerolinecolor": "white"
           }
          },
          "shapedefaults": {
           "line": {
            "color": "#2a3f5f"
           }
          },
          "ternary": {
           "aaxis": {
            "gridcolor": "white",
            "linecolor": "white",
            "ticks": ""
           },
           "baxis": {
            "gridcolor": "white",
            "linecolor": "white",
            "ticks": ""
           },
           "bgcolor": "#E5ECF6",
           "caxis": {
            "gridcolor": "white",
            "linecolor": "white",
            "ticks": ""
           }
          },
          "title": {
           "x": 0.05
          },
          "xaxis": {
           "automargin": true,
           "gridcolor": "white",
           "linecolor": "white",
           "ticks": "",
           "title": {
            "standoff": 15
           },
           "zerolinecolor": "white",
           "zerolinewidth": 2
          },
          "yaxis": {
           "automargin": true,
           "gridcolor": "white",
           "linecolor": "white",
           "ticks": "",
           "title": {
            "standoff": 15
           },
           "zerolinecolor": "white",
           "zerolinewidth": 2
          }
         }
        },
        "title": {
         "text": "Distribution of Impression"
        },
        "xaxis": {
         "anchor": "y",
         "domain": [
          0,
          1
         ],
         "title": {
          "text": "Impressions"
         }
        },
        "yaxis": {
         "anchor": "x",
         "domain": [
          0,
          1
         ],
         "title": {
          "text": "count"
         }
        }
       }
      }
     },
     "metadata": {},
     "output_type": "display_data"
    }
   ],
   "source": [
    "fig1 = px.histogram(data,\n",
    "                   x = 'Impressions',\n",
    "                   nbins = 10,\n",
    "                   title = 'Distribution of Impression')\n",
    "fig1.show()"
   ]
  },
  {
   "cell_type": "code",
   "execution_count": 28,
   "metadata": {},
   "outputs": [
    {
     "data": {
      "application/vnd.plotly.v1+json": {
       "config": {
        "plotlyServerURL": "https://plot.ly"
       },
       "data": [
        {
         "hovertemplate": "index=%{x}<br>Impressions=%{y}<extra></extra>",
         "legendgroup": "",
         "line": {
          "color": "#636efa",
          "dash": "solid"
         },
         "marker": {
          "symbol": "circle"
         },
         "mode": "lines",
         "name": "",
         "orientation": "v",
         "showlegend": false,
         "type": "scatter",
         "x": [
          0,
          1,
          2,
          3,
          4,
          5,
          6,
          7,
          8,
          9,
          10,
          11,
          12,
          13,
          14,
          15,
          16,
          17,
          18,
          19,
          20,
          21,
          22,
          23,
          24,
          25,
          26,
          27,
          28,
          29,
          30,
          31,
          32,
          33,
          34,
          35,
          36,
          37,
          38,
          39,
          40,
          41,
          42,
          43,
          44,
          45,
          46,
          47,
          48,
          49,
          50,
          51,
          52,
          53,
          54,
          55,
          56,
          57,
          58,
          59,
          60,
          61,
          62,
          63,
          64,
          65,
          66,
          67,
          68,
          69,
          70,
          71,
          72,
          73,
          74,
          75,
          76,
          77,
          78,
          79,
          80,
          81,
          82,
          83,
          84,
          85,
          86,
          87,
          88,
          89,
          90,
          91,
          92,
          93,
          94,
          95,
          96,
          97,
          98,
          99,
          100,
          101,
          102,
          103,
          104,
          105,
          106,
          107,
          108,
          109,
          110,
          111,
          112,
          113,
          114,
          115,
          116,
          117,
          118
         ],
         "xaxis": "x",
         "y": [
          3920,
          5394,
          4021,
          4528,
          2518,
          3884,
          2621,
          3541,
          3749,
          4115,
          2218,
          3234,
          4344,
          3216,
          9453,
          5055,
          4002,
          3169,
          6168,
          2407,
          2064,
          3973,
          7281,
          3052,
          4628,
          4082,
          5394,
          2766,
          3924,
          3015,
          6666,
          3854,
          4355,
          4343,
          6108,
          2523,
          2327,
          3990,
          2191,
          1941,
          16062,
          4998,
          4289,
          3880,
          3786,
          4298,
          3630,
          2826,
          7407,
          10386,
          2998,
          7018,
          2941,
          6432,
          10667,
          3988,
          4978,
          3388,
          4467,
          3246,
          5072,
          6339,
          4239,
          3454,
          7571,
          3333,
          3818,
          10933,
          5058,
          3601,
          3480,
          3525,
          3606,
          5542,
          6559,
          3623,
          10493,
          4446,
          2957,
          5538,
          4681,
          5273,
          5055,
          4002,
          3169,
          6168,
          2407,
          3630,
          2826,
          7407,
          10386,
          2998,
          3052,
          4628,
          4082,
          5394,
          2766,
          3924,
          3015,
          5409,
          5323,
          8001,
          4150,
          4609,
          6348,
          11068,
          7231,
          17396,
          6814,
          17713,
          5563,
          4842,
          11149,
          10206,
          13700,
          5731,
          4139,
          32695,
          36919
         ],
         "yaxis": "y"
        }
       ],
       "layout": {
        "legend": {
         "tracegroupgap": 0
        },
        "template": {
         "data": {
          "bar": [
           {
            "error_x": {
             "color": "#2a3f5f"
            },
            "error_y": {
             "color": "#2a3f5f"
            },
            "marker": {
             "line": {
              "color": "#E5ECF6",
              "width": 0.5
             },
             "pattern": {
              "fillmode": "overlay",
              "size": 10,
              "solidity": 0.2
             }
            },
            "type": "bar"
           }
          ],
          "barpolar": [
           {
            "marker": {
             "line": {
              "color": "#E5ECF6",
              "width": 0.5
             },
             "pattern": {
              "fillmode": "overlay",
              "size": 10,
              "solidity": 0.2
             }
            },
            "type": "barpolar"
           }
          ],
          "carpet": [
           {
            "aaxis": {
             "endlinecolor": "#2a3f5f",
             "gridcolor": "white",
             "linecolor": "white",
             "minorgridcolor": "white",
             "startlinecolor": "#2a3f5f"
            },
            "baxis": {
             "endlinecolor": "#2a3f5f",
             "gridcolor": "white",
             "linecolor": "white",
             "minorgridcolor": "white",
             "startlinecolor": "#2a3f5f"
            },
            "type": "carpet"
           }
          ],
          "choropleth": [
           {
            "colorbar": {
             "outlinewidth": 0,
             "ticks": ""
            },
            "type": "choropleth"
           }
          ],
          "contour": [
           {
            "colorbar": {
             "outlinewidth": 0,
             "ticks": ""
            },
            "colorscale": [
             [
              0,
              "#0d0887"
             ],
             [
              0.1111111111111111,
              "#46039f"
             ],
             [
              0.2222222222222222,
              "#7201a8"
             ],
             [
              0.3333333333333333,
              "#9c179e"
             ],
             [
              0.4444444444444444,
              "#bd3786"
             ],
             [
              0.5555555555555556,
              "#d8576b"
             ],
             [
              0.6666666666666666,
              "#ed7953"
             ],
             [
              0.7777777777777778,
              "#fb9f3a"
             ],
             [
              0.8888888888888888,
              "#fdca26"
             ],
             [
              1,
              "#f0f921"
             ]
            ],
            "type": "contour"
           }
          ],
          "contourcarpet": [
           {
            "colorbar": {
             "outlinewidth": 0,
             "ticks": ""
            },
            "type": "contourcarpet"
           }
          ],
          "heatmap": [
           {
            "colorbar": {
             "outlinewidth": 0,
             "ticks": ""
            },
            "colorscale": [
             [
              0,
              "#0d0887"
             ],
             [
              0.1111111111111111,
              "#46039f"
             ],
             [
              0.2222222222222222,
              "#7201a8"
             ],
             [
              0.3333333333333333,
              "#9c179e"
             ],
             [
              0.4444444444444444,
              "#bd3786"
             ],
             [
              0.5555555555555556,
              "#d8576b"
             ],
             [
              0.6666666666666666,
              "#ed7953"
             ],
             [
              0.7777777777777778,
              "#fb9f3a"
             ],
             [
              0.8888888888888888,
              "#fdca26"
             ],
             [
              1,
              "#f0f921"
             ]
            ],
            "type": "heatmap"
           }
          ],
          "heatmapgl": [
           {
            "colorbar": {
             "outlinewidth": 0,
             "ticks": ""
            },
            "colorscale": [
             [
              0,
              "#0d0887"
             ],
             [
              0.1111111111111111,
              "#46039f"
             ],
             [
              0.2222222222222222,
              "#7201a8"
             ],
             [
              0.3333333333333333,
              "#9c179e"
             ],
             [
              0.4444444444444444,
              "#bd3786"
             ],
             [
              0.5555555555555556,
              "#d8576b"
             ],
             [
              0.6666666666666666,
              "#ed7953"
             ],
             [
              0.7777777777777778,
              "#fb9f3a"
             ],
             [
              0.8888888888888888,
              "#fdca26"
             ],
             [
              1,
              "#f0f921"
             ]
            ],
            "type": "heatmapgl"
           }
          ],
          "histogram": [
           {
            "marker": {
             "pattern": {
              "fillmode": "overlay",
              "size": 10,
              "solidity": 0.2
             }
            },
            "type": "histogram"
           }
          ],
          "histogram2d": [
           {
            "colorbar": {
             "outlinewidth": 0,
             "ticks": ""
            },
            "colorscale": [
             [
              0,
              "#0d0887"
             ],
             [
              0.1111111111111111,
              "#46039f"
             ],
             [
              0.2222222222222222,
              "#7201a8"
             ],
             [
              0.3333333333333333,
              "#9c179e"
             ],
             [
              0.4444444444444444,
              "#bd3786"
             ],
             [
              0.5555555555555556,
              "#d8576b"
             ],
             [
              0.6666666666666666,
              "#ed7953"
             ],
             [
              0.7777777777777778,
              "#fb9f3a"
             ],
             [
              0.8888888888888888,
              "#fdca26"
             ],
             [
              1,
              "#f0f921"
             ]
            ],
            "type": "histogram2d"
           }
          ],
          "histogram2dcontour": [
           {
            "colorbar": {
             "outlinewidth": 0,
             "ticks": ""
            },
            "colorscale": [
             [
              0,
              "#0d0887"
             ],
             [
              0.1111111111111111,
              "#46039f"
             ],
             [
              0.2222222222222222,
              "#7201a8"
             ],
             [
              0.3333333333333333,
              "#9c179e"
             ],
             [
              0.4444444444444444,
              "#bd3786"
             ],
             [
              0.5555555555555556,
              "#d8576b"
             ],
             [
              0.6666666666666666,
              "#ed7953"
             ],
             [
              0.7777777777777778,
              "#fb9f3a"
             ],
             [
              0.8888888888888888,
              "#fdca26"
             ],
             [
              1,
              "#f0f921"
             ]
            ],
            "type": "histogram2dcontour"
           }
          ],
          "mesh3d": [
           {
            "colorbar": {
             "outlinewidth": 0,
             "ticks": ""
            },
            "type": "mesh3d"
           }
          ],
          "parcoords": [
           {
            "line": {
             "colorbar": {
              "outlinewidth": 0,
              "ticks": ""
             }
            },
            "type": "parcoords"
           }
          ],
          "pie": [
           {
            "automargin": true,
            "type": "pie"
           }
          ],
          "scatter": [
           {
            "fillpattern": {
             "fillmode": "overlay",
             "size": 10,
             "solidity": 0.2
            },
            "type": "scatter"
           }
          ],
          "scatter3d": [
           {
            "line": {
             "colorbar": {
              "outlinewidth": 0,
              "ticks": ""
             }
            },
            "marker": {
             "colorbar": {
              "outlinewidth": 0,
              "ticks": ""
             }
            },
            "type": "scatter3d"
           }
          ],
          "scattercarpet": [
           {
            "marker": {
             "colorbar": {
              "outlinewidth": 0,
              "ticks": ""
             }
            },
            "type": "scattercarpet"
           }
          ],
          "scattergeo": [
           {
            "marker": {
             "colorbar": {
              "outlinewidth": 0,
              "ticks": ""
             }
            },
            "type": "scattergeo"
           }
          ],
          "scattergl": [
           {
            "marker": {
             "colorbar": {
              "outlinewidth": 0,
              "ticks": ""
             }
            },
            "type": "scattergl"
           }
          ],
          "scattermapbox": [
           {
            "marker": {
             "colorbar": {
              "outlinewidth": 0,
              "ticks": ""
             }
            },
            "type": "scattermapbox"
           }
          ],
          "scatterpolar": [
           {
            "marker": {
             "colorbar": {
              "outlinewidth": 0,
              "ticks": ""
             }
            },
            "type": "scatterpolar"
           }
          ],
          "scatterpolargl": [
           {
            "marker": {
             "colorbar": {
              "outlinewidth": 0,
              "ticks": ""
             }
            },
            "type": "scatterpolargl"
           }
          ],
          "scatterternary": [
           {
            "marker": {
             "colorbar": {
              "outlinewidth": 0,
              "ticks": ""
             }
            },
            "type": "scatterternary"
           }
          ],
          "surface": [
           {
            "colorbar": {
             "outlinewidth": 0,
             "ticks": ""
            },
            "colorscale": [
             [
              0,
              "#0d0887"
             ],
             [
              0.1111111111111111,
              "#46039f"
             ],
             [
              0.2222222222222222,
              "#7201a8"
             ],
             [
              0.3333333333333333,
              "#9c179e"
             ],
             [
              0.4444444444444444,
              "#bd3786"
             ],
             [
              0.5555555555555556,
              "#d8576b"
             ],
             [
              0.6666666666666666,
              "#ed7953"
             ],
             [
              0.7777777777777778,
              "#fb9f3a"
             ],
             [
              0.8888888888888888,
              "#fdca26"
             ],
             [
              1,
              "#f0f921"
             ]
            ],
            "type": "surface"
           }
          ],
          "table": [
           {
            "cells": {
             "fill": {
              "color": "#EBF0F8"
             },
             "line": {
              "color": "white"
             }
            },
            "header": {
             "fill": {
              "color": "#C8D4E3"
             },
             "line": {
              "color": "white"
             }
            },
            "type": "table"
           }
          ]
         },
         "layout": {
          "annotationdefaults": {
           "arrowcolor": "#2a3f5f",
           "arrowhead": 0,
           "arrowwidth": 1
          },
          "autotypenumbers": "strict",
          "coloraxis": {
           "colorbar": {
            "outlinewidth": 0,
            "ticks": ""
           }
          },
          "colorscale": {
           "diverging": [
            [
             0,
             "#8e0152"
            ],
            [
             0.1,
             "#c51b7d"
            ],
            [
             0.2,
             "#de77ae"
            ],
            [
             0.3,
             "#f1b6da"
            ],
            [
             0.4,
             "#fde0ef"
            ],
            [
             0.5,
             "#f7f7f7"
            ],
            [
             0.6,
             "#e6f5d0"
            ],
            [
             0.7,
             "#b8e186"
            ],
            [
             0.8,
             "#7fbc41"
            ],
            [
             0.9,
             "#4d9221"
            ],
            [
             1,
             "#276419"
            ]
           ],
           "sequential": [
            [
             0,
             "#0d0887"
            ],
            [
             0.1111111111111111,
             "#46039f"
            ],
            [
             0.2222222222222222,
             "#7201a8"
            ],
            [
             0.3333333333333333,
             "#9c179e"
            ],
            [
             0.4444444444444444,
             "#bd3786"
            ],
            [
             0.5555555555555556,
             "#d8576b"
            ],
            [
             0.6666666666666666,
             "#ed7953"
            ],
            [
             0.7777777777777778,
             "#fb9f3a"
            ],
            [
             0.8888888888888888,
             "#fdca26"
            ],
            [
             1,
             "#f0f921"
            ]
           ],
           "sequentialminus": [
            [
             0,
             "#0d0887"
            ],
            [
             0.1111111111111111,
             "#46039f"
            ],
            [
             0.2222222222222222,
             "#7201a8"
            ],
            [
             0.3333333333333333,
             "#9c179e"
            ],
            [
             0.4444444444444444,
             "#bd3786"
            ],
            [
             0.5555555555555556,
             "#d8576b"
            ],
            [
             0.6666666666666666,
             "#ed7953"
            ],
            [
             0.7777777777777778,
             "#fb9f3a"
            ],
            [
             0.8888888888888888,
             "#fdca26"
            ],
            [
             1,
             "#f0f921"
            ]
           ]
          },
          "colorway": [
           "#636efa",
           "#EF553B",
           "#00cc96",
           "#ab63fa",
           "#FFA15A",
           "#19d3f3",
           "#FF6692",
           "#B6E880",
           "#FF97FF",
           "#FECB52"
          ],
          "font": {
           "color": "#2a3f5f"
          },
          "geo": {
           "bgcolor": "white",
           "lakecolor": "white",
           "landcolor": "#E5ECF6",
           "showlakes": true,
           "showland": true,
           "subunitcolor": "white"
          },
          "hoverlabel": {
           "align": "left"
          },
          "hovermode": "closest",
          "mapbox": {
           "style": "light"
          },
          "paper_bgcolor": "white",
          "plot_bgcolor": "#E5ECF6",
          "polar": {
           "angularaxis": {
            "gridcolor": "white",
            "linecolor": "white",
            "ticks": ""
           },
           "bgcolor": "#E5ECF6",
           "radialaxis": {
            "gridcolor": "white",
            "linecolor": "white",
            "ticks": ""
           }
          },
          "scene": {
           "xaxis": {
            "backgroundcolor": "#E5ECF6",
            "gridcolor": "white",
            "gridwidth": 2,
            "linecolor": "white",
            "showbackground": true,
            "ticks": "",
            "zerolinecolor": "white"
           },
           "yaxis": {
            "backgroundcolor": "#E5ECF6",
            "gridcolor": "white",
            "gridwidth": 2,
            "linecolor": "white",
            "showbackground": true,
            "ticks": "",
            "zerolinecolor": "white"
           },
           "zaxis": {
            "backgroundcolor": "#E5ECF6",
            "gridcolor": "white",
            "gridwidth": 2,
            "linecolor": "white",
            "showbackground": true,
            "ticks": "",
            "zerolinecolor": "white"
           }
          },
          "shapedefaults": {
           "line": {
            "color": "#2a3f5f"
           }
          },
          "ternary": {
           "aaxis": {
            "gridcolor": "white",
            "linecolor": "white",
            "ticks": ""
           },
           "baxis": {
            "gridcolor": "white",
            "linecolor": "white",
            "ticks": ""
           },
           "bgcolor": "#E5ECF6",
           "caxis": {
            "gridcolor": "white",
            "linecolor": "white",
            "ticks": ""
           }
          },
          "title": {
           "x": 0.05
          },
          "xaxis": {
           "automargin": true,
           "gridcolor": "white",
           "linecolor": "white",
           "ticks": "",
           "title": {
            "standoff": 15
           },
           "zerolinecolor": "white",
           "zerolinewidth": 2
          },
          "yaxis": {
           "automargin": true,
           "gridcolor": "white",
           "linecolor": "white",
           "ticks": "",
           "title": {
            "standoff": 15
           },
           "zerolinecolor": "white",
           "zerolinewidth": 2
          }
         }
        },
        "title": {
         "text": "Impression Over Time"
        },
        "xaxis": {
         "anchor": "y",
         "domain": [
          0,
          1
         ],
         "title": {
          "text": "index"
         }
        },
        "yaxis": {
         "anchor": "x",
         "domain": [
          0,
          1
         ],
         "title": {
          "text": "Impressions"
         }
        }
       }
      }
     },
     "metadata": {},
     "output_type": "display_data"
    }
   ],
   "source": [
    "fig2 = px.line(data,\n",
    "               x = data.index,\n",
    "               y = 'Impressions',\n",
    "               title = 'Impression Over Time')\n",
    "fig2.show()"
   ]
  },
  {
   "cell_type": "code",
   "execution_count": 29,
   "metadata": {},
   "outputs": [
    {
     "data": {
      "application/vnd.plotly.v1+json": {
       "config": {
        "plotlyServerURL": "https://plot.ly"
       },
       "data": [
        {
         "name": "Likes",
         "type": "scatter",
         "x": [
          0,
          1,
          2,
          3,
          4,
          5,
          6,
          7,
          8,
          9,
          10,
          11,
          12,
          13,
          14,
          15,
          16,
          17,
          18,
          19,
          20,
          21,
          22,
          23,
          24,
          25,
          26,
          27,
          28,
          29,
          30,
          31,
          32,
          33,
          34,
          35,
          36,
          37,
          38,
          39,
          40,
          41,
          42,
          43,
          44,
          45,
          46,
          47,
          48,
          49,
          50,
          51,
          52,
          53,
          54,
          55,
          56,
          57,
          58,
          59,
          60,
          61,
          62,
          63,
          64,
          65,
          66,
          67,
          68,
          69,
          70,
          71,
          72,
          73,
          74,
          75,
          76,
          77,
          78,
          79,
          80,
          81,
          82,
          83,
          84,
          85,
          86,
          87,
          88,
          89,
          90,
          91,
          92,
          93,
          94,
          95,
          96,
          97,
          98,
          99,
          100,
          101,
          102,
          103,
          104,
          105,
          106,
          107,
          108,
          109,
          110,
          111,
          112,
          113,
          114,
          115,
          116,
          117,
          118
         ],
         "y": [
          162,
          224,
          131,
          213,
          123,
          144,
          76,
          124,
          159,
          191,
          81,
          151,
          162,
          142,
          294,
          159,
          205,
          121,
          151,
          72,
          76,
          91,
          195,
          129,
          160,
          175,
          147,
          114,
          151,
          92,
          214,
          150,
          122,
          152,
          196,
          86,
          85,
          156,
          72,
          82,
          416,
          180,
          150,
          127,
          167,
          225,
          137,
          114,
          263,
          328,
          126,
          236,
          99,
          212,
          297,
          142,
          186,
          112,
          149,
          132,
          115,
          248,
          178,
          107,
          269,
          96,
          134,
          301,
          187,
          94,
          114,
          96,
          138,
          122,
          257,
          95,
          244,
          190,
          118,
          178,
          170,
          250,
          159,
          205,
          121,
          151,
          72,
          137,
          114,
          263,
          328,
          126,
          129,
          160,
          175,
          147,
          114,
          151,
          92,
          275,
          192,
          203,
          145,
          168,
          194,
          250,
          171,
          416,
          249,
          308,
          163,
          86,
          210,
          172,
          373,
          148,
          92,
          549,
          443
         ]
        },
        {
         "name": "Saves",
         "type": "scatter",
         "x": [
          0,
          1,
          2,
          3,
          4,
          5,
          6,
          7,
          8,
          9,
          10,
          11,
          12,
          13,
          14,
          15,
          16,
          17,
          18,
          19,
          20,
          21,
          22,
          23,
          24,
          25,
          26,
          27,
          28,
          29,
          30,
          31,
          32,
          33,
          34,
          35,
          36,
          37,
          38,
          39,
          40,
          41,
          42,
          43,
          44,
          45,
          46,
          47,
          48,
          49,
          50,
          51,
          52,
          53,
          54,
          55,
          56,
          57,
          58,
          59,
          60,
          61,
          62,
          63,
          64,
          65,
          66,
          67,
          68,
          69,
          70,
          71,
          72,
          73,
          74,
          75,
          76,
          77,
          78,
          79,
          80,
          81,
          82,
          83,
          84,
          85,
          86,
          87,
          88,
          89,
          90,
          91,
          92,
          93,
          94,
          95,
          96,
          97,
          98,
          99,
          100,
          101,
          102,
          103,
          104,
          105,
          106,
          107,
          108,
          109,
          110,
          111,
          112,
          113,
          114,
          115,
          116,
          117,
          118
         ],
         "y": [
          98,
          194,
          41,
          172,
          96,
          74,
          22,
          135,
          155,
          122,
          28,
          122,
          119,
          121,
          100,
          101,
          111,
          106,
          82,
          40,
          49,
          72,
          167,
          63,
          144,
          135,
          61,
          40,
          139,
          52,
          84,
          81,
          79,
          105,
          90,
          34,
          45,
          98,
          35,
          49,
          252,
          167,
          111,
          90,
          144,
          263,
          137,
          67,
          288,
          668,
          42,
          342,
          48,
          250,
          219,
          118,
          143,
          99,
          89,
          148,
          42,
          171,
          109,
          38,
          421,
          38,
          116,
          225,
          144,
          51,
          104,
          33,
          174,
          46,
          179,
          34,
          99,
          174,
          70,
          149,
          207,
          318,
          101,
          111,
          106,
          82,
          40,
          137,
          67,
          288,
          668,
          42,
          63,
          144,
          135,
          61,
          40,
          139,
          52,
          393,
          152,
          83,
          74,
          94,
          188,
          214,
          73,
          285,
          469,
          504,
          149,
          55,
          273,
          182,
          573,
          135,
          36,
          1095,
          653
         ]
        },
        {
         "name": "Follows",
         "type": "scatter",
         "x": [
          0,
          1,
          2,
          3,
          4,
          5,
          6,
          7,
          8,
          9,
          10,
          11,
          12,
          13,
          14,
          15,
          16,
          17,
          18,
          19,
          20,
          21,
          22,
          23,
          24,
          25,
          26,
          27,
          28,
          29,
          30,
          31,
          32,
          33,
          34,
          35,
          36,
          37,
          38,
          39,
          40,
          41,
          42,
          43,
          44,
          45,
          46,
          47,
          48,
          49,
          50,
          51,
          52,
          53,
          54,
          55,
          56,
          57,
          58,
          59,
          60,
          61,
          62,
          63,
          64,
          65,
          66,
          67,
          68,
          69,
          70,
          71,
          72,
          73,
          74,
          75,
          76,
          77,
          78,
          79,
          80,
          81,
          82,
          83,
          84,
          85,
          86,
          87,
          88,
          89,
          90,
          91,
          92,
          93,
          94,
          95,
          96,
          97,
          98,
          99,
          100,
          101,
          102,
          103,
          104,
          105,
          106,
          107,
          108,
          109,
          110,
          111,
          112,
          113,
          114,
          115,
          116,
          117,
          118
         ],
         "y": [
          2,
          10,
          12,
          8,
          0,
          2,
          0,
          6,
          4,
          6,
          4,
          0,
          2,
          4,
          42,
          6,
          2,
          2,
          30,
          0,
          0,
          24,
          100,
          2,
          4,
          6,
          6,
          6,
          2,
          2,
          20,
          2,
          4,
          8,
          26,
          2,
          2,
          4,
          0,
          2,
          94,
          8,
          18,
          10,
          4,
          4,
          4,
          4,
          18,
          38,
          10,
          12,
          4,
          4,
          74,
          0,
          6,
          6,
          0,
          6,
          12,
          10,
          8,
          8,
          46,
          12,
          10,
          94,
          6,
          10,
          6,
          4,
          12,
          16,
          12,
          8,
          32,
          8,
          16,
          6,
          10,
          10,
          6,
          2,
          2,
          30,
          0,
          4,
          4,
          18,
          38,
          10,
          2,
          4,
          6,
          6,
          6,
          2,
          2,
          14,
          8,
          14,
          28,
          18,
          12,
          34,
          26,
          260,
          16,
          96,
          20,
          30,
          58,
          100,
          80,
          18,
          10,
          214,
          228
         ]
        }
       ],
       "layout": {
        "template": {
         "data": {
          "bar": [
           {
            "error_x": {
             "color": "#2a3f5f"
            },
            "error_y": {
             "color": "#2a3f5f"
            },
            "marker": {
             "line": {
              "color": "#E5ECF6",
              "width": 0.5
             },
             "pattern": {
              "fillmode": "overlay",
              "size": 10,
              "solidity": 0.2
             }
            },
            "type": "bar"
           }
          ],
          "barpolar": [
           {
            "marker": {
             "line": {
              "color": "#E5ECF6",
              "width": 0.5
             },
             "pattern": {
              "fillmode": "overlay",
              "size": 10,
              "solidity": 0.2
             }
            },
            "type": "barpolar"
           }
          ],
          "carpet": [
           {
            "aaxis": {
             "endlinecolor": "#2a3f5f",
             "gridcolor": "white",
             "linecolor": "white",
             "minorgridcolor": "white",
             "startlinecolor": "#2a3f5f"
            },
            "baxis": {
             "endlinecolor": "#2a3f5f",
             "gridcolor": "white",
             "linecolor": "white",
             "minorgridcolor": "white",
             "startlinecolor": "#2a3f5f"
            },
            "type": "carpet"
           }
          ],
          "choropleth": [
           {
            "colorbar": {
             "outlinewidth": 0,
             "ticks": ""
            },
            "type": "choropleth"
           }
          ],
          "contour": [
           {
            "colorbar": {
             "outlinewidth": 0,
             "ticks": ""
            },
            "colorscale": [
             [
              0,
              "#0d0887"
             ],
             [
              0.1111111111111111,
              "#46039f"
             ],
             [
              0.2222222222222222,
              "#7201a8"
             ],
             [
              0.3333333333333333,
              "#9c179e"
             ],
             [
              0.4444444444444444,
              "#bd3786"
             ],
             [
              0.5555555555555556,
              "#d8576b"
             ],
             [
              0.6666666666666666,
              "#ed7953"
             ],
             [
              0.7777777777777778,
              "#fb9f3a"
             ],
             [
              0.8888888888888888,
              "#fdca26"
             ],
             [
              1,
              "#f0f921"
             ]
            ],
            "type": "contour"
           }
          ],
          "contourcarpet": [
           {
            "colorbar": {
             "outlinewidth": 0,
             "ticks": ""
            },
            "type": "contourcarpet"
           }
          ],
          "heatmap": [
           {
            "colorbar": {
             "outlinewidth": 0,
             "ticks": ""
            },
            "colorscale": [
             [
              0,
              "#0d0887"
             ],
             [
              0.1111111111111111,
              "#46039f"
             ],
             [
              0.2222222222222222,
              "#7201a8"
             ],
             [
              0.3333333333333333,
              "#9c179e"
             ],
             [
              0.4444444444444444,
              "#bd3786"
             ],
             [
              0.5555555555555556,
              "#d8576b"
             ],
             [
              0.6666666666666666,
              "#ed7953"
             ],
             [
              0.7777777777777778,
              "#fb9f3a"
             ],
             [
              0.8888888888888888,
              "#fdca26"
             ],
             [
              1,
              "#f0f921"
             ]
            ],
            "type": "heatmap"
           }
          ],
          "heatmapgl": [
           {
            "colorbar": {
             "outlinewidth": 0,
             "ticks": ""
            },
            "colorscale": [
             [
              0,
              "#0d0887"
             ],
             [
              0.1111111111111111,
              "#46039f"
             ],
             [
              0.2222222222222222,
              "#7201a8"
             ],
             [
              0.3333333333333333,
              "#9c179e"
             ],
             [
              0.4444444444444444,
              "#bd3786"
             ],
             [
              0.5555555555555556,
              "#d8576b"
             ],
             [
              0.6666666666666666,
              "#ed7953"
             ],
             [
              0.7777777777777778,
              "#fb9f3a"
             ],
             [
              0.8888888888888888,
              "#fdca26"
             ],
             [
              1,
              "#f0f921"
             ]
            ],
            "type": "heatmapgl"
           }
          ],
          "histogram": [
           {
            "marker": {
             "pattern": {
              "fillmode": "overlay",
              "size": 10,
              "solidity": 0.2
             }
            },
            "type": "histogram"
           }
          ],
          "histogram2d": [
           {
            "colorbar": {
             "outlinewidth": 0,
             "ticks": ""
            },
            "colorscale": [
             [
              0,
              "#0d0887"
             ],
             [
              0.1111111111111111,
              "#46039f"
             ],
             [
              0.2222222222222222,
              "#7201a8"
             ],
             [
              0.3333333333333333,
              "#9c179e"
             ],
             [
              0.4444444444444444,
              "#bd3786"
             ],
             [
              0.5555555555555556,
              "#d8576b"
             ],
             [
              0.6666666666666666,
              "#ed7953"
             ],
             [
              0.7777777777777778,
              "#fb9f3a"
             ],
             [
              0.8888888888888888,
              "#fdca26"
             ],
             [
              1,
              "#f0f921"
             ]
            ],
            "type": "histogram2d"
           }
          ],
          "histogram2dcontour": [
           {
            "colorbar": {
             "outlinewidth": 0,
             "ticks": ""
            },
            "colorscale": [
             [
              0,
              "#0d0887"
             ],
             [
              0.1111111111111111,
              "#46039f"
             ],
             [
              0.2222222222222222,
              "#7201a8"
             ],
             [
              0.3333333333333333,
              "#9c179e"
             ],
             [
              0.4444444444444444,
              "#bd3786"
             ],
             [
              0.5555555555555556,
              "#d8576b"
             ],
             [
              0.6666666666666666,
              "#ed7953"
             ],
             [
              0.7777777777777778,
              "#fb9f3a"
             ],
             [
              0.8888888888888888,
              "#fdca26"
             ],
             [
              1,
              "#f0f921"
             ]
            ],
            "type": "histogram2dcontour"
           }
          ],
          "mesh3d": [
           {
            "colorbar": {
             "outlinewidth": 0,
             "ticks": ""
            },
            "type": "mesh3d"
           }
          ],
          "parcoords": [
           {
            "line": {
             "colorbar": {
              "outlinewidth": 0,
              "ticks": ""
             }
            },
            "type": "parcoords"
           }
          ],
          "pie": [
           {
            "automargin": true,
            "type": "pie"
           }
          ],
          "scatter": [
           {
            "fillpattern": {
             "fillmode": "overlay",
             "size": 10,
             "solidity": 0.2
            },
            "type": "scatter"
           }
          ],
          "scatter3d": [
           {
            "line": {
             "colorbar": {
              "outlinewidth": 0,
              "ticks": ""
             }
            },
            "marker": {
             "colorbar": {
              "outlinewidth": 0,
              "ticks": ""
             }
            },
            "type": "scatter3d"
           }
          ],
          "scattercarpet": [
           {
            "marker": {
             "colorbar": {
              "outlinewidth": 0,
              "ticks": ""
             }
            },
            "type": "scattercarpet"
           }
          ],
          "scattergeo": [
           {
            "marker": {
             "colorbar": {
              "outlinewidth": 0,
              "ticks": ""
             }
            },
            "type": "scattergeo"
           }
          ],
          "scattergl": [
           {
            "marker": {
             "colorbar": {
              "outlinewidth": 0,
              "ticks": ""
             }
            },
            "type": "scattergl"
           }
          ],
          "scattermapbox": [
           {
            "marker": {
             "colorbar": {
              "outlinewidth": 0,
              "ticks": ""
             }
            },
            "type": "scattermapbox"
           }
          ],
          "scatterpolar": [
           {
            "marker": {
             "colorbar": {
              "outlinewidth": 0,
              "ticks": ""
             }
            },
            "type": "scatterpolar"
           }
          ],
          "scatterpolargl": [
           {
            "marker": {
             "colorbar": {
              "outlinewidth": 0,
              "ticks": ""
             }
            },
            "type": "scatterpolargl"
           }
          ],
          "scatterternary": [
           {
            "marker": {
             "colorbar": {
              "outlinewidth": 0,
              "ticks": ""
             }
            },
            "type": "scatterternary"
           }
          ],
          "surface": [
           {
            "colorbar": {
             "outlinewidth": 0,
             "ticks": ""
            },
            "colorscale": [
             [
              0,
              "#0d0887"
             ],
             [
              0.1111111111111111,
              "#46039f"
             ],
             [
              0.2222222222222222,
              "#7201a8"
             ],
             [
              0.3333333333333333,
              "#9c179e"
             ],
             [
              0.4444444444444444,
              "#bd3786"
             ],
             [
              0.5555555555555556,
              "#d8576b"
             ],
             [
              0.6666666666666666,
              "#ed7953"
             ],
             [
              0.7777777777777778,
              "#fb9f3a"
             ],
             [
              0.8888888888888888,
              "#fdca26"
             ],
             [
              1,
              "#f0f921"
             ]
            ],
            "type": "surface"
           }
          ],
          "table": [
           {
            "cells": {
             "fill": {
              "color": "#EBF0F8"
             },
             "line": {
              "color": "white"
             }
            },
            "header": {
             "fill": {
              "color": "#C8D4E3"
             },
             "line": {
              "color": "white"
             }
            },
            "type": "table"
           }
          ]
         },
         "layout": {
          "annotationdefaults": {
           "arrowcolor": "#2a3f5f",
           "arrowhead": 0,
           "arrowwidth": 1
          },
          "autotypenumbers": "strict",
          "coloraxis": {
           "colorbar": {
            "outlinewidth": 0,
            "ticks": ""
           }
          },
          "colorscale": {
           "diverging": [
            [
             0,
             "#8e0152"
            ],
            [
             0.1,
             "#c51b7d"
            ],
            [
             0.2,
             "#de77ae"
            ],
            [
             0.3,
             "#f1b6da"
            ],
            [
             0.4,
             "#fde0ef"
            ],
            [
             0.5,
             "#f7f7f7"
            ],
            [
             0.6,
             "#e6f5d0"
            ],
            [
             0.7,
             "#b8e186"
            ],
            [
             0.8,
             "#7fbc41"
            ],
            [
             0.9,
             "#4d9221"
            ],
            [
             1,
             "#276419"
            ]
           ],
           "sequential": [
            [
             0,
             "#0d0887"
            ],
            [
             0.1111111111111111,
             "#46039f"
            ],
            [
             0.2222222222222222,
             "#7201a8"
            ],
            [
             0.3333333333333333,
             "#9c179e"
            ],
            [
             0.4444444444444444,
             "#bd3786"
            ],
            [
             0.5555555555555556,
             "#d8576b"
            ],
            [
             0.6666666666666666,
             "#ed7953"
            ],
            [
             0.7777777777777778,
             "#fb9f3a"
            ],
            [
             0.8888888888888888,
             "#fdca26"
            ],
            [
             1,
             "#f0f921"
            ]
           ],
           "sequentialminus": [
            [
             0,
             "#0d0887"
            ],
            [
             0.1111111111111111,
             "#46039f"
            ],
            [
             0.2222222222222222,
             "#7201a8"
            ],
            [
             0.3333333333333333,
             "#9c179e"
            ],
            [
             0.4444444444444444,
             "#bd3786"
            ],
            [
             0.5555555555555556,
             "#d8576b"
            ],
            [
             0.6666666666666666,
             "#ed7953"
            ],
            [
             0.7777777777777778,
             "#fb9f3a"
            ],
            [
             0.8888888888888888,
             "#fdca26"
            ],
            [
             1,
             "#f0f921"
            ]
           ]
          },
          "colorway": [
           "#636efa",
           "#EF553B",
           "#00cc96",
           "#ab63fa",
           "#FFA15A",
           "#19d3f3",
           "#FF6692",
           "#B6E880",
           "#FF97FF",
           "#FECB52"
          ],
          "font": {
           "color": "#2a3f5f"
          },
          "geo": {
           "bgcolor": "white",
           "lakecolor": "white",
           "landcolor": "#E5ECF6",
           "showlakes": true,
           "showland": true,
           "subunitcolor": "white"
          },
          "hoverlabel": {
           "align": "left"
          },
          "hovermode": "closest",
          "mapbox": {
           "style": "light"
          },
          "paper_bgcolor": "white",
          "plot_bgcolor": "#E5ECF6",
          "polar": {
           "angularaxis": {
            "gridcolor": "white",
            "linecolor": "white",
            "ticks": ""
           },
           "bgcolor": "#E5ECF6",
           "radialaxis": {
            "gridcolor": "white",
            "linecolor": "white",
            "ticks": ""
           }
          },
          "scene": {
           "xaxis": {
            "backgroundcolor": "#E5ECF6",
            "gridcolor": "white",
            "gridwidth": 2,
            "linecolor": "white",
            "showbackground": true,
            "ticks": "",
            "zerolinecolor": "white"
           },
           "yaxis": {
            "backgroundcolor": "#E5ECF6",
            "gridcolor": "white",
            "gridwidth": 2,
            "linecolor": "white",
            "showbackground": true,
            "ticks": "",
            "zerolinecolor": "white"
           },
           "zaxis": {
            "backgroundcolor": "#E5ECF6",
            "gridcolor": "white",
            "gridwidth": 2,
            "linecolor": "white",
            "showbackground": true,
            "ticks": "",
            "zerolinecolor": "white"
           }
          },
          "shapedefaults": {
           "line": {
            "color": "#2a3f5f"
           }
          },
          "ternary": {
           "aaxis": {
            "gridcolor": "white",
            "linecolor": "white",
            "ticks": ""
           },
           "baxis": {
            "gridcolor": "white",
            "linecolor": "white",
            "ticks": ""
           },
           "bgcolor": "#E5ECF6",
           "caxis": {
            "gridcolor": "white",
            "linecolor": "white",
            "ticks": ""
           }
          },
          "title": {
           "x": 0.05
          },
          "xaxis": {
           "automargin": true,
           "gridcolor": "white",
           "linecolor": "white",
           "ticks": "",
           "title": {
            "standoff": 15
           },
           "zerolinecolor": "white",
           "zerolinewidth": 2
          },
          "yaxis": {
           "automargin": true,
           "gridcolor": "white",
           "linecolor": "white",
           "ticks": "",
           "title": {
            "standoff": 15
           },
           "zerolinecolor": "white",
           "zerolinewidth": 2
          }
         }
        },
        "title": {
         "text": "Metrics Over Time"
        },
        "xaxis": {
         "title": {
          "text": "Date"
         }
        },
        "yaxis": {
         "title": {
          "text": "Count"
         }
        }
       }
      }
     },
     "metadata": {},
     "output_type": "display_data"
    }
   ],
   "source": [
    "fig = go.Figure()\n",
    "\n",
    "fig.add_trace(go.Scatter(x = data.index,y = data['Likes'], name='Likes'))\n",
    "fig.add_trace(go.Scatter(x = data.index,y = data['Saves'], name='Saves'))\n",
    "fig.add_trace(go.Scatter(x = data.index,y = data['Follows'], name='Follows'))\n",
    "\n",
    "fig.update_layout(title = 'Metrics Over Time',\n",
    "                  xaxis_title = 'Date',\n",
    "                  yaxis_title = 'Count')\n",
    "\n",
    "fig.show()"
   ]
  },
  {
   "cell_type": "code",
   "execution_count": 30,
   "metadata": {},
   "outputs": [
    {
     "data": {
      "application/vnd.plotly.v1+json": {
       "config": {
        "plotlyServerURL": "https://plot.ly"
       },
       "data": [
        {
         "domain": {
          "x": [
           0,
           1
          ],
          "y": [
           0,
           1
          ]
         },
         "hovertemplate": "label=%{label}<br>value=%{value}<extra></extra>",
         "labels": [
          "From Home",
          "From Hashtags",
          "From Explore",
          "From Other"
         ],
         "legendgroup": "",
         "name": "",
         "showlegend": true,
         "type": "pie",
         "values": [
          294619,
          224614,
          128294,
          20360
         ]
        }
       ],
       "layout": {
        "legend": {
         "tracegroupgap": 0
        },
        "piecolorway": [
         "#FFB6C1",
         "#87CEFA",
         "#90EE90",
         "#FFDAB9"
        ],
        "template": {
         "data": {
          "bar": [
           {
            "error_x": {
             "color": "#2a3f5f"
            },
            "error_y": {
             "color": "#2a3f5f"
            },
            "marker": {
             "line": {
              "color": "#E5ECF6",
              "width": 0.5
             },
             "pattern": {
              "fillmode": "overlay",
              "size": 10,
              "solidity": 0.2
             }
            },
            "type": "bar"
           }
          ],
          "barpolar": [
           {
            "marker": {
             "line": {
              "color": "#E5ECF6",
              "width": 0.5
             },
             "pattern": {
              "fillmode": "overlay",
              "size": 10,
              "solidity": 0.2
             }
            },
            "type": "barpolar"
           }
          ],
          "carpet": [
           {
            "aaxis": {
             "endlinecolor": "#2a3f5f",
             "gridcolor": "white",
             "linecolor": "white",
             "minorgridcolor": "white",
             "startlinecolor": "#2a3f5f"
            },
            "baxis": {
             "endlinecolor": "#2a3f5f",
             "gridcolor": "white",
             "linecolor": "white",
             "minorgridcolor": "white",
             "startlinecolor": "#2a3f5f"
            },
            "type": "carpet"
           }
          ],
          "choropleth": [
           {
            "colorbar": {
             "outlinewidth": 0,
             "ticks": ""
            },
            "type": "choropleth"
           }
          ],
          "contour": [
           {
            "colorbar": {
             "outlinewidth": 0,
             "ticks": ""
            },
            "colorscale": [
             [
              0,
              "#0d0887"
             ],
             [
              0.1111111111111111,
              "#46039f"
             ],
             [
              0.2222222222222222,
              "#7201a8"
             ],
             [
              0.3333333333333333,
              "#9c179e"
             ],
             [
              0.4444444444444444,
              "#bd3786"
             ],
             [
              0.5555555555555556,
              "#d8576b"
             ],
             [
              0.6666666666666666,
              "#ed7953"
             ],
             [
              0.7777777777777778,
              "#fb9f3a"
             ],
             [
              0.8888888888888888,
              "#fdca26"
             ],
             [
              1,
              "#f0f921"
             ]
            ],
            "type": "contour"
           }
          ],
          "contourcarpet": [
           {
            "colorbar": {
             "outlinewidth": 0,
             "ticks": ""
            },
            "type": "contourcarpet"
           }
          ],
          "heatmap": [
           {
            "colorbar": {
             "outlinewidth": 0,
             "ticks": ""
            },
            "colorscale": [
             [
              0,
              "#0d0887"
             ],
             [
              0.1111111111111111,
              "#46039f"
             ],
             [
              0.2222222222222222,
              "#7201a8"
             ],
             [
              0.3333333333333333,
              "#9c179e"
             ],
             [
              0.4444444444444444,
              "#bd3786"
             ],
             [
              0.5555555555555556,
              "#d8576b"
             ],
             [
              0.6666666666666666,
              "#ed7953"
             ],
             [
              0.7777777777777778,
              "#fb9f3a"
             ],
             [
              0.8888888888888888,
              "#fdca26"
             ],
             [
              1,
              "#f0f921"
             ]
            ],
            "type": "heatmap"
           }
          ],
          "heatmapgl": [
           {
            "colorbar": {
             "outlinewidth": 0,
             "ticks": ""
            },
            "colorscale": [
             [
              0,
              "#0d0887"
             ],
             [
              0.1111111111111111,
              "#46039f"
             ],
             [
              0.2222222222222222,
              "#7201a8"
             ],
             [
              0.3333333333333333,
              "#9c179e"
             ],
             [
              0.4444444444444444,
              "#bd3786"
             ],
             [
              0.5555555555555556,
              "#d8576b"
             ],
             [
              0.6666666666666666,
              "#ed7953"
             ],
             [
              0.7777777777777778,
              "#fb9f3a"
             ],
             [
              0.8888888888888888,
              "#fdca26"
             ],
             [
              1,
              "#f0f921"
             ]
            ],
            "type": "heatmapgl"
           }
          ],
          "histogram": [
           {
            "marker": {
             "pattern": {
              "fillmode": "overlay",
              "size": 10,
              "solidity": 0.2
             }
            },
            "type": "histogram"
           }
          ],
          "histogram2d": [
           {
            "colorbar": {
             "outlinewidth": 0,
             "ticks": ""
            },
            "colorscale": [
             [
              0,
              "#0d0887"
             ],
             [
              0.1111111111111111,
              "#46039f"
             ],
             [
              0.2222222222222222,
              "#7201a8"
             ],
             [
              0.3333333333333333,
              "#9c179e"
             ],
             [
              0.4444444444444444,
              "#bd3786"
             ],
             [
              0.5555555555555556,
              "#d8576b"
             ],
             [
              0.6666666666666666,
              "#ed7953"
             ],
             [
              0.7777777777777778,
              "#fb9f3a"
             ],
             [
              0.8888888888888888,
              "#fdca26"
             ],
             [
              1,
              "#f0f921"
             ]
            ],
            "type": "histogram2d"
           }
          ],
          "histogram2dcontour": [
           {
            "colorbar": {
             "outlinewidth": 0,
             "ticks": ""
            },
            "colorscale": [
             [
              0,
              "#0d0887"
             ],
             [
              0.1111111111111111,
              "#46039f"
             ],
             [
              0.2222222222222222,
              "#7201a8"
             ],
             [
              0.3333333333333333,
              "#9c179e"
             ],
             [
              0.4444444444444444,
              "#bd3786"
             ],
             [
              0.5555555555555556,
              "#d8576b"
             ],
             [
              0.6666666666666666,
              "#ed7953"
             ],
             [
              0.7777777777777778,
              "#fb9f3a"
             ],
             [
              0.8888888888888888,
              "#fdca26"
             ],
             [
              1,
              "#f0f921"
             ]
            ],
            "type": "histogram2dcontour"
           }
          ],
          "mesh3d": [
           {
            "colorbar": {
             "outlinewidth": 0,
             "ticks": ""
            },
            "type": "mesh3d"
           }
          ],
          "parcoords": [
           {
            "line": {
             "colorbar": {
              "outlinewidth": 0,
              "ticks": ""
             }
            },
            "type": "parcoords"
           }
          ],
          "pie": [
           {
            "automargin": true,
            "type": "pie"
           }
          ],
          "scatter": [
           {
            "fillpattern": {
             "fillmode": "overlay",
             "size": 10,
             "solidity": 0.2
            },
            "type": "scatter"
           }
          ],
          "scatter3d": [
           {
            "line": {
             "colorbar": {
              "outlinewidth": 0,
              "ticks": ""
             }
            },
            "marker": {
             "colorbar": {
              "outlinewidth": 0,
              "ticks": ""
             }
            },
            "type": "scatter3d"
           }
          ],
          "scattercarpet": [
           {
            "marker": {
             "colorbar": {
              "outlinewidth": 0,
              "ticks": ""
             }
            },
            "type": "scattercarpet"
           }
          ],
          "scattergeo": [
           {
            "marker": {
             "colorbar": {
              "outlinewidth": 0,
              "ticks": ""
             }
            },
            "type": "scattergeo"
           }
          ],
          "scattergl": [
           {
            "marker": {
             "colorbar": {
              "outlinewidth": 0,
              "ticks": ""
             }
            },
            "type": "scattergl"
           }
          ],
          "scattermapbox": [
           {
            "marker": {
             "colorbar": {
              "outlinewidth": 0,
              "ticks": ""
             }
            },
            "type": "scattermapbox"
           }
          ],
          "scatterpolar": [
           {
            "marker": {
             "colorbar": {
              "outlinewidth": 0,
              "ticks": ""
             }
            },
            "type": "scatterpolar"
           }
          ],
          "scatterpolargl": [
           {
            "marker": {
             "colorbar": {
              "outlinewidth": 0,
              "ticks": ""
             }
            },
            "type": "scatterpolargl"
           }
          ],
          "scatterternary": [
           {
            "marker": {
             "colorbar": {
              "outlinewidth": 0,
              "ticks": ""
             }
            },
            "type": "scatterternary"
           }
          ],
          "surface": [
           {
            "colorbar": {
             "outlinewidth": 0,
             "ticks": ""
            },
            "colorscale": [
             [
              0,
              "#0d0887"
             ],
             [
              0.1111111111111111,
              "#46039f"
             ],
             [
              0.2222222222222222,
              "#7201a8"
             ],
             [
              0.3333333333333333,
              "#9c179e"
             ],
             [
              0.4444444444444444,
              "#bd3786"
             ],
             [
              0.5555555555555556,
              "#d8576b"
             ],
             [
              0.6666666666666666,
              "#ed7953"
             ],
             [
              0.7777777777777778,
              "#fb9f3a"
             ],
             [
              0.8888888888888888,
              "#fdca26"
             ],
             [
              1,
              "#f0f921"
             ]
            ],
            "type": "surface"
           }
          ],
          "table": [
           {
            "cells": {
             "fill": {
              "color": "#EBF0F8"
             },
             "line": {
              "color": "white"
             }
            },
            "header": {
             "fill": {
              "color": "#C8D4E3"
             },
             "line": {
              "color": "white"
             }
            },
            "type": "table"
           }
          ]
         },
         "layout": {
          "annotationdefaults": {
           "arrowcolor": "#2a3f5f",
           "arrowhead": 0,
           "arrowwidth": 1
          },
          "autotypenumbers": "strict",
          "coloraxis": {
           "colorbar": {
            "outlinewidth": 0,
            "ticks": ""
           }
          },
          "colorscale": {
           "diverging": [
            [
             0,
             "#8e0152"
            ],
            [
             0.1,
             "#c51b7d"
            ],
            [
             0.2,
             "#de77ae"
            ],
            [
             0.3,
             "#f1b6da"
            ],
            [
             0.4,
             "#fde0ef"
            ],
            [
             0.5,
             "#f7f7f7"
            ],
            [
             0.6,
             "#e6f5d0"
            ],
            [
             0.7,
             "#b8e186"
            ],
            [
             0.8,
             "#7fbc41"
            ],
            [
             0.9,
             "#4d9221"
            ],
            [
             1,
             "#276419"
            ]
           ],
           "sequential": [
            [
             0,
             "#0d0887"
            ],
            [
             0.1111111111111111,
             "#46039f"
            ],
            [
             0.2222222222222222,
             "#7201a8"
            ],
            [
             0.3333333333333333,
             "#9c179e"
            ],
            [
             0.4444444444444444,
             "#bd3786"
            ],
            [
             0.5555555555555556,
             "#d8576b"
            ],
            [
             0.6666666666666666,
             "#ed7953"
            ],
            [
             0.7777777777777778,
             "#fb9f3a"
            ],
            [
             0.8888888888888888,
             "#fdca26"
            ],
            [
             1,
             "#f0f921"
            ]
           ],
           "sequentialminus": [
            [
             0,
             "#0d0887"
            ],
            [
             0.1111111111111111,
             "#46039f"
            ],
            [
             0.2222222222222222,
             "#7201a8"
            ],
            [
             0.3333333333333333,
             "#9c179e"
            ],
            [
             0.4444444444444444,
             "#bd3786"
            ],
            [
             0.5555555555555556,
             "#d8576b"
            ],
            [
             0.6666666666666666,
             "#ed7953"
            ],
            [
             0.7777777777777778,
             "#fb9f3a"
            ],
            [
             0.8888888888888888,
             "#fdca26"
            ],
            [
             1,
             "#f0f921"
            ]
           ]
          },
          "colorway": [
           "#636efa",
           "#EF553B",
           "#00cc96",
           "#ab63fa",
           "#FFA15A",
           "#19d3f3",
           "#FF6692",
           "#B6E880",
           "#FF97FF",
           "#FECB52"
          ],
          "font": {
           "color": "#2a3f5f"
          },
          "geo": {
           "bgcolor": "white",
           "lakecolor": "white",
           "landcolor": "#E5ECF6",
           "showlakes": true,
           "showland": true,
           "subunitcolor": "white"
          },
          "hoverlabel": {
           "align": "left"
          },
          "hovermode": "closest",
          "mapbox": {
           "style": "light"
          },
          "paper_bgcolor": "white",
          "plot_bgcolor": "#E5ECF6",
          "polar": {
           "angularaxis": {
            "gridcolor": "white",
            "linecolor": "white",
            "ticks": ""
           },
           "bgcolor": "#E5ECF6",
           "radialaxis": {
            "gridcolor": "white",
            "linecolor": "white",
            "ticks": ""
           }
          },
          "scene": {
           "xaxis": {
            "backgroundcolor": "#E5ECF6",
            "gridcolor": "white",
            "gridwidth": 2,
            "linecolor": "white",
            "showbackground": true,
            "ticks": "",
            "zerolinecolor": "white"
           },
           "yaxis": {
            "backgroundcolor": "#E5ECF6",
            "gridcolor": "white",
            "gridwidth": 2,
            "linecolor": "white",
            "showbackground": true,
            "ticks": "",
            "zerolinecolor": "white"
           },
           "zaxis": {
            "backgroundcolor": "#E5ECF6",
            "gridcolor": "white",
            "gridwidth": 2,
            "linecolor": "white",
            "showbackground": true,
            "ticks": "",
            "zerolinecolor": "white"
           }
          },
          "shapedefaults": {
           "line": {
            "color": "#2a3f5f"
           }
          },
          "ternary": {
           "aaxis": {
            "gridcolor": "white",
            "linecolor": "white",
            "ticks": ""
           },
           "baxis": {
            "gridcolor": "white",
            "linecolor": "white",
            "ticks": ""
           },
           "bgcolor": "#E5ECF6",
           "caxis": {
            "gridcolor": "white",
            "linecolor": "white",
            "ticks": ""
           }
          },
          "title": {
           "x": 0.05
          },
          "xaxis": {
           "automargin": true,
           "gridcolor": "white",
           "linecolor": "white",
           "ticks": "",
           "title": {
            "standoff": 15
           },
           "zerolinecolor": "white",
           "zerolinewidth": 2
          },
          "yaxis": {
           "automargin": true,
           "gridcolor": "white",
           "linecolor": "white",
           "ticks": "",
           "title": {
            "standoff": 15
           },
           "zerolinecolor": "white",
           "zerolinewidth": 2
          }
         }
        },
        "title": {
         "text": "Reach from different sources"
        }
       }
      }
     },
     "metadata": {},
     "output_type": "display_data"
    }
   ],
   "source": [
    "reach_sources = ['From Home','From Hashtags','From Explore','From Other']\n",
    "reach_counts = [data[source].sum() for source in reach_sources]\n",
    "\n",
    "colors = ['#FFB6C1', '#87CEFA', '#90EE90', '#FFDAB9']\n",
    "\n",
    "fig = px.pie(data_frame=data, names=reach_sources,\n",
    "             values=reach_counts,\n",
    "             title = 'Reach from different sources',\n",
    "             color_discrete_sequence=colors)\n",
    "\n",
    "fig.show()"
   ]
  },
  {
   "cell_type": "code",
   "execution_count": 31,
   "metadata": {},
   "outputs": [
    {
     "data": {
      "application/vnd.plotly.v1+json": {
       "config": {
        "plotlyServerURL": "https://plot.ly"
       },
       "data": [
        {
         "domain": {
          "x": [
           0,
           1
          ],
          "y": [
           0,
           1
          ]
         },
         "hovertemplate": "label=%{label}<br>value=%{value}<extra></extra>",
         "labels": [
          "Saves",
          "Comments",
          "Shares",
          "Likes"
         ],
         "legendgroup": "",
         "name": "",
         "showlegend": true,
         "type": "pie",
         "values": [
          18244,
          793,
          1114,
          20680
         ]
        }
       ],
       "layout": {
        "legend": {
         "tracegroupgap": 0
        },
        "piecolorway": [
         "#FFB6C1",
         "#87CEFA",
         "#90EE90",
         "#FFDAB9"
        ],
        "template": {
         "data": {
          "bar": [
           {
            "error_x": {
             "color": "#2a3f5f"
            },
            "error_y": {
             "color": "#2a3f5f"
            },
            "marker": {
             "line": {
              "color": "#E5ECF6",
              "width": 0.5
             },
             "pattern": {
              "fillmode": "overlay",
              "size": 10,
              "solidity": 0.2
             }
            },
            "type": "bar"
           }
          ],
          "barpolar": [
           {
            "marker": {
             "line": {
              "color": "#E5ECF6",
              "width": 0.5
             },
             "pattern": {
              "fillmode": "overlay",
              "size": 10,
              "solidity": 0.2
             }
            },
            "type": "barpolar"
           }
          ],
          "carpet": [
           {
            "aaxis": {
             "endlinecolor": "#2a3f5f",
             "gridcolor": "white",
             "linecolor": "white",
             "minorgridcolor": "white",
             "startlinecolor": "#2a3f5f"
            },
            "baxis": {
             "endlinecolor": "#2a3f5f",
             "gridcolor": "white",
             "linecolor": "white",
             "minorgridcolor": "white",
             "startlinecolor": "#2a3f5f"
            },
            "type": "carpet"
           }
          ],
          "choropleth": [
           {
            "colorbar": {
             "outlinewidth": 0,
             "ticks": ""
            },
            "type": "choropleth"
           }
          ],
          "contour": [
           {
            "colorbar": {
             "outlinewidth": 0,
             "ticks": ""
            },
            "colorscale": [
             [
              0,
              "#0d0887"
             ],
             [
              0.1111111111111111,
              "#46039f"
             ],
             [
              0.2222222222222222,
              "#7201a8"
             ],
             [
              0.3333333333333333,
              "#9c179e"
             ],
             [
              0.4444444444444444,
              "#bd3786"
             ],
             [
              0.5555555555555556,
              "#d8576b"
             ],
             [
              0.6666666666666666,
              "#ed7953"
             ],
             [
              0.7777777777777778,
              "#fb9f3a"
             ],
             [
              0.8888888888888888,
              "#fdca26"
             ],
             [
              1,
              "#f0f921"
             ]
            ],
            "type": "contour"
           }
          ],
          "contourcarpet": [
           {
            "colorbar": {
             "outlinewidth": 0,
             "ticks": ""
            },
            "type": "contourcarpet"
           }
          ],
          "heatmap": [
           {
            "colorbar": {
             "outlinewidth": 0,
             "ticks": ""
            },
            "colorscale": [
             [
              0,
              "#0d0887"
             ],
             [
              0.1111111111111111,
              "#46039f"
             ],
             [
              0.2222222222222222,
              "#7201a8"
             ],
             [
              0.3333333333333333,
              "#9c179e"
             ],
             [
              0.4444444444444444,
              "#bd3786"
             ],
             [
              0.5555555555555556,
              "#d8576b"
             ],
             [
              0.6666666666666666,
              "#ed7953"
             ],
             [
              0.7777777777777778,
              "#fb9f3a"
             ],
             [
              0.8888888888888888,
              "#fdca26"
             ],
             [
              1,
              "#f0f921"
             ]
            ],
            "type": "heatmap"
           }
          ],
          "heatmapgl": [
           {
            "colorbar": {
             "outlinewidth": 0,
             "ticks": ""
            },
            "colorscale": [
             [
              0,
              "#0d0887"
             ],
             [
              0.1111111111111111,
              "#46039f"
             ],
             [
              0.2222222222222222,
              "#7201a8"
             ],
             [
              0.3333333333333333,
              "#9c179e"
             ],
             [
              0.4444444444444444,
              "#bd3786"
             ],
             [
              0.5555555555555556,
              "#d8576b"
             ],
             [
              0.6666666666666666,
              "#ed7953"
             ],
             [
              0.7777777777777778,
              "#fb9f3a"
             ],
             [
              0.8888888888888888,
              "#fdca26"
             ],
             [
              1,
              "#f0f921"
             ]
            ],
            "type": "heatmapgl"
           }
          ],
          "histogram": [
           {
            "marker": {
             "pattern": {
              "fillmode": "overlay",
              "size": 10,
              "solidity": 0.2
             }
            },
            "type": "histogram"
           }
          ],
          "histogram2d": [
           {
            "colorbar": {
             "outlinewidth": 0,
             "ticks": ""
            },
            "colorscale": [
             [
              0,
              "#0d0887"
             ],
             [
              0.1111111111111111,
              "#46039f"
             ],
             [
              0.2222222222222222,
              "#7201a8"
             ],
             [
              0.3333333333333333,
              "#9c179e"
             ],
             [
              0.4444444444444444,
              "#bd3786"
             ],
             [
              0.5555555555555556,
              "#d8576b"
             ],
             [
              0.6666666666666666,
              "#ed7953"
             ],
             [
              0.7777777777777778,
              "#fb9f3a"
             ],
             [
              0.8888888888888888,
              "#fdca26"
             ],
             [
              1,
              "#f0f921"
             ]
            ],
            "type": "histogram2d"
           }
          ],
          "histogram2dcontour": [
           {
            "colorbar": {
             "outlinewidth": 0,
             "ticks": ""
            },
            "colorscale": [
             [
              0,
              "#0d0887"
             ],
             [
              0.1111111111111111,
              "#46039f"
             ],
             [
              0.2222222222222222,
              "#7201a8"
             ],
             [
              0.3333333333333333,
              "#9c179e"
             ],
             [
              0.4444444444444444,
              "#bd3786"
             ],
             [
              0.5555555555555556,
              "#d8576b"
             ],
             [
              0.6666666666666666,
              "#ed7953"
             ],
             [
              0.7777777777777778,
              "#fb9f3a"
             ],
             [
              0.8888888888888888,
              "#fdca26"
             ],
             [
              1,
              "#f0f921"
             ]
            ],
            "type": "histogram2dcontour"
           }
          ],
          "mesh3d": [
           {
            "colorbar": {
             "outlinewidth": 0,
             "ticks": ""
            },
            "type": "mesh3d"
           }
          ],
          "parcoords": [
           {
            "line": {
             "colorbar": {
              "outlinewidth": 0,
              "ticks": ""
             }
            },
            "type": "parcoords"
           }
          ],
          "pie": [
           {
            "automargin": true,
            "type": "pie"
           }
          ],
          "scatter": [
           {
            "fillpattern": {
             "fillmode": "overlay",
             "size": 10,
             "solidity": 0.2
            },
            "type": "scatter"
           }
          ],
          "scatter3d": [
           {
            "line": {
             "colorbar": {
              "outlinewidth": 0,
              "ticks": ""
             }
            },
            "marker": {
             "colorbar": {
              "outlinewidth": 0,
              "ticks": ""
             }
            },
            "type": "scatter3d"
           }
          ],
          "scattercarpet": [
           {
            "marker": {
             "colorbar": {
              "outlinewidth": 0,
              "ticks": ""
             }
            },
            "type": "scattercarpet"
           }
          ],
          "scattergeo": [
           {
            "marker": {
             "colorbar": {
              "outlinewidth": 0,
              "ticks": ""
             }
            },
            "type": "scattergeo"
           }
          ],
          "scattergl": [
           {
            "marker": {
             "colorbar": {
              "outlinewidth": 0,
              "ticks": ""
             }
            },
            "type": "scattergl"
           }
          ],
          "scattermapbox": [
           {
            "marker": {
             "colorbar": {
              "outlinewidth": 0,
              "ticks": ""
             }
            },
            "type": "scattermapbox"
           }
          ],
          "scatterpolar": [
           {
            "marker": {
             "colorbar": {
              "outlinewidth": 0,
              "ticks": ""
             }
            },
            "type": "scatterpolar"
           }
          ],
          "scatterpolargl": [
           {
            "marker": {
             "colorbar": {
              "outlinewidth": 0,
              "ticks": ""
             }
            },
            "type": "scatterpolargl"
           }
          ],
          "scatterternary": [
           {
            "marker": {
             "colorbar": {
              "outlinewidth": 0,
              "ticks": ""
             }
            },
            "type": "scatterternary"
           }
          ],
          "surface": [
           {
            "colorbar": {
             "outlinewidth": 0,
             "ticks": ""
            },
            "colorscale": [
             [
              0,
              "#0d0887"
             ],
             [
              0.1111111111111111,
              "#46039f"
             ],
             [
              0.2222222222222222,
              "#7201a8"
             ],
             [
              0.3333333333333333,
              "#9c179e"
             ],
             [
              0.4444444444444444,
              "#bd3786"
             ],
             [
              0.5555555555555556,
              "#d8576b"
             ],
             [
              0.6666666666666666,
              "#ed7953"
             ],
             [
              0.7777777777777778,
              "#fb9f3a"
             ],
             [
              0.8888888888888888,
              "#fdca26"
             ],
             [
              1,
              "#f0f921"
             ]
            ],
            "type": "surface"
           }
          ],
          "table": [
           {
            "cells": {
             "fill": {
              "color": "#EBF0F8"
             },
             "line": {
              "color": "white"
             }
            },
            "header": {
             "fill": {
              "color": "#C8D4E3"
             },
             "line": {
              "color": "white"
             }
            },
            "type": "table"
           }
          ]
         },
         "layout": {
          "annotationdefaults": {
           "arrowcolor": "#2a3f5f",
           "arrowhead": 0,
           "arrowwidth": 1
          },
          "autotypenumbers": "strict",
          "coloraxis": {
           "colorbar": {
            "outlinewidth": 0,
            "ticks": ""
           }
          },
          "colorscale": {
           "diverging": [
            [
             0,
             "#8e0152"
            ],
            [
             0.1,
             "#c51b7d"
            ],
            [
             0.2,
             "#de77ae"
            ],
            [
             0.3,
             "#f1b6da"
            ],
            [
             0.4,
             "#fde0ef"
            ],
            [
             0.5,
             "#f7f7f7"
            ],
            [
             0.6,
             "#e6f5d0"
            ],
            [
             0.7,
             "#b8e186"
            ],
            [
             0.8,
             "#7fbc41"
            ],
            [
             0.9,
             "#4d9221"
            ],
            [
             1,
             "#276419"
            ]
           ],
           "sequential": [
            [
             0,
             "#0d0887"
            ],
            [
             0.1111111111111111,
             "#46039f"
            ],
            [
             0.2222222222222222,
             "#7201a8"
            ],
            [
             0.3333333333333333,
             "#9c179e"
            ],
            [
             0.4444444444444444,
             "#bd3786"
            ],
            [
             0.5555555555555556,
             "#d8576b"
            ],
            [
             0.6666666666666666,
             "#ed7953"
            ],
            [
             0.7777777777777778,
             "#fb9f3a"
            ],
            [
             0.8888888888888888,
             "#fdca26"
            ],
            [
             1,
             "#f0f921"
            ]
           ],
           "sequentialminus": [
            [
             0,
             "#0d0887"
            ],
            [
             0.1111111111111111,
             "#46039f"
            ],
            [
             0.2222222222222222,
             "#7201a8"
            ],
            [
             0.3333333333333333,
             "#9c179e"
            ],
            [
             0.4444444444444444,
             "#bd3786"
            ],
            [
             0.5555555555555556,
             "#d8576b"
            ],
            [
             0.6666666666666666,
             "#ed7953"
            ],
            [
             0.7777777777777778,
             "#fb9f3a"
            ],
            [
             0.8888888888888888,
             "#fdca26"
            ],
            [
             1,
             "#f0f921"
            ]
           ]
          },
          "colorway": [
           "#636efa",
           "#EF553B",
           "#00cc96",
           "#ab63fa",
           "#FFA15A",
           "#19d3f3",
           "#FF6692",
           "#B6E880",
           "#FF97FF",
           "#FECB52"
          ],
          "font": {
           "color": "#2a3f5f"
          },
          "geo": {
           "bgcolor": "white",
           "lakecolor": "white",
           "landcolor": "#E5ECF6",
           "showlakes": true,
           "showland": true,
           "subunitcolor": "white"
          },
          "hoverlabel": {
           "align": "left"
          },
          "hovermode": "closest",
          "mapbox": {
           "style": "light"
          },
          "paper_bgcolor": "white",
          "plot_bgcolor": "#E5ECF6",
          "polar": {
           "angularaxis": {
            "gridcolor": "white",
            "linecolor": "white",
            "ticks": ""
           },
           "bgcolor": "#E5ECF6",
           "radialaxis": {
            "gridcolor": "white",
            "linecolor": "white",
            "ticks": ""
           }
          },
          "scene": {
           "xaxis": {
            "backgroundcolor": "#E5ECF6",
            "gridcolor": "white",
            "gridwidth": 2,
            "linecolor": "white",
            "showbackground": true,
            "ticks": "",
            "zerolinecolor": "white"
           },
           "yaxis": {
            "backgroundcolor": "#E5ECF6",
            "gridcolor": "white",
            "gridwidth": 2,
            "linecolor": "white",
            "showbackground": true,
            "ticks": "",
            "zerolinecolor": "white"
           },
           "zaxis": {
            "backgroundcolor": "#E5ECF6",
            "gridcolor": "white",
            "gridwidth": 2,
            "linecolor": "white",
            "showbackground": true,
            "ticks": "",
            "zerolinecolor": "white"
           }
          },
          "shapedefaults": {
           "line": {
            "color": "#2a3f5f"
           }
          },
          "ternary": {
           "aaxis": {
            "gridcolor": "white",
            "linecolor": "white",
            "ticks": ""
           },
           "baxis": {
            "gridcolor": "white",
            "linecolor": "white",
            "ticks": ""
           },
           "bgcolor": "#E5ECF6",
           "caxis": {
            "gridcolor": "white",
            "linecolor": "white",
            "ticks": ""
           }
          },
          "title": {
           "x": 0.05
          },
          "xaxis": {
           "automargin": true,
           "gridcolor": "white",
           "linecolor": "white",
           "ticks": "",
           "title": {
            "standoff": 15
           },
           "zerolinecolor": "white",
           "zerolinewidth": 2
          },
          "yaxis": {
           "automargin": true,
           "gridcolor": "white",
           "linecolor": "white",
           "ticks": "",
           "title": {
            "standoff": 15
           },
           "zerolinecolor": "white",
           "zerolinewidth": 2
          }
         }
        },
        "title": {
         "text": "Engagement Sources"
        }
       }
      }
     },
     "metadata": {},
     "output_type": "display_data"
    }
   ],
   "source": [
    "engagement_metrics = ['Saves', 'Comments', 'Shares', 'Likes']\n",
    "engagement_counts = [data[metric].sum() for metric in engagement_metrics]\n",
    "\n",
    "colors = ['#FFB6C1', '#87CEFA', '#90EE90', '#FFDAB9']\n",
    "\n",
    "fig = px.pie(data_frame=data, names=engagement_metrics, \n",
    "             values=engagement_counts, \n",
    "             title='Engagement Sources',\n",
    "             color_discrete_sequence=colors)\n",
    "fig.show()"
   ]
  },
  {
   "cell_type": "code",
   "execution_count": 32,
   "metadata": {},
   "outputs": [
    {
     "data": {
      "application/vnd.plotly.v1+json": {
       "config": {
        "plotlyServerURL": "https://plot.ly"
       },
       "data": [
        {
         "hovertemplate": "Profile Visits=%{x}<br>Follows=%{y}<extra></extra>",
         "legendgroup": "",
         "marker": {
          "color": "#636efa",
          "symbol": "circle"
         },
         "mode": "markers",
         "name": "",
         "orientation": "v",
         "showlegend": false,
         "type": "scatter",
         "x": [
          35,
          48,
          62,
          23,
          8,
          9,
          26,
          12,
          36,
          31,
          29,
          15,
          8,
          20,
          181,
          17,
          16,
          21,
          77,
          10,
          9,
          11,
          144,
          14,
          10,
          19,
          69,
          11,
          19,
          9,
          57,
          13,
          11,
          24,
          81,
          4,
          7,
          14,
          18,
          8,
          330,
          21,
          19,
          32,
          19,
          21,
          14,
          30,
          39,
          42,
          31,
          20,
          12,
          22,
          306,
          13,
          26,
          16,
          15,
          15,
          39,
          21,
          8,
          45,
          50,
          37,
          25,
          347,
          26,
          48,
          16,
          26,
          17,
          52,
          22,
          41,
          155,
          12,
          22,
          20,
          23,
          25,
          17,
          16,
          21,
          77,
          10,
          14,
          30,
          39,
          42,
          31,
          14,
          10,
          19,
          69,
          11,
          19,
          9,
          38,
          42,
          92,
          75,
          21,
          26,
          39,
          74,
          467,
          24,
          70,
          22,
          46,
          61,
          237,
          73,
          20,
          34,
          148,
          611
         ],
         "xaxis": "x",
         "y": [
          2,
          10,
          12,
          8,
          0,
          2,
          0,
          6,
          4,
          6,
          4,
          0,
          2,
          4,
          42,
          6,
          2,
          2,
          30,
          0,
          0,
          24,
          100,
          2,
          4,
          6,
          6,
          6,
          2,
          2,
          20,
          2,
          4,
          8,
          26,
          2,
          2,
          4,
          0,
          2,
          94,
          8,
          18,
          10,
          4,
          4,
          4,
          4,
          18,
          38,
          10,
          12,
          4,
          4,
          74,
          0,
          6,
          6,
          0,
          6,
          12,
          10,
          8,
          8,
          46,
          12,
          10,
          94,
          6,
          10,
          6,
          4,
          12,
          16,
          12,
          8,
          32,
          8,
          16,
          6,
          10,
          10,
          6,
          2,
          2,
          30,
          0,
          4,
          4,
          18,
          38,
          10,
          2,
          4,
          6,
          6,
          6,
          2,
          2,
          14,
          8,
          14,
          28,
          18,
          12,
          34,
          26,
          260,
          16,
          96,
          20,
          30,
          58,
          100,
          80,
          18,
          10,
          214,
          228
         ],
         "yaxis": "y"
        },
        {
         "hovertemplate": "<b>OLS trendline</b><br>Follows = 0.400884 * Profile Visits + 0.46283<br>R<sup>2</sup>=0.727868<br><br>Profile Visits=%{x}<br>Follows=%{y} <b>(trend)</b><extra></extra>",
         "legendgroup": "",
         "marker": {
          "color": "#636efa",
          "symbol": "circle"
         },
         "mode": "lines",
         "name": "",
         "showlegend": false,
         "type": "scatter",
         "x": [
          4,
          7,
          8,
          8,
          8,
          8,
          9,
          9,
          9,
          9,
          10,
          10,
          10,
          10,
          11,
          11,
          11,
          11,
          12,
          12,
          12,
          13,
          13,
          14,
          14,
          14,
          14,
          14,
          15,
          15,
          15,
          16,
          16,
          16,
          16,
          17,
          17,
          17,
          18,
          19,
          19,
          19,
          19,
          19,
          19,
          20,
          20,
          20,
          20,
          21,
          21,
          21,
          21,
          21,
          21,
          22,
          22,
          22,
          22,
          23,
          23,
          24,
          24,
          25,
          25,
          26,
          26,
          26,
          26,
          26,
          29,
          30,
          30,
          31,
          31,
          31,
          32,
          34,
          35,
          36,
          37,
          38,
          39,
          39,
          39,
          39,
          41,
          42,
          42,
          42,
          45,
          46,
          48,
          48,
          50,
          52,
          57,
          61,
          62,
          69,
          69,
          70,
          73,
          74,
          75,
          77,
          77,
          81,
          92,
          144,
          148,
          155,
          181,
          237,
          306,
          330,
          347,
          467,
          611
         ],
         "xaxis": "x",
         "y": [
          2.066365070422533,
          3.269016056338026,
          3.669899718309857,
          3.669899718309857,
          3.669899718309857,
          3.669899718309857,
          4.0707833802816875,
          4.0707833802816875,
          4.0707833802816875,
          4.0707833802816875,
          4.471667042253519,
          4.471667042253519,
          4.471667042253519,
          4.471667042253519,
          4.87255070422535,
          4.87255070422535,
          4.87255070422535,
          4.87255070422535,
          5.273434366197181,
          5.273434366197181,
          5.273434366197181,
          5.6743180281690115,
          5.6743180281690115,
          6.075201690140843,
          6.075201690140843,
          6.075201690140843,
          6.075201690140843,
          6.075201690140843,
          6.476085352112674,
          6.476085352112674,
          6.476085352112674,
          6.876969014084505,
          6.876969014084505,
          6.876969014084505,
          6.876969014084505,
          7.277852676056336,
          7.277852676056336,
          7.277852676056336,
          7.678736338028167,
          8.079619999999998,
          8.079619999999998,
          8.079619999999998,
          8.079619999999998,
          8.079619999999998,
          8.079619999999998,
          8.480503661971829,
          8.480503661971829,
          8.480503661971829,
          8.480503661971829,
          8.88138732394366,
          8.88138732394366,
          8.88138732394366,
          8.88138732394366,
          8.88138732394366,
          8.88138732394366,
          9.282270985915492,
          9.282270985915492,
          9.282270985915492,
          9.282270985915492,
          9.683154647887322,
          9.683154647887322,
          10.084038309859153,
          10.084038309859153,
          10.484921971830984,
          10.484921971830984,
          10.885805633802814,
          10.885805633802814,
          10.885805633802814,
          10.885805633802814,
          10.885805633802814,
          12.088456619718308,
          12.48934028169014,
          12.48934028169014,
          12.89022394366197,
          12.89022394366197,
          12.89022394366197,
          13.291107605633801,
          14.092874929577462,
          14.493758591549295,
          14.894642253521125,
          15.295525915492956,
          15.696409577464788,
          16.097293239436617,
          16.097293239436617,
          16.097293239436617,
          16.097293239436617,
          16.89906056338028,
          17.29994422535211,
          17.29994422535211,
          17.29994422535211,
          18.502595211267604,
          18.903478873239436,
          19.705246197183097,
          19.705246197183097,
          20.50701352112676,
          21.30878084507042,
          23.313199154929578,
          24.9167338028169,
          25.317617464788732,
          28.123803098591548,
          28.123803098591548,
          28.52468676056338,
          29.727337746478874,
          30.128221408450703,
          30.529105070422535,
          31.330872394366196,
          31.330872394366196,
          32.934407042253525,
          37.34412732394367,
          58.19007774647888,
          59.79361239436619,
          62.59979802816902,
          73.02277323943662,
          95.47225830985916,
          123.13323098591549,
          132.75443887323945,
          139.56946112676056,
          187.6755005633803,
          245.40274788732395
         ],
         "yaxis": "y"
        }
       ],
       "layout": {
        "legend": {
         "tracegroupgap": 0
        },
        "template": {
         "data": {
          "bar": [
           {
            "error_x": {
             "color": "#2a3f5f"
            },
            "error_y": {
             "color": "#2a3f5f"
            },
            "marker": {
             "line": {
              "color": "#E5ECF6",
              "width": 0.5
             },
             "pattern": {
              "fillmode": "overlay",
              "size": 10,
              "solidity": 0.2
             }
            },
            "type": "bar"
           }
          ],
          "barpolar": [
           {
            "marker": {
             "line": {
              "color": "#E5ECF6",
              "width": 0.5
             },
             "pattern": {
              "fillmode": "overlay",
              "size": 10,
              "solidity": 0.2
             }
            },
            "type": "barpolar"
           }
          ],
          "carpet": [
           {
            "aaxis": {
             "endlinecolor": "#2a3f5f",
             "gridcolor": "white",
             "linecolor": "white",
             "minorgridcolor": "white",
             "startlinecolor": "#2a3f5f"
            },
            "baxis": {
             "endlinecolor": "#2a3f5f",
             "gridcolor": "white",
             "linecolor": "white",
             "minorgridcolor": "white",
             "startlinecolor": "#2a3f5f"
            },
            "type": "carpet"
           }
          ],
          "choropleth": [
           {
            "colorbar": {
             "outlinewidth": 0,
             "ticks": ""
            },
            "type": "choropleth"
           }
          ],
          "contour": [
           {
            "colorbar": {
             "outlinewidth": 0,
             "ticks": ""
            },
            "colorscale": [
             [
              0,
              "#0d0887"
             ],
             [
              0.1111111111111111,
              "#46039f"
             ],
             [
              0.2222222222222222,
              "#7201a8"
             ],
             [
              0.3333333333333333,
              "#9c179e"
             ],
             [
              0.4444444444444444,
              "#bd3786"
             ],
             [
              0.5555555555555556,
              "#d8576b"
             ],
             [
              0.6666666666666666,
              "#ed7953"
             ],
             [
              0.7777777777777778,
              "#fb9f3a"
             ],
             [
              0.8888888888888888,
              "#fdca26"
             ],
             [
              1,
              "#f0f921"
             ]
            ],
            "type": "contour"
           }
          ],
          "contourcarpet": [
           {
            "colorbar": {
             "outlinewidth": 0,
             "ticks": ""
            },
            "type": "contourcarpet"
           }
          ],
          "heatmap": [
           {
            "colorbar": {
             "outlinewidth": 0,
             "ticks": ""
            },
            "colorscale": [
             [
              0,
              "#0d0887"
             ],
             [
              0.1111111111111111,
              "#46039f"
             ],
             [
              0.2222222222222222,
              "#7201a8"
             ],
             [
              0.3333333333333333,
              "#9c179e"
             ],
             [
              0.4444444444444444,
              "#bd3786"
             ],
             [
              0.5555555555555556,
              "#d8576b"
             ],
             [
              0.6666666666666666,
              "#ed7953"
             ],
             [
              0.7777777777777778,
              "#fb9f3a"
             ],
             [
              0.8888888888888888,
              "#fdca26"
             ],
             [
              1,
              "#f0f921"
             ]
            ],
            "type": "heatmap"
           }
          ],
          "heatmapgl": [
           {
            "colorbar": {
             "outlinewidth": 0,
             "ticks": ""
            },
            "colorscale": [
             [
              0,
              "#0d0887"
             ],
             [
              0.1111111111111111,
              "#46039f"
             ],
             [
              0.2222222222222222,
              "#7201a8"
             ],
             [
              0.3333333333333333,
              "#9c179e"
             ],
             [
              0.4444444444444444,
              "#bd3786"
             ],
             [
              0.5555555555555556,
              "#d8576b"
             ],
             [
              0.6666666666666666,
              "#ed7953"
             ],
             [
              0.7777777777777778,
              "#fb9f3a"
             ],
             [
              0.8888888888888888,
              "#fdca26"
             ],
             [
              1,
              "#f0f921"
             ]
            ],
            "type": "heatmapgl"
           }
          ],
          "histogram": [
           {
            "marker": {
             "pattern": {
              "fillmode": "overlay",
              "size": 10,
              "solidity": 0.2
             }
            },
            "type": "histogram"
           }
          ],
          "histogram2d": [
           {
            "colorbar": {
             "outlinewidth": 0,
             "ticks": ""
            },
            "colorscale": [
             [
              0,
              "#0d0887"
             ],
             [
              0.1111111111111111,
              "#46039f"
             ],
             [
              0.2222222222222222,
              "#7201a8"
             ],
             [
              0.3333333333333333,
              "#9c179e"
             ],
             [
              0.4444444444444444,
              "#bd3786"
             ],
             [
              0.5555555555555556,
              "#d8576b"
             ],
             [
              0.6666666666666666,
              "#ed7953"
             ],
             [
              0.7777777777777778,
              "#fb9f3a"
             ],
             [
              0.8888888888888888,
              "#fdca26"
             ],
             [
              1,
              "#f0f921"
             ]
            ],
            "type": "histogram2d"
           }
          ],
          "histogram2dcontour": [
           {
            "colorbar": {
             "outlinewidth": 0,
             "ticks": ""
            },
            "colorscale": [
             [
              0,
              "#0d0887"
             ],
             [
              0.1111111111111111,
              "#46039f"
             ],
             [
              0.2222222222222222,
              "#7201a8"
             ],
             [
              0.3333333333333333,
              "#9c179e"
             ],
             [
              0.4444444444444444,
              "#bd3786"
             ],
             [
              0.5555555555555556,
              "#d8576b"
             ],
             [
              0.6666666666666666,
              "#ed7953"
             ],
             [
              0.7777777777777778,
              "#fb9f3a"
             ],
             [
              0.8888888888888888,
              "#fdca26"
             ],
             [
              1,
              "#f0f921"
             ]
            ],
            "type": "histogram2dcontour"
           }
          ],
          "mesh3d": [
           {
            "colorbar": {
             "outlinewidth": 0,
             "ticks": ""
            },
            "type": "mesh3d"
           }
          ],
          "parcoords": [
           {
            "line": {
             "colorbar": {
              "outlinewidth": 0,
              "ticks": ""
             }
            },
            "type": "parcoords"
           }
          ],
          "pie": [
           {
            "automargin": true,
            "type": "pie"
           }
          ],
          "scatter": [
           {
            "fillpattern": {
             "fillmode": "overlay",
             "size": 10,
             "solidity": 0.2
            },
            "type": "scatter"
           }
          ],
          "scatter3d": [
           {
            "line": {
             "colorbar": {
              "outlinewidth": 0,
              "ticks": ""
             }
            },
            "marker": {
             "colorbar": {
              "outlinewidth": 0,
              "ticks": ""
             }
            },
            "type": "scatter3d"
           }
          ],
          "scattercarpet": [
           {
            "marker": {
             "colorbar": {
              "outlinewidth": 0,
              "ticks": ""
             }
            },
            "type": "scattercarpet"
           }
          ],
          "scattergeo": [
           {
            "marker": {
             "colorbar": {
              "outlinewidth": 0,
              "ticks": ""
             }
            },
            "type": "scattergeo"
           }
          ],
          "scattergl": [
           {
            "marker": {
             "colorbar": {
              "outlinewidth": 0,
              "ticks": ""
             }
            },
            "type": "scattergl"
           }
          ],
          "scattermapbox": [
           {
            "marker": {
             "colorbar": {
              "outlinewidth": 0,
              "ticks": ""
             }
            },
            "type": "scattermapbox"
           }
          ],
          "scatterpolar": [
           {
            "marker": {
             "colorbar": {
              "outlinewidth": 0,
              "ticks": ""
             }
            },
            "type": "scatterpolar"
           }
          ],
          "scatterpolargl": [
           {
            "marker": {
             "colorbar": {
              "outlinewidth": 0,
              "ticks": ""
             }
            },
            "type": "scatterpolargl"
           }
          ],
          "scatterternary": [
           {
            "marker": {
             "colorbar": {
              "outlinewidth": 0,
              "ticks": ""
             }
            },
            "type": "scatterternary"
           }
          ],
          "surface": [
           {
            "colorbar": {
             "outlinewidth": 0,
             "ticks": ""
            },
            "colorscale": [
             [
              0,
              "#0d0887"
             ],
             [
              0.1111111111111111,
              "#46039f"
             ],
             [
              0.2222222222222222,
              "#7201a8"
             ],
             [
              0.3333333333333333,
              "#9c179e"
             ],
             [
              0.4444444444444444,
              "#bd3786"
             ],
             [
              0.5555555555555556,
              "#d8576b"
             ],
             [
              0.6666666666666666,
              "#ed7953"
             ],
             [
              0.7777777777777778,
              "#fb9f3a"
             ],
             [
              0.8888888888888888,
              "#fdca26"
             ],
             [
              1,
              "#f0f921"
             ]
            ],
            "type": "surface"
           }
          ],
          "table": [
           {
            "cells": {
             "fill": {
              "color": "#EBF0F8"
             },
             "line": {
              "color": "white"
             }
            },
            "header": {
             "fill": {
              "color": "#C8D4E3"
             },
             "line": {
              "color": "white"
             }
            },
            "type": "table"
           }
          ]
         },
         "layout": {
          "annotationdefaults": {
           "arrowcolor": "#2a3f5f",
           "arrowhead": 0,
           "arrowwidth": 1
          },
          "autotypenumbers": "strict",
          "coloraxis": {
           "colorbar": {
            "outlinewidth": 0,
            "ticks": ""
           }
          },
          "colorscale": {
           "diverging": [
            [
             0,
             "#8e0152"
            ],
            [
             0.1,
             "#c51b7d"
            ],
            [
             0.2,
             "#de77ae"
            ],
            [
             0.3,
             "#f1b6da"
            ],
            [
             0.4,
             "#fde0ef"
            ],
            [
             0.5,
             "#f7f7f7"
            ],
            [
             0.6,
             "#e6f5d0"
            ],
            [
             0.7,
             "#b8e186"
            ],
            [
             0.8,
             "#7fbc41"
            ],
            [
             0.9,
             "#4d9221"
            ],
            [
             1,
             "#276419"
            ]
           ],
           "sequential": [
            [
             0,
             "#0d0887"
            ],
            [
             0.1111111111111111,
             "#46039f"
            ],
            [
             0.2222222222222222,
             "#7201a8"
            ],
            [
             0.3333333333333333,
             "#9c179e"
            ],
            [
             0.4444444444444444,
             "#bd3786"
            ],
            [
             0.5555555555555556,
             "#d8576b"
            ],
            [
             0.6666666666666666,
             "#ed7953"
            ],
            [
             0.7777777777777778,
             "#fb9f3a"
            ],
            [
             0.8888888888888888,
             "#fdca26"
            ],
            [
             1,
             "#f0f921"
            ]
           ],
           "sequentialminus": [
            [
             0,
             "#0d0887"
            ],
            [
             0.1111111111111111,
             "#46039f"
            ],
            [
             0.2222222222222222,
             "#7201a8"
            ],
            [
             0.3333333333333333,
             "#9c179e"
            ],
            [
             0.4444444444444444,
             "#bd3786"
            ],
            [
             0.5555555555555556,
             "#d8576b"
            ],
            [
             0.6666666666666666,
             "#ed7953"
            ],
            [
             0.7777777777777778,
             "#fb9f3a"
            ],
            [
             0.8888888888888888,
             "#fdca26"
            ],
            [
             1,
             "#f0f921"
            ]
           ]
          },
          "colorway": [
           "#636efa",
           "#EF553B",
           "#00cc96",
           "#ab63fa",
           "#FFA15A",
           "#19d3f3",
           "#FF6692",
           "#B6E880",
           "#FF97FF",
           "#FECB52"
          ],
          "font": {
           "color": "#2a3f5f"
          },
          "geo": {
           "bgcolor": "white",
           "lakecolor": "white",
           "landcolor": "#E5ECF6",
           "showlakes": true,
           "showland": true,
           "subunitcolor": "white"
          },
          "hoverlabel": {
           "align": "left"
          },
          "hovermode": "closest",
          "mapbox": {
           "style": "light"
          },
          "paper_bgcolor": "white",
          "plot_bgcolor": "#E5ECF6",
          "polar": {
           "angularaxis": {
            "gridcolor": "white",
            "linecolor": "white",
            "ticks": ""
           },
           "bgcolor": "#E5ECF6",
           "radialaxis": {
            "gridcolor": "white",
            "linecolor": "white",
            "ticks": ""
           }
          },
          "scene": {
           "xaxis": {
            "backgroundcolor": "#E5ECF6",
            "gridcolor": "white",
            "gridwidth": 2,
            "linecolor": "white",
            "showbackground": true,
            "ticks": "",
            "zerolinecolor": "white"
           },
           "yaxis": {
            "backgroundcolor": "#E5ECF6",
            "gridcolor": "white",
            "gridwidth": 2,
            "linecolor": "white",
            "showbackground": true,
            "ticks": "",
            "zerolinecolor": "white"
           },
           "zaxis": {
            "backgroundcolor": "#E5ECF6",
            "gridcolor": "white",
            "gridwidth": 2,
            "linecolor": "white",
            "showbackground": true,
            "ticks": "",
            "zerolinecolor": "white"
           }
          },
          "shapedefaults": {
           "line": {
            "color": "#2a3f5f"
           }
          },
          "ternary": {
           "aaxis": {
            "gridcolor": "white",
            "linecolor": "white",
            "ticks": ""
           },
           "baxis": {
            "gridcolor": "white",
            "linecolor": "white",
            "ticks": ""
           },
           "bgcolor": "#E5ECF6",
           "caxis": {
            "gridcolor": "white",
            "linecolor": "white",
            "ticks": ""
           }
          },
          "title": {
           "x": 0.05
          },
          "xaxis": {
           "automargin": true,
           "gridcolor": "white",
           "linecolor": "white",
           "ticks": "",
           "title": {
            "standoff": 15
           },
           "zerolinecolor": "white",
           "zerolinewidth": 2
          },
          "yaxis": {
           "automargin": true,
           "gridcolor": "white",
           "linecolor": "white",
           "ticks": "",
           "title": {
            "standoff": 15
           },
           "zerolinecolor": "white",
           "zerolinewidth": 2
          }
         }
        },
        "title": {
         "text": "Profile Visits vs. Follows"
        },
        "xaxis": {
         "anchor": "y",
         "domain": [
          0,
          1
         ],
         "title": {
          "text": "Profile Visits"
         }
        },
        "yaxis": {
         "anchor": "x",
         "domain": [
          0,
          1
         ],
         "title": {
          "text": "Follows"
         }
        }
       }
      }
     },
     "metadata": {},
     "output_type": "display_data"
    }
   ],
   "source": [
    "fig = px.scatter(data, \n",
    "                 x='Profile Visits', \n",
    "                 y='Follows', \n",
    "                 trendline = 'ols',\n",
    "                 title='Profile Visits vs. Follows')\n",
    "fig.show()"
   ]
  },
  {
   "cell_type": "code",
   "execution_count": 33,
   "metadata": {},
   "outputs": [
    {
     "data": {
      "application/vnd.plotly.v1+json": {
       "config": {
        "plotlyServerURL": "https://plot.ly"
       },
       "data": [
        {
         "hovertemplate": "x: %{x}<br>y: %{y}<br>color: [%{z[0]}, %{z[1]}, %{z[2]}]<extra></extra>",
         "name": "0",
         "source": "data:image/png;base64,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",
         "type": "image",
         "xaxis": "x",
         "yaxis": "y"
        }
       ],
       "layout": {
        "template": {
         "data": {
          "bar": [
           {
            "error_x": {
             "color": "#2a3f5f"
            },
            "error_y": {
             "color": "#2a3f5f"
            },
            "marker": {
             "line": {
              "color": "#E5ECF6",
              "width": 0.5
             },
             "pattern": {
              "fillmode": "overlay",
              "size": 10,
              "solidity": 0.2
             }
            },
            "type": "bar"
           }
          ],
          "barpolar": [
           {
            "marker": {
             "line": {
              "color": "#E5ECF6",
              "width": 0.5
             },
             "pattern": {
              "fillmode": "overlay",
              "size": 10,
              "solidity": 0.2
             }
            },
            "type": "barpolar"
           }
          ],
          "carpet": [
           {
            "aaxis": {
             "endlinecolor": "#2a3f5f",
             "gridcolor": "white",
             "linecolor": "white",
             "minorgridcolor": "white",
             "startlinecolor": "#2a3f5f"
            },
            "baxis": {
             "endlinecolor": "#2a3f5f",
             "gridcolor": "white",
             "linecolor": "white",
             "minorgridcolor": "white",
             "startlinecolor": "#2a3f5f"
            },
            "type": "carpet"
           }
          ],
          "choropleth": [
           {
            "colorbar": {
             "outlinewidth": 0,
             "ticks": ""
            },
            "type": "choropleth"
           }
          ],
          "contour": [
           {
            "colorbar": {
             "outlinewidth": 0,
             "ticks": ""
            },
            "colorscale": [
             [
              0,
              "#0d0887"
             ],
             [
              0.1111111111111111,
              "#46039f"
             ],
             [
              0.2222222222222222,
              "#7201a8"
             ],
             [
              0.3333333333333333,
              "#9c179e"
             ],
             [
              0.4444444444444444,
              "#bd3786"
             ],
             [
              0.5555555555555556,
              "#d8576b"
             ],
             [
              0.6666666666666666,
              "#ed7953"
             ],
             [
              0.7777777777777778,
              "#fb9f3a"
             ],
             [
              0.8888888888888888,
              "#fdca26"
             ],
             [
              1,
              "#f0f921"
             ]
            ],
            "type": "contour"
           }
          ],
          "contourcarpet": [
           {
            "colorbar": {
             "outlinewidth": 0,
             "ticks": ""
            },
            "type": "contourcarpet"
           }
          ],
          "heatmap": [
           {
            "colorbar": {
             "outlinewidth": 0,
             "ticks": ""
            },
            "colorscale": [
             [
              0,
              "#0d0887"
             ],
             [
              0.1111111111111111,
              "#46039f"
             ],
             [
              0.2222222222222222,
              "#7201a8"
             ],
             [
              0.3333333333333333,
              "#9c179e"
             ],
             [
              0.4444444444444444,
              "#bd3786"
             ],
             [
              0.5555555555555556,
              "#d8576b"
             ],
             [
              0.6666666666666666,
              "#ed7953"
             ],
             [
              0.7777777777777778,
              "#fb9f3a"
             ],
             [
              0.8888888888888888,
              "#fdca26"
             ],
             [
              1,
              "#f0f921"
             ]
            ],
            "type": "heatmap"
           }
          ],
          "heatmapgl": [
           {
            "colorbar": {
             "outlinewidth": 0,
             "ticks": ""
            },
            "colorscale": [
             [
              0,
              "#0d0887"
             ],
             [
              0.1111111111111111,
              "#46039f"
             ],
             [
              0.2222222222222222,
              "#7201a8"
             ],
             [
              0.3333333333333333,
              "#9c179e"
             ],
             [
              0.4444444444444444,
              "#bd3786"
             ],
             [
              0.5555555555555556,
              "#d8576b"
             ],
             [
              0.6666666666666666,
              "#ed7953"
             ],
             [
              0.7777777777777778,
              "#fb9f3a"
             ],
             [
              0.8888888888888888,
              "#fdca26"
             ],
             [
              1,
              "#f0f921"
             ]
            ],
            "type": "heatmapgl"
           }
          ],
          "histogram": [
           {
            "marker": {
             "pattern": {
              "fillmode": "overlay",
              "size": 10,
              "solidity": 0.2
             }
            },
            "type": "histogram"
           }
          ],
          "histogram2d": [
           {
            "colorbar": {
             "outlinewidth": 0,
             "ticks": ""
            },
            "colorscale": [
             [
              0,
              "#0d0887"
             ],
             [
              0.1111111111111111,
              "#46039f"
             ],
             [
              0.2222222222222222,
              "#7201a8"
             ],
             [
              0.3333333333333333,
              "#9c179e"
             ],
             [
              0.4444444444444444,
              "#bd3786"
             ],
             [
              0.5555555555555556,
              "#d8576b"
             ],
             [
              0.6666666666666666,
              "#ed7953"
             ],
             [
              0.7777777777777778,
              "#fb9f3a"
             ],
             [
              0.8888888888888888,
              "#fdca26"
             ],
             [
              1,
              "#f0f921"
             ]
            ],
            "type": "histogram2d"
           }
          ],
          "histogram2dcontour": [
           {
            "colorbar": {
             "outlinewidth": 0,
             "ticks": ""
            },
            "colorscale": [
             [
              0,
              "#0d0887"
             ],
             [
              0.1111111111111111,
              "#46039f"
             ],
             [
              0.2222222222222222,
              "#7201a8"
             ],
             [
              0.3333333333333333,
              "#9c179e"
             ],
             [
              0.4444444444444444,
              "#bd3786"
             ],
             [
              0.5555555555555556,
              "#d8576b"
             ],
             [
              0.6666666666666666,
              "#ed7953"
             ],
             [
              0.7777777777777778,
              "#fb9f3a"
             ],
             [
              0.8888888888888888,
              "#fdca26"
             ],
             [
              1,
              "#f0f921"
             ]
            ],
            "type": "histogram2dcontour"
           }
          ],
          "mesh3d": [
           {
            "colorbar": {
             "outlinewidth": 0,
             "ticks": ""
            },
            "type": "mesh3d"
           }
          ],
          "parcoords": [
           {
            "line": {
             "colorbar": {
              "outlinewidth": 0,
              "ticks": ""
             }
            },
            "type": "parcoords"
           }
          ],
          "pie": [
           {
            "automargin": true,
            "type": "pie"
           }
          ],
          "scatter": [
           {
            "fillpattern": {
             "fillmode": "overlay",
             "size": 10,
             "solidity": 0.2
            },
            "type": "scatter"
           }
          ],
          "scatter3d": [
           {
            "line": {
             "colorbar": {
              "outlinewidth": 0,
              "ticks": ""
             }
            },
            "marker": {
             "colorbar": {
              "outlinewidth": 0,
              "ticks": ""
             }
            },
            "type": "scatter3d"
           }
          ],
          "scattercarpet": [
           {
            "marker": {
             "colorbar": {
              "outlinewidth": 0,
              "ticks": ""
             }
            },
            "type": "scattercarpet"
           }
          ],
          "scattergeo": [
           {
            "marker": {
             "colorbar": {
              "outlinewidth": 0,
              "ticks": ""
             }
            },
            "type": "scattergeo"
           }
          ],
          "scattergl": [
           {
            "marker": {
             "colorbar": {
              "outlinewidth": 0,
              "ticks": ""
             }
            },
            "type": "scattergl"
           }
          ],
          "scattermapbox": [
           {
            "marker": {
             "colorbar": {
              "outlinewidth": 0,
              "ticks": ""
             }
            },
            "type": "scattermapbox"
           }
          ],
          "scatterpolar": [
           {
            "marker": {
             "colorbar": {
              "outlinewidth": 0,
              "ticks": ""
             }
            },
            "type": "scatterpolar"
           }
          ],
          "scatterpolargl": [
           {
            "marker": {
             "colorbar": {
              "outlinewidth": 0,
              "ticks": ""
             }
            },
            "type": "scatterpolargl"
           }
          ],
          "scatterternary": [
           {
            "marker": {
             "colorbar": {
              "outlinewidth": 0,
              "ticks": ""
             }
            },
            "type": "scatterternary"
           }
          ],
          "surface": [
           {
            "colorbar": {
             "outlinewidth": 0,
             "ticks": ""
            },
            "colorscale": [
             [
              0,
              "#0d0887"
             ],
             [
              0.1111111111111111,
              "#46039f"
             ],
             [
              0.2222222222222222,
              "#7201a8"
             ],
             [
              0.3333333333333333,
              "#9c179e"
             ],
             [
              0.4444444444444444,
              "#bd3786"
             ],
             [
              0.5555555555555556,
              "#d8576b"
             ],
             [
              0.6666666666666666,
              "#ed7953"
             ],
             [
              0.7777777777777778,
              "#fb9f3a"
             ],
             [
              0.8888888888888888,
              "#fdca26"
             ],
             [
              1,
              "#f0f921"
             ]
            ],
            "type": "surface"
           }
          ],
          "table": [
           {
            "cells": {
             "fill": {
              "color": "#EBF0F8"
             },
             "line": {
              "color": "white"
             }
            },
            "header": {
             "fill": {
              "color": "#C8D4E3"
             },
             "line": {
              "color": "white"
             }
            },
            "type": "table"
           }
          ]
         },
         "layout": {
          "annotationdefaults": {
           "arrowcolor": "#2a3f5f",
           "arrowhead": 0,
           "arrowwidth": 1
          },
          "autotypenumbers": "strict",
          "coloraxis": {
           "colorbar": {
            "outlinewidth": 0,
            "ticks": ""
           }
          },
          "colorscale": {
           "diverging": [
            [
             0,
             "#8e0152"
            ],
            [
             0.1,
             "#c51b7d"
            ],
            [
             0.2,
             "#de77ae"
            ],
            [
             0.3,
             "#f1b6da"
            ],
            [
             0.4,
             "#fde0ef"
            ],
            [
             0.5,
             "#f7f7f7"
            ],
            [
             0.6,
             "#e6f5d0"
            ],
            [
             0.7,
             "#b8e186"
            ],
            [
             0.8,
             "#7fbc41"
            ],
            [
             0.9,
             "#4d9221"
            ],
            [
             1,
             "#276419"
            ]
           ],
           "sequential": [
            [
             0,
             "#0d0887"
            ],
            [
             0.1111111111111111,
             "#46039f"
            ],
            [
             0.2222222222222222,
             "#7201a8"
            ],
            [
             0.3333333333333333,
             "#9c179e"
            ],
            [
             0.4444444444444444,
             "#bd3786"
            ],
            [
             0.5555555555555556,
             "#d8576b"
            ],
            [
             0.6666666666666666,
             "#ed7953"
            ],
            [
             0.7777777777777778,
             "#fb9f3a"
            ],
            [
             0.8888888888888888,
             "#fdca26"
            ],
            [
             1,
             "#f0f921"
            ]
           ],
           "sequentialminus": [
            [
             0,
             "#0d0887"
            ],
            [
             0.1111111111111111,
             "#46039f"
            ],
            [
             0.2222222222222222,
             "#7201a8"
            ],
            [
             0.3333333333333333,
             "#9c179e"
            ],
            [
             0.4444444444444444,
             "#bd3786"
            ],
            [
             0.5555555555555556,
             "#d8576b"
            ],
            [
             0.6666666666666666,
             "#ed7953"
            ],
            [
             0.7777777777777778,
             "#fb9f3a"
            ],
            [
             0.8888888888888888,
             "#fdca26"
            ],
            [
             1,
             "#f0f921"
            ]
           ]
          },
          "colorway": [
           "#636efa",
           "#EF553B",
           "#00cc96",
           "#ab63fa",
           "#FFA15A",
           "#19d3f3",
           "#FF6692",
           "#B6E880",
           "#FF97FF",
           "#FECB52"
          ],
          "font": {
           "color": "#2a3f5f"
          },
          "geo": {
           "bgcolor": "white",
           "lakecolor": "white",
           "landcolor": "#E5ECF6",
           "showlakes": true,
           "showland": true,
           "subunitcolor": "white"
          },
          "hoverlabel": {
           "align": "left"
          },
          "hovermode": "closest",
          "mapbox": {
           "style": "light"
          },
          "paper_bgcolor": "white",
          "plot_bgcolor": "#E5ECF6",
          "polar": {
           "angularaxis": {
            "gridcolor": "white",
            "linecolor": "white",
            "ticks": ""
           },
           "bgcolor": "#E5ECF6",
           "radialaxis": {
            "gridcolor": "white",
            "linecolor": "white",
            "ticks": ""
           }
          },
          "scene": {
           "xaxis": {
            "backgroundcolor": "#E5ECF6",
            "gridcolor": "white",
            "gridwidth": 2,
            "linecolor": "white",
            "showbackground": true,
            "ticks": "",
            "zerolinecolor": "white"
           },
           "yaxis": {
            "backgroundcolor": "#E5ECF6",
            "gridcolor": "white",
            "gridwidth": 2,
            "linecolor": "white",
            "showbackground": true,
            "ticks": "",
            "zerolinecolor": "white"
           },
           "zaxis": {
            "backgroundcolor": "#E5ECF6",
            "gridcolor": "white",
            "gridwidth": 2,
            "linecolor": "white",
            "showbackground": true,
            "ticks": "",
            "zerolinecolor": "white"
           }
          },
          "shapedefaults": {
           "line": {
            "color": "#2a3f5f"
           }
          },
          "ternary": {
           "aaxis": {
            "gridcolor": "white",
            "linecolor": "white",
            "ticks": ""
           },
           "baxis": {
            "gridcolor": "white",
            "linecolor": "white",
            "ticks": ""
           },
           "bgcolor": "#E5ECF6",
           "caxis": {
            "gridcolor": "white",
            "linecolor": "white",
            "ticks": ""
           }
          },
          "title": {
           "x": 0.05
          },
          "xaxis": {
           "automargin": true,
           "gridcolor": "white",
           "linecolor": "white",
           "ticks": "",
           "title": {
            "standoff": 15
           },
           "zerolinecolor": "white",
           "zerolinewidth": 2
          },
          "yaxis": {
           "automargin": true,
           "gridcolor": "white",
           "linecolor": "white",
           "ticks": "",
           "title": {
            "standoff": 15
           },
           "zerolinecolor": "white",
           "zerolinewidth": 2
          }
         }
        },
        "title": {
         "text": "Hashtags word cloud"
        },
        "xaxis": {
         "anchor": "y",
         "domain": [
          0,
          1
         ]
        },
        "yaxis": {
         "anchor": "x",
         "domain": [
          0,
          1
         ]
        }
       }
      }
     },
     "metadata": {},
     "output_type": "display_data"
    }
   ],
   "source": [
    "from wordcloud import WordCloud\n",
    "\n",
    "hashtags = ' '.join(data['Hashtags'].astype(str))\n",
    "wordcloud = WordCloud().generate(hashtags)\n",
    "\n",
    "fig = px.imshow(wordcloud, title = 'Hashtags word cloud')\n",
    "fig.show()"
   ]
  },
  {
   "cell_type": "markdown",
   "metadata": {},
   "source": [
    "Creating a distrbution for hashtags"
   ]
  },
  {
   "cell_type": "code",
   "execution_count": 39,
   "metadata": {},
   "outputs": [
    {
     "data": {
      "application/vnd.plotly.v1+json": {
       "config": {
        "plotlyServerURL": "https://plot.ly"
       },
       "data": [
        {
         "alignmentgroup": "True",
         "hovertemplate": "Hashtags=%{x}<br>Count=%{y}<extra></extra>",
         "legendgroup": "",
         "marker": {
          "color": "#636efa",
          "pattern": {
           "shape": ""
          }
         },
         "name": "",
         "offsetgroup": "",
         "orientation": "v",
         "showlegend": false,
         "textposition": "auto",
         "type": "bar",
         "x": [
          "#thecleverprogrammer",
          "#amankharwal",
          "#python",
          "#machinelearning",
          "#pythonprogramming",
          "#datascience",
          "#ai",
          "#pythonprojects",
          "#artificialintelligence",
          "#data",
          "#dataanalytics",
          "#datascientist",
          "#pythoncode",
          "#dataanalysis",
          "#deeplearning",
          "#datascienceprojects",
          "#machinelearningprojects",
          "#programming",
          "#technology",
          "#coding",
          "#tech",
          "#computerscience",
          "#bigdata",
          "#pythonlearning",
          "#pythoncoding",
          "#pythondeveloper",
          "#datavisualization",
          "#pythonprogrammer",
          "#analytics",
          "#business",
          "#statistics",
          "#machinelearningalgorithms",
          "#dataanalyst",
          "#webdevelopment",
          "#algorithm",
          "#software",
          "#naturallanguageprocessing",
          "#algorithms",
          "#nlp",
          "#neuralnetwork",
          "#ml",
          "#database",
          "#javascript",
          "#code",
          "#coder",
          "#programmer",
          "#java",
          "#softwaredeveloper",
          "#codinglife",
          "#sentimentanalysis",
          "#sentiment",
          "#webdeveloper",
          "#css",
          "#html",
          "#machinelearningmodels",
          "#developer",
          "#timeseriesanalysis",
          "#iot",
          "#analysis",
          "#timeseriesmalaysia",
          "#businessintelligence",
          "#datasciencejobs",
          "#datasciencetraining",
          "#datascienceeducation",
          "#datasciencecourse",
          "#datamining",
          "#time",
          "#timeseries",
          "#php",
          "#programminglife",
          "#hacking",
          "#programmingmemes",
          "#programmers",
          "#neuralnetworks",
          "#webdesign",
          "#dataviz",
          "#linux",
          "#casestudy",
          "#businessmodel",
          "#zomato",
          "#money",
          "#interview",
          "#finance",
          "#powerbi",
          "#tensorflow",
          "#job",
          "#artificialintelligenceai",
          "#investing",
          "#trading",
          "#stockmarket",
          "#healthcare",
          "#health",
          "#covid",
          "#investment",
          "#cryptocurrency",
          "#bitcoin",
          "#dataanalysisprojects",
          "#businessanalytics",
          "#python3",
          "#roadmap",
          "#codinginterview",
          "#pythonprogramminglanguage",
          "#otp",
          "#innovation",
          "#recommendationsystem",
          "#recommendations",
          "#recommended",
          "#otpverification",
          "#projects",
          "#casestudies",
          "#amazonfinds",
          "#security",
          "#cybersecurity",
          "#network",
          "#internet",
          "#cloud",
          "#recommendation",
          "#careergoals",
          "#jobsearch",
          "#work",
          "#tableau",
          "#stocks",
          "#forex",
          "#candlestick",
          "#candlestickcharts",
          "#career",
          "#jobs",
          "#stressdetection",
          "#education",
          "#success",
          "#motivation",
          "#clustering",
          "#careerdevelopment",
          "#careeradvice",
          "#digitalmarketing",
          "#media",
          "#socialmedia",
          "#IT",
          "#marketing",
          "#students",
          "#resume",
          "#goals",
          "#careers",
          "#stress",
          "#sql",
          "#pythonbooks",
          "#mysql",
          "#softskills",
          "#instagramreach",
          "#instagram",
          "#ukraine",
          "#pythonprogram",
          "#whatsapp",
          "@codergallery",
          "#google",
          "#news",
          "#flipkart",
          "#bookstagram",
          "#alexnet",
          "#bigdataanalytics",
          "#qrcodes",
          "#datascienceinterview",
          "#facebook",
          "#boxplots"
         ],
         "xaxis": "x",
         "y": [
          117,
          117,
          109,
          97,
          95,
          94,
          91,
          90,
          89,
          88,
          87,
          83,
          78,
          77,
          75,
          43,
          43,
          26,
          25,
          24,
          23,
          21,
          20,
          19,
          19,
          19,
          19,
          19,
          16,
          16,
          14,
          13,
          12,
          10,
          9,
          9,
          9,
          9,
          9,
          8,
          8,
          7,
          7,
          7,
          7,
          7,
          7,
          7,
          7,
          7,
          7,
          7,
          7,
          7,
          7,
          7,
          6,
          6,
          6,
          6,
          6,
          6,
          6,
          6,
          6,
          6,
          6,
          6,
          5,
          5,
          5,
          5,
          5,
          5,
          5,
          5,
          5,
          4,
          4,
          4,
          4,
          4,
          4,
          4,
          4,
          4,
          4,
          4,
          3,
          3,
          3,
          3,
          3,
          3,
          3,
          3,
          3,
          3,
          2,
          2,
          2,
          2,
          2,
          2,
          2,
          2,
          2,
          2,
          2,
          2,
          2,
          2,
          2,
          2,
          2,
          2,
          2,
          2,
          2,
          2,
          2,
          2,
          2,
          2,
          2,
          2,
          2,
          2,
          2,
          2,
          2,
          2,
          2,
          2,
          2,
          2,
          2,
          2,
          2,
          2,
          2,
          2,
          2,
          2,
          1,
          1,
          1,
          1,
          1,
          1,
          1,
          1,
          1,
          1,
          1,
          1,
          1,
          1,
          1,
          1,
          1,
          1,
          1,
          1
         ],
         "yaxis": "y"
        }
       ],
       "layout": {
        "barmode": "relative",
        "legend": {
         "tracegroupgap": 0
        },
        "template": {
         "data": {
          "bar": [
           {
            "error_x": {
             "color": "#2a3f5f"
            },
            "error_y": {
             "color": "#2a3f5f"
            },
            "marker": {
             "line": {
              "color": "#E5ECF6",
              "width": 0.5
             },
             "pattern": {
              "fillmode": "overlay",
              "size": 10,
              "solidity": 0.2
             }
            },
            "type": "bar"
           }
          ],
          "barpolar": [
           {
            "marker": {
             "line": {
              "color": "#E5ECF6",
              "width": 0.5
             },
             "pattern": {
              "fillmode": "overlay",
              "size": 10,
              "solidity": 0.2
             }
            },
            "type": "barpolar"
           }
          ],
          "carpet": [
           {
            "aaxis": {
             "endlinecolor": "#2a3f5f",
             "gridcolor": "white",
             "linecolor": "white",
             "minorgridcolor": "white",
             "startlinecolor": "#2a3f5f"
            },
            "baxis": {
             "endlinecolor": "#2a3f5f",
             "gridcolor": "white",
             "linecolor": "white",
             "minorgridcolor": "white",
             "startlinecolor": "#2a3f5f"
            },
            "type": "carpet"
           }
          ],
          "choropleth": [
           {
            "colorbar": {
             "outlinewidth": 0,
             "ticks": ""
            },
            "type": "choropleth"
           }
          ],
          "contour": [
           {
            "colorbar": {
             "outlinewidth": 0,
             "ticks": ""
            },
            "colorscale": [
             [
              0,
              "#0d0887"
             ],
             [
              0.1111111111111111,
              "#46039f"
             ],
             [
              0.2222222222222222,
              "#7201a8"
             ],
             [
              0.3333333333333333,
              "#9c179e"
             ],
             [
              0.4444444444444444,
              "#bd3786"
             ],
             [
              0.5555555555555556,
              "#d8576b"
             ],
             [
              0.6666666666666666,
              "#ed7953"
             ],
             [
              0.7777777777777778,
              "#fb9f3a"
             ],
             [
              0.8888888888888888,
              "#fdca26"
             ],
             [
              1,
              "#f0f921"
             ]
            ],
            "type": "contour"
           }
          ],
          "contourcarpet": [
           {
            "colorbar": {
             "outlinewidth": 0,
             "ticks": ""
            },
            "type": "contourcarpet"
           }
          ],
          "heatmap": [
           {
            "colorbar": {
             "outlinewidth": 0,
             "ticks": ""
            },
            "colorscale": [
             [
              0,
              "#0d0887"
             ],
             [
              0.1111111111111111,
              "#46039f"
             ],
             [
              0.2222222222222222,
              "#7201a8"
             ],
             [
              0.3333333333333333,
              "#9c179e"
             ],
             [
              0.4444444444444444,
              "#bd3786"
             ],
             [
              0.5555555555555556,
              "#d8576b"
             ],
             [
              0.6666666666666666,
              "#ed7953"
             ],
             [
              0.7777777777777778,
              "#fb9f3a"
             ],
             [
              0.8888888888888888,
              "#fdca26"
             ],
             [
              1,
              "#f0f921"
             ]
            ],
            "type": "heatmap"
           }
          ],
          "heatmapgl": [
           {
            "colorbar": {
             "outlinewidth": 0,
             "ticks": ""
            },
            "colorscale": [
             [
              0,
              "#0d0887"
             ],
             [
              0.1111111111111111,
              "#46039f"
             ],
             [
              0.2222222222222222,
              "#7201a8"
             ],
             [
              0.3333333333333333,
              "#9c179e"
             ],
             [
              0.4444444444444444,
              "#bd3786"
             ],
             [
              0.5555555555555556,
              "#d8576b"
             ],
             [
              0.6666666666666666,
              "#ed7953"
             ],
             [
              0.7777777777777778,
              "#fb9f3a"
             ],
             [
              0.8888888888888888,
              "#fdca26"
             ],
             [
              1,
              "#f0f921"
             ]
            ],
            "type": "heatmapgl"
           }
          ],
          "histogram": [
           {
            "marker": {
             "pattern": {
              "fillmode": "overlay",
              "size": 10,
              "solidity": 0.2
             }
            },
            "type": "histogram"
           }
          ],
          "histogram2d": [
           {
            "colorbar": {
             "outlinewidth": 0,
             "ticks": ""
            },
            "colorscale": [
             [
              0,
              "#0d0887"
             ],
             [
              0.1111111111111111,
              "#46039f"
             ],
             [
              0.2222222222222222,
              "#7201a8"
             ],
             [
              0.3333333333333333,
              "#9c179e"
             ],
             [
              0.4444444444444444,
              "#bd3786"
             ],
             [
              0.5555555555555556,
              "#d8576b"
             ],
             [
              0.6666666666666666,
              "#ed7953"
             ],
             [
              0.7777777777777778,
              "#fb9f3a"
             ],
             [
              0.8888888888888888,
              "#fdca26"
             ],
             [
              1,
              "#f0f921"
             ]
            ],
            "type": "histogram2d"
           }
          ],
          "histogram2dcontour": [
           {
            "colorbar": {
             "outlinewidth": 0,
             "ticks": ""
            },
            "colorscale": [
             [
              0,
              "#0d0887"
             ],
             [
              0.1111111111111111,
              "#46039f"
             ],
             [
              0.2222222222222222,
              "#7201a8"
             ],
             [
              0.3333333333333333,
              "#9c179e"
             ],
             [
              0.4444444444444444,
              "#bd3786"
             ],
             [
              0.5555555555555556,
              "#d8576b"
             ],
             [
              0.6666666666666666,
              "#ed7953"
             ],
             [
              0.7777777777777778,
              "#fb9f3a"
             ],
             [
              0.8888888888888888,
              "#fdca26"
             ],
             [
              1,
              "#f0f921"
             ]
            ],
            "type": "histogram2dcontour"
           }
          ],
          "mesh3d": [
           {
            "colorbar": {
             "outlinewidth": 0,
             "ticks": ""
            },
            "type": "mesh3d"
           }
          ],
          "parcoords": [
           {
            "line": {
             "colorbar": {
              "outlinewidth": 0,
              "ticks": ""
             }
            },
            "type": "parcoords"
           }
          ],
          "pie": [
           {
            "automargin": true,
            "type": "pie"
           }
          ],
          "scatter": [
           {
            "fillpattern": {
             "fillmode": "overlay",
             "size": 10,
             "solidity": 0.2
            },
            "type": "scatter"
           }
          ],
          "scatter3d": [
           {
            "line": {
             "colorbar": {
              "outlinewidth": 0,
              "ticks": ""
             }
            },
            "marker": {
             "colorbar": {
              "outlinewidth": 0,
              "ticks": ""
             }
            },
            "type": "scatter3d"
           }
          ],
          "scattercarpet": [
           {
            "marker": {
             "colorbar": {
              "outlinewidth": 0,
              "ticks": ""
             }
            },
            "type": "scattercarpet"
           }
          ],
          "scattergeo": [
           {
            "marker": {
             "colorbar": {
              "outlinewidth": 0,
              "ticks": ""
             }
            },
            "type": "scattergeo"
           }
          ],
          "scattergl": [
           {
            "marker": {
             "colorbar": {
              "outlinewidth": 0,
              "ticks": ""
             }
            },
            "type": "scattergl"
           }
          ],
          "scattermapbox": [
           {
            "marker": {
             "colorbar": {
              "outlinewidth": 0,
              "ticks": ""
             }
            },
            "type": "scattermapbox"
           }
          ],
          "scatterpolar": [
           {
            "marker": {
             "colorbar": {
              "outlinewidth": 0,
              "ticks": ""
             }
            },
            "type": "scatterpolar"
           }
          ],
          "scatterpolargl": [
           {
            "marker": {
             "colorbar": {
              "outlinewidth": 0,
              "ticks": ""
             }
            },
            "type": "scatterpolargl"
           }
          ],
          "scatterternary": [
           {
            "marker": {
             "colorbar": {
              "outlinewidth": 0,
              "ticks": ""
             }
            },
            "type": "scatterternary"
           }
          ],
          "surface": [
           {
            "colorbar": {
             "outlinewidth": 0,
             "ticks": ""
            },
            "colorscale": [
             [
              0,
              "#0d0887"
             ],
             [
              0.1111111111111111,
              "#46039f"
             ],
             [
              0.2222222222222222,
              "#7201a8"
             ],
             [
              0.3333333333333333,
              "#9c179e"
             ],
             [
              0.4444444444444444,
              "#bd3786"
             ],
             [
              0.5555555555555556,
              "#d8576b"
             ],
             [
              0.6666666666666666,
              "#ed7953"
             ],
             [
              0.7777777777777778,
              "#fb9f3a"
             ],
             [
              0.8888888888888888,
              "#fdca26"
             ],
             [
              1,
              "#f0f921"
             ]
            ],
            "type": "surface"
           }
          ],
          "table": [
           {
            "cells": {
             "fill": {
              "color": "#EBF0F8"
             },
             "line": {
              "color": "white"
             }
            },
            "header": {
             "fill": {
              "color": "#C8D4E3"
             },
             "line": {
              "color": "white"
             }
            },
            "type": "table"
           }
          ]
         },
         "layout": {
          "annotationdefaults": {
           "arrowcolor": "#2a3f5f",
           "arrowhead": 0,
           "arrowwidth": 1
          },
          "autotypenumbers": "strict",
          "coloraxis": {
           "colorbar": {
            "outlinewidth": 0,
            "ticks": ""
           }
          },
          "colorscale": {
           "diverging": [
            [
             0,
             "#8e0152"
            ],
            [
             0.1,
             "#c51b7d"
            ],
            [
             0.2,
             "#de77ae"
            ],
            [
             0.3,
             "#f1b6da"
            ],
            [
             0.4,
             "#fde0ef"
            ],
            [
             0.5,
             "#f7f7f7"
            ],
            [
             0.6,
             "#e6f5d0"
            ],
            [
             0.7,
             "#b8e186"
            ],
            [
             0.8,
             "#7fbc41"
            ],
            [
             0.9,
             "#4d9221"
            ],
            [
             1,
             "#276419"
            ]
           ],
           "sequential": [
            [
             0,
             "#0d0887"
            ],
            [
             0.1111111111111111,
             "#46039f"
            ],
            [
             0.2222222222222222,
             "#7201a8"
            ],
            [
             0.3333333333333333,
             "#9c179e"
            ],
            [
             0.4444444444444444,
             "#bd3786"
            ],
            [
             0.5555555555555556,
             "#d8576b"
            ],
            [
             0.6666666666666666,
             "#ed7953"
            ],
            [
             0.7777777777777778,
             "#fb9f3a"
            ],
            [
             0.8888888888888888,
             "#fdca26"
            ],
            [
             1,
             "#f0f921"
            ]
           ],
           "sequentialminus": [
            [
             0,
             "#0d0887"
            ],
            [
             0.1111111111111111,
             "#46039f"
            ],
            [
             0.2222222222222222,
             "#7201a8"
            ],
            [
             0.3333333333333333,
             "#9c179e"
            ],
            [
             0.4444444444444444,
             "#bd3786"
            ],
            [
             0.5555555555555556,
             "#d8576b"
            ],
            [
             0.6666666666666666,
             "#ed7953"
            ],
            [
             0.7777777777777778,
             "#fb9f3a"
            ],
            [
             0.8888888888888888,
             "#fdca26"
            ],
            [
             1,
             "#f0f921"
            ]
           ]
          },
          "colorway": [
           "#636efa",
           "#EF553B",
           "#00cc96",
           "#ab63fa",
           "#FFA15A",
           "#19d3f3",
           "#FF6692",
           "#B6E880",
           "#FF97FF",
           "#FECB52"
          ],
          "font": {
           "color": "#2a3f5f"
          },
          "geo": {
           "bgcolor": "white",
           "lakecolor": "white",
           "landcolor": "#E5ECF6",
           "showlakes": true,
           "showland": true,
           "subunitcolor": "white"
          },
          "hoverlabel": {
           "align": "left"
          },
          "hovermode": "closest",
          "mapbox": {
           "style": "light"
          },
          "paper_bgcolor": "white",
          "plot_bgcolor": "#E5ECF6",
          "polar": {
           "angularaxis": {
            "gridcolor": "white",
            "linecolor": "white",
            "ticks": ""
           },
           "bgcolor": "#E5ECF6",
           "radialaxis": {
            "gridcolor": "white",
            "linecolor": "white",
            "ticks": ""
           }
          },
          "scene": {
           "xaxis": {
            "backgroundcolor": "#E5ECF6",
            "gridcolor": "white",
            "gridwidth": 2,
            "linecolor": "white",
            "showbackground": true,
            "ticks": "",
            "zerolinecolor": "white"
           },
           "yaxis": {
            "backgroundcolor": "#E5ECF6",
            "gridcolor": "white",
            "gridwidth": 2,
            "linecolor": "white",
            "showbackground": true,
            "ticks": "",
            "zerolinecolor": "white"
           },
           "zaxis": {
            "backgroundcolor": "#E5ECF6",
            "gridcolor": "white",
            "gridwidth": 2,
            "linecolor": "white",
            "showbackground": true,
            "ticks": "",
            "zerolinecolor": "white"
           }
          },
          "shapedefaults": {
           "line": {
            "color": "#2a3f5f"
           }
          },
          "ternary": {
           "aaxis": {
            "gridcolor": "white",
            "linecolor": "white",
            "ticks": ""
           },
           "baxis": {
            "gridcolor": "white",
            "linecolor": "white",
            "ticks": ""
           },
           "bgcolor": "#E5ECF6",
           "caxis": {
            "gridcolor": "white",
            "linecolor": "white",
            "ticks": ""
           }
          },
          "title": {
           "x": 0.05
          },
          "xaxis": {
           "automargin": true,
           "gridcolor": "white",
           "linecolor": "white",
           "ticks": "",
           "title": {
            "standoff": 15
           },
           "zerolinecolor": "white",
           "zerolinewidth": 2
          },
          "yaxis": {
           "automargin": true,
           "gridcolor": "white",
           "linecolor": "white",
           "ticks": "",
           "title": {
            "standoff": 15
           },
           "zerolinecolor": "white",
           "zerolinewidth": 2
          }
         }
        },
        "title": {
         "text": "Distribution over Hashtags"
        },
        "xaxis": {
         "anchor": "y",
         "domain": [
          0,
          1
         ],
         "title": {
          "text": "Hashtags"
         }
        },
        "yaxis": {
         "anchor": "x",
         "domain": [
          0,
          1
         ],
         "title": {
          "text": "Count"
         }
        }
       }
      }
     },
     "metadata": {},
     "output_type": "display_data"
    }
   ],
   "source": [
    "all_hashtags = []\n",
    "for row in data['Hashtags']:\n",
    "    hashtags = str(row).split()\n",
    "    hashtags =  [tag.strip() for tag in hashtags]\n",
    "    all_hashtags.extend(hashtags)\n",
    "\n",
    "hashtag_disrtibution = pd.Series(all_hashtags).value_counts().reset_index()\n",
    "hashtag_disrtibution.columns = ['Hashtags','Count']\n",
    "\n",
    "fig = px.bar(hashtag_disrtibution,x = 'Hashtags',y = 'Count',title = 'Distribution over Hashtags')\n",
    "fig.show()"
   ]
  },
  {
   "cell_type": "code",
   "execution_count": 41,
   "metadata": {},
   "outputs": [
    {
     "data": {
      "application/vnd.plotly.v1+json": {
       "config": {
        "plotlyServerURL": "https://plot.ly"
       },
       "data": [
        {
         "alignmentgroup": "True",
         "hovertemplate": "Hashtag=%{x}<br>Likes=%{y}<extra></extra>",
         "legendgroup": "",
         "marker": {
          "color": "#636efa",
          "pattern": {
           "shape": ""
          }
         },
         "name": "",
         "offsetgroup": "",
         "orientation": "v",
         "showlegend": false,
         "textposition": "auto",
         "type": "bar",
         "x": [
          "#finance",
          "#money",
          "#business",
          "#investing",
          "#investment",
          "#trading",
          "#stockmarket",
          "#data",
          "#datascience",
          "#dataanalysis",
          "#dataanalytics",
          "#datascientist",
          "#machinelearning",
          "#python",
          "#pythonprogramming",
          "#pythonprojects",
          "#pythoncode",
          "#artificialintelligence",
          "#ai",
          "#dataanalyst",
          "#amankharwal",
          "#thecleverprogrammer",
          "#healthcare",
          "#health",
          "#covid",
          "#deeplearning",
          "#machinelearningprojects",
          "#datascienceprojects",
          "#machinelearningmodels",
          "#pythonlearning",
          "#pythondeveloper",
          "#pythoncoding",
          "#pythonprogrammer",
          "#datavisualization",
          "#bigdata",
          "#dataviz",
          "#analytics",
          "#technology",
          "#programming",
          "#statistics",
          "#coding",
          "#businessintelligence",
          "#datamining",
          "#tech",
          "#computerscience",
          "#tableau",
          "#database",
          "#algorithm",
          "#algorithms",
          "#machinelearningalgorithms",
          "#ml",
          "#softskills",
          "#stocks",
          "#forex",
          "#candlestick",
          "#candlestickcharts",
          "#pythonbooks",
          "#bookstagram",
          "#powerbi",
          "#dataanalysisprojects",
          "#businessanalytics",
          "#neuralnetwork",
          "#neuralnetworks",
          "#tensorflow",
          "#artificialintelligenceai",
          "#alexnet",
          "#sentimentanalysis",
          "#sentiment",
          "#nlp",
          "#naturallanguageprocessing",
          "#timeseries",
          "#time",
          "#timeseriesanalysis",
          "#iot",
          "#analysis",
          "#timeseriesmalaysia",
          "#career",
          "#job",
          "#jobs",
          "#jobsearch",
          "#education",
          "#success",
          "#careergoals",
          "#motivation",
          "#work",
          "#careerdevelopment",
          "#careers",
          "#goals",
          "#resume",
          "#students",
          "#careeradvice",
          "#marketing",
          "#digitalmarketing",
          "#media",
          "#socialmedia",
          "#IT",
          "#webdevelopment",
          "#stress",
          "#stressdetection",
          "#zomato",
          "#casestudy",
          "#businessmodel",
          "#boxplots",
          "#programmer",
          "#developer",
          "#javascript",
          "#code",
          "#coder",
          "#java",
          "#html",
          "#css",
          "#webdeveloper",
          "#software",
          "#codinglife",
          "#softwaredeveloper",
          "#linux",
          "#programmingmemes",
          "#webdesign",
          "#programmers",
          "#php",
          "#programminglife",
          "#hacking",
          "#bitcoin",
          "#cryptocurrency",
          "#projects",
          "#casestudies",
          "#amazonfinds",
          "#security",
          "#cybersecurity",
          "#network",
          "#internet",
          "#cloud",
          "#innovation",
          "#google",
          "#facebook",
          "#interview",
          "#datascienceinterview",
          "#otp",
          "#otpverification",
          "#qrcodes",
          "#bigdataanalytics",
          "#recommended",
          "#recommendations",
          "#recommendationsystem",
          "#recommendation",
          "#codinginterview",
          "#flipkart",
          "#news",
          "#pythonprogram",
          "@codergallery",
          "#whatsapp",
          "#roadmap",
          "#ukraine",
          "#instagram",
          "#instagramreach",
          "#datasciencejobs",
          "#datasciencetraining",
          "#datascienceeducation",
          "#datasciencecourse",
          "#sql",
          "#mysql",
          "#python3",
          "#pythonprogramminglanguage",
          "#clustering"
         ],
         "xaxis": "x",
         "y": [
          529,
          529,
          2012,
          529,
          380,
          380,
          380,
          15077,
          16311,
          13801,
          15283,
          14703,
          16509,
          18238,
          16251,
          16818,
          14239,
          15515,
          15733,
          1845,
          20462,
          20462,
          729,
          729,
          729,
          13204,
          8458,
          8458,
          761,
          3659,
          3659,
          3659,
          3659,
          2382,
          2671,
          567,
          2001,
          3187,
          3355,
          1766,
          3129,
          728,
          728,
          2961,
          2818,
          265,
          887,
          1615,
          1615,
          2065,
          1058,
          144,
          218,
          218,
          218,
          218,
          124,
          124,
          529,
          387,
          387,
          1120,
          600,
          450,
          450,
          81,
          1057,
          1057,
          1238,
          1238,
          812,
          812,
          812,
          812,
          812,
          812,
          410,
          680,
          410,
          410,
          410,
          410,
          410,
          410,
          410,
          410,
          410,
          410,
          410,
          410,
          410,
          410,
          410,
          410,
          410,
          410,
          1456,
          302,
          302,
          328,
          328,
          328,
          76,
          878,
          878,
          878,
          878,
          878,
          878,
          878,
          878,
          878,
          1113,
          878,
          878,
          608,
          608,
          608,
          608,
          608,
          608,
          608,
          390,
          390,
          302,
          302,
          184,
          235,
          235,
          235,
          235,
          235,
          235,
          150,
          85,
          600,
          180,
          272,
          272,
          167,
          142,
          373,
          373,
          373,
          373,
          270,
          94,
          96,
          118,
          118,
          178,
          525,
          203,
          171,
          171,
          1814,
          1814,
          1814,
          1814,
          308,
          308,
          296,
          296,
          240
         ],
         "yaxis": "y"
        }
       ],
       "layout": {
        "barmode": "relative",
        "legend": {
         "tracegroupgap": 0
        },
        "template": {
         "data": {
          "bar": [
           {
            "error_x": {
             "color": "#2a3f5f"
            },
            "error_y": {
             "color": "#2a3f5f"
            },
            "marker": {
             "line": {
              "color": "#E5ECF6",
              "width": 0.5
             },
             "pattern": {
              "fillmode": "overlay",
              "size": 10,
              "solidity": 0.2
             }
            },
            "type": "bar"
           }
          ],
          "barpolar": [
           {
            "marker": {
             "line": {
              "color": "#E5ECF6",
              "width": 0.5
             },
             "pattern": {
              "fillmode": "overlay",
              "size": 10,
              "solidity": 0.2
             }
            },
            "type": "barpolar"
           }
          ],
          "carpet": [
           {
            "aaxis": {
             "endlinecolor": "#2a3f5f",
             "gridcolor": "white",
             "linecolor": "white",
             "minorgridcolor": "white",
             "startlinecolor": "#2a3f5f"
            },
            "baxis": {
             "endlinecolor": "#2a3f5f",
             "gridcolor": "white",
             "linecolor": "white",
             "minorgridcolor": "white",
             "startlinecolor": "#2a3f5f"
            },
            "type": "carpet"
           }
          ],
          "choropleth": [
           {
            "colorbar": {
             "outlinewidth": 0,
             "ticks": ""
            },
            "type": "choropleth"
           }
          ],
          "contour": [
           {
            "colorbar": {
             "outlinewidth": 0,
             "ticks": ""
            },
            "colorscale": [
             [
              0,
              "#0d0887"
             ],
             [
              0.1111111111111111,
              "#46039f"
             ],
             [
              0.2222222222222222,
              "#7201a8"
             ],
             [
              0.3333333333333333,
              "#9c179e"
             ],
             [
              0.4444444444444444,
              "#bd3786"
             ],
             [
              0.5555555555555556,
              "#d8576b"
             ],
             [
              0.6666666666666666,
              "#ed7953"
             ],
             [
              0.7777777777777778,
              "#fb9f3a"
             ],
             [
              0.8888888888888888,
              "#fdca26"
             ],
             [
              1,
              "#f0f921"
             ]
            ],
            "type": "contour"
           }
          ],
          "contourcarpet": [
           {
            "colorbar": {
             "outlinewidth": 0,
             "ticks": ""
            },
            "type": "contourcarpet"
           }
          ],
          "heatmap": [
           {
            "colorbar": {
             "outlinewidth": 0,
             "ticks": ""
            },
            "colorscale": [
             [
              0,
              "#0d0887"
             ],
             [
              0.1111111111111111,
              "#46039f"
             ],
             [
              0.2222222222222222,
              "#7201a8"
             ],
             [
              0.3333333333333333,
              "#9c179e"
             ],
             [
              0.4444444444444444,
              "#bd3786"
             ],
             [
              0.5555555555555556,
              "#d8576b"
             ],
             [
              0.6666666666666666,
              "#ed7953"
             ],
             [
              0.7777777777777778,
              "#fb9f3a"
             ],
             [
              0.8888888888888888,
              "#fdca26"
             ],
             [
              1,
              "#f0f921"
             ]
            ],
            "type": "heatmap"
           }
          ],
          "heatmapgl": [
           {
            "colorbar": {
             "outlinewidth": 0,
             "ticks": ""
            },
            "colorscale": [
             [
              0,
              "#0d0887"
             ],
             [
              0.1111111111111111,
              "#46039f"
             ],
             [
              0.2222222222222222,
              "#7201a8"
             ],
             [
              0.3333333333333333,
              "#9c179e"
             ],
             [
              0.4444444444444444,
              "#bd3786"
             ],
             [
              0.5555555555555556,
              "#d8576b"
             ],
             [
              0.6666666666666666,
              "#ed7953"
             ],
             [
              0.7777777777777778,
              "#fb9f3a"
             ],
             [
              0.8888888888888888,
              "#fdca26"
             ],
             [
              1,
              "#f0f921"
             ]
            ],
            "type": "heatmapgl"
           }
          ],
          "histogram": [
           {
            "marker": {
             "pattern": {
              "fillmode": "overlay",
              "size": 10,
              "solidity": 0.2
             }
            },
            "type": "histogram"
           }
          ],
          "histogram2d": [
           {
            "colorbar": {
             "outlinewidth": 0,
             "ticks": ""
            },
            "colorscale": [
             [
              0,
              "#0d0887"
             ],
             [
              0.1111111111111111,
              "#46039f"
             ],
             [
              0.2222222222222222,
              "#7201a8"
             ],
             [
              0.3333333333333333,
              "#9c179e"
             ],
             [
              0.4444444444444444,
              "#bd3786"
             ],
             [
              0.5555555555555556,
              "#d8576b"
             ],
             [
              0.6666666666666666,
              "#ed7953"
             ],
             [
              0.7777777777777778,
              "#fb9f3a"
             ],
             [
              0.8888888888888888,
              "#fdca26"
             ],
             [
              1,
              "#f0f921"
             ]
            ],
            "type": "histogram2d"
           }
          ],
          "histogram2dcontour": [
           {
            "colorbar": {
             "outlinewidth": 0,
             "ticks": ""
            },
            "colorscale": [
             [
              0,
              "#0d0887"
             ],
             [
              0.1111111111111111,
              "#46039f"
             ],
             [
              0.2222222222222222,
              "#7201a8"
             ],
             [
              0.3333333333333333,
              "#9c179e"
             ],
             [
              0.4444444444444444,
              "#bd3786"
             ],
             [
              0.5555555555555556,
              "#d8576b"
             ],
             [
              0.6666666666666666,
              "#ed7953"
             ],
             [
              0.7777777777777778,
              "#fb9f3a"
             ],
             [
              0.8888888888888888,
              "#fdca26"
             ],
             [
              1,
              "#f0f921"
             ]
            ],
            "type": "histogram2dcontour"
           }
          ],
          "mesh3d": [
           {
            "colorbar": {
             "outlinewidth": 0,
             "ticks": ""
            },
            "type": "mesh3d"
           }
          ],
          "parcoords": [
           {
            "line": {
             "colorbar": {
              "outlinewidth": 0,
              "ticks": ""
             }
            },
            "type": "parcoords"
           }
          ],
          "pie": [
           {
            "automargin": true,
            "type": "pie"
           }
          ],
          "scatter": [
           {
            "fillpattern": {
             "fillmode": "overlay",
             "size": 10,
             "solidity": 0.2
            },
            "type": "scatter"
           }
          ],
          "scatter3d": [
           {
            "line": {
             "colorbar": {
              "outlinewidth": 0,
              "ticks": ""
             }
            },
            "marker": {
             "colorbar": {
              "outlinewidth": 0,
              "ticks": ""
             }
            },
            "type": "scatter3d"
           }
          ],
          "scattercarpet": [
           {
            "marker": {
             "colorbar": {
              "outlinewidth": 0,
              "ticks": ""
             }
            },
            "type": "scattercarpet"
           }
          ],
          "scattergeo": [
           {
            "marker": {
             "colorbar": {
              "outlinewidth": 0,
              "ticks": ""
             }
            },
            "type": "scattergeo"
           }
          ],
          "scattergl": [
           {
            "marker": {
             "colorbar": {
              "outlinewidth": 0,
              "ticks": ""
             }
            },
            "type": "scattergl"
           }
          ],
          "scattermapbox": [
           {
            "marker": {
             "colorbar": {
              "outlinewidth": 0,
              "ticks": ""
             }
            },
            "type": "scattermapbox"
           }
          ],
          "scatterpolar": [
           {
            "marker": {
             "colorbar": {
              "outlinewidth": 0,
              "ticks": ""
             }
            },
            "type": "scatterpolar"
           }
          ],
          "scatterpolargl": [
           {
            "marker": {
             "colorbar": {
              "outlinewidth": 0,
              "ticks": ""
             }
            },
            "type": "scatterpolargl"
           }
          ],
          "scatterternary": [
           {
            "marker": {
             "colorbar": {
              "outlinewidth": 0,
              "ticks": ""
             }
            },
            "type": "scatterternary"
           }
          ],
          "surface": [
           {
            "colorbar": {
             "outlinewidth": 0,
             "ticks": ""
            },
            "colorscale": [
             [
              0,
              "#0d0887"
             ],
             [
              0.1111111111111111,
              "#46039f"
             ],
             [
              0.2222222222222222,
              "#7201a8"
             ],
             [
              0.3333333333333333,
              "#9c179e"
             ],
             [
              0.4444444444444444,
              "#bd3786"
             ],
             [
              0.5555555555555556,
              "#d8576b"
             ],
             [
              0.6666666666666666,
              "#ed7953"
             ],
             [
              0.7777777777777778,
              "#fb9f3a"
             ],
             [
              0.8888888888888888,
              "#fdca26"
             ],
             [
              1,
              "#f0f921"
             ]
            ],
            "type": "surface"
           }
          ],
          "table": [
           {
            "cells": {
             "fill": {
              "color": "#EBF0F8"
             },
             "line": {
              "color": "white"
             }
            },
            "header": {
             "fill": {
              "color": "#C8D4E3"
             },
             "line": {
              "color": "white"
             }
            },
            "type": "table"
           }
          ]
         },
         "layout": {
          "annotationdefaults": {
           "arrowcolor": "#2a3f5f",
           "arrowhead": 0,
           "arrowwidth": 1
          },
          "autotypenumbers": "strict",
          "coloraxis": {
           "colorbar": {
            "outlinewidth": 0,
            "ticks": ""
           }
          },
          "colorscale": {
           "diverging": [
            [
             0,
             "#8e0152"
            ],
            [
             0.1,
             "#c51b7d"
            ],
            [
             0.2,
             "#de77ae"
            ],
            [
             0.3,
             "#f1b6da"
            ],
            [
             0.4,
             "#fde0ef"
            ],
            [
             0.5,
             "#f7f7f7"
            ],
            [
             0.6,
             "#e6f5d0"
            ],
            [
             0.7,
             "#b8e186"
            ],
            [
             0.8,
             "#7fbc41"
            ],
            [
             0.9,
             "#4d9221"
            ],
            [
             1,
             "#276419"
            ]
           ],
           "sequential": [
            [
             0,
             "#0d0887"
            ],
            [
             0.1111111111111111,
             "#46039f"
            ],
            [
             0.2222222222222222,
             "#7201a8"
            ],
            [
             0.3333333333333333,
             "#9c179e"
            ],
            [
             0.4444444444444444,
             "#bd3786"
            ],
            [
             0.5555555555555556,
             "#d8576b"
            ],
            [
             0.6666666666666666,
             "#ed7953"
            ],
            [
             0.7777777777777778,
             "#fb9f3a"
            ],
            [
             0.8888888888888888,
             "#fdca26"
            ],
            [
             1,
             "#f0f921"
            ]
           ],
           "sequentialminus": [
            [
             0,
             "#0d0887"
            ],
            [
             0.1111111111111111,
             "#46039f"
            ],
            [
             0.2222222222222222,
             "#7201a8"
            ],
            [
             0.3333333333333333,
             "#9c179e"
            ],
            [
             0.4444444444444444,
             "#bd3786"
            ],
            [
             0.5555555555555556,
             "#d8576b"
            ],
            [
             0.6666666666666666,
             "#ed7953"
            ],
            [
             0.7777777777777778,
             "#fb9f3a"
            ],
            [
             0.8888888888888888,
             "#fdca26"
            ],
            [
             1,
             "#f0f921"
            ]
           ]
          },
          "colorway": [
           "#636efa",
           "#EF553B",
           "#00cc96",
           "#ab63fa",
           "#FFA15A",
           "#19d3f3",
           "#FF6692",
           "#B6E880",
           "#FF97FF",
           "#FECB52"
          ],
          "font": {
           "color": "#2a3f5f"
          },
          "geo": {
           "bgcolor": "white",
           "lakecolor": "white",
           "landcolor": "#E5ECF6",
           "showlakes": true,
           "showland": true,
           "subunitcolor": "white"
          },
          "hoverlabel": {
           "align": "left"
          },
          "hovermode": "closest",
          "mapbox": {
           "style": "light"
          },
          "paper_bgcolor": "white",
          "plot_bgcolor": "#E5ECF6",
          "polar": {
           "angularaxis": {
            "gridcolor": "white",
            "linecolor": "white",
            "ticks": ""
           },
           "bgcolor": "#E5ECF6",
           "radialaxis": {
            "gridcolor": "white",
            "linecolor": "white",
            "ticks": ""
           }
          },
          "scene": {
           "xaxis": {
            "backgroundcolor": "#E5ECF6",
            "gridcolor": "white",
            "gridwidth": 2,
            "linecolor": "white",
            "showbackground": true,
            "ticks": "",
            "zerolinecolor": "white"
           },
           "yaxis": {
            "backgroundcolor": "#E5ECF6",
            "gridcolor": "white",
            "gridwidth": 2,
            "linecolor": "white",
            "showbackground": true,
            "ticks": "",
            "zerolinecolor": "white"
           },
           "zaxis": {
            "backgroundcolor": "#E5ECF6",
            "gridcolor": "white",
            "gridwidth": 2,
            "linecolor": "white",
            "showbackground": true,
            "ticks": "",
            "zerolinecolor": "white"
           }
          },
          "shapedefaults": {
           "line": {
            "color": "#2a3f5f"
           }
          },
          "ternary": {
           "aaxis": {
            "gridcolor": "white",
            "linecolor": "white",
            "ticks": ""
           },
           "baxis": {
            "gridcolor": "white",
            "linecolor": "white",
            "ticks": ""
           },
           "bgcolor": "#E5ECF6",
           "caxis": {
            "gridcolor": "white",
            "linecolor": "white",
            "ticks": ""
           }
          },
          "title": {
           "x": 0.05
          },
          "xaxis": {
           "automargin": true,
           "gridcolor": "white",
           "linecolor": "white",
           "ticks": "",
           "title": {
            "standoff": 15
           },
           "zerolinecolor": "white",
           "zerolinewidth": 2
          },
          "yaxis": {
           "automargin": true,
           "gridcolor": "white",
           "linecolor": "white",
           "ticks": "",
           "title": {
            "standoff": 15
           },
           "zerolinecolor": "white",
           "zerolinewidth": 2
          }
         }
        },
        "title": {
         "text": "Likes Distribution for Each Hashtag"
        },
        "xaxis": {
         "anchor": "y",
         "domain": [
          0,
          1
         ],
         "title": {
          "text": "Hashtag"
         }
        },
        "yaxis": {
         "anchor": "x",
         "domain": [
          0,
          1
         ],
         "title": {
          "text": "Likes"
         }
        }
       }
      }
     },
     "metadata": {},
     "output_type": "display_data"
    },
    {
     "data": {
      "application/vnd.plotly.v1+json": {
       "config": {
        "plotlyServerURL": "https://plot.ly"
       },
       "data": [
        {
         "alignmentgroup": "True",
         "hovertemplate": "Hashtag=%{x}<br>Impressions=%{y}<extra></extra>",
         "legendgroup": "",
         "marker": {
          "color": "#636efa",
          "pattern": {
           "shape": ""
          }
         },
         "name": "",
         "offsetgroup": "",
         "orientation": "v",
         "showlegend": false,
         "textposition": "auto",
         "type": "bar",
         "x": [
          "#finance",
          "#money",
          "#business",
          "#investing",
          "#investment",
          "#trading",
          "#stockmarket",
          "#data",
          "#datascience",
          "#dataanalysis",
          "#dataanalytics",
          "#datascientist",
          "#machinelearning",
          "#python",
          "#pythonprogramming",
          "#pythonprojects",
          "#pythoncode",
          "#artificialintelligence",
          "#ai",
          "#dataanalyst",
          "#amankharwal",
          "#thecleverprogrammer",
          "#healthcare",
          "#health",
          "#covid",
          "#deeplearning",
          "#machinelearningprojects",
          "#datascienceprojects",
          "#machinelearningmodels",
          "#pythonlearning",
          "#pythondeveloper",
          "#pythoncoding",
          "#pythonprogrammer",
          "#datavisualization",
          "#bigdata",
          "#dataviz",
          "#analytics",
          "#technology",
          "#programming",
          "#statistics",
          "#coding",
          "#businessintelligence",
          "#datamining",
          "#tech",
          "#computerscience",
          "#tableau",
          "#database",
          "#algorithm",
          "#algorithms",
          "#machinelearningalgorithms",
          "#ml",
          "#softskills",
          "#stocks",
          "#forex",
          "#candlestick",
          "#candlestickcharts",
          "#pythonbooks",
          "#bookstagram",
          "#powerbi",
          "#dataanalysisprojects",
          "#businessanalytics",
          "#neuralnetwork",
          "#neuralnetworks",
          "#tensorflow",
          "#artificialintelligenceai",
          "#alexnet",
          "#sentimentanalysis",
          "#sentiment",
          "#nlp",
          "#naturallanguageprocessing",
          "#timeseries",
          "#time",
          "#timeseriesanalysis",
          "#iot",
          "#analysis",
          "#timeseriesmalaysia",
          "#career",
          "#job",
          "#jobs",
          "#jobsearch",
          "#education",
          "#success",
          "#careergoals",
          "#motivation",
          "#work",
          "#careerdevelopment",
          "#careers",
          "#goals",
          "#resume",
          "#students",
          "#careeradvice",
          "#marketing",
          "#digitalmarketing",
          "#media",
          "#socialmedia",
          "#IT",
          "#webdevelopment",
          "#stress",
          "#stressdetection",
          "#zomato",
          "#casestudy",
          "#businessmodel",
          "#boxplots",
          "#programmer",
          "#developer",
          "#javascript",
          "#code",
          "#coder",
          "#java",
          "#html",
          "#css",
          "#webdeveloper",
          "#software",
          "#codinglife",
          "#softwaredeveloper",
          "#linux",
          "#programmingmemes",
          "#webdesign",
          "#programmers",
          "#php",
          "#programminglife",
          "#hacking",
          "#bitcoin",
          "#cryptocurrency",
          "#projects",
          "#casestudies",
          "#amazonfinds",
          "#security",
          "#cybersecurity",
          "#network",
          "#internet",
          "#cloud",
          "#innovation",
          "#google",
          "#facebook",
          "#interview",
          "#datascienceinterview",
          "#otp",
          "#otpverification",
          "#qrcodes",
          "#bigdataanalytics",
          "#recommended",
          "#recommendations",
          "#recommendationsystem",
          "#recommendation",
          "#codinginterview",
          "#flipkart",
          "#news",
          "#pythonprogram",
          "@codergallery",
          "#whatsapp",
          "#roadmap",
          "#ukraine",
          "#instagram",
          "#instagramreach",
          "#datasciencejobs",
          "#datasciencetraining",
          "#datascienceeducation",
          "#datasciencecourse",
          "#sql",
          "#mysql",
          "#python3",
          "#pythonprogramminglanguage",
          "#clustering"
         ],
         "xaxis": "x",
         "y": [
          14224,
          14224,
          51387,
          14224,
          9757,
          9757,
          9757,
          484761,
          524640,
          457923,
          497787,
          483746,
          532627,
          578243,
          525346,
          567608,
          470276,
          506190,
          512027,
          47051,
          672166,
          672166,
          18292,
          18292,
          18292,
          445317,
          297427,
          297427,
          27201,
          135901,
          135901,
          135901,
          135901,
          64864,
          70884,
          15438,
          53464,
          85523,
          90132,
          47283,
          83264,
          17971,
          17971,
          78655,
          75019,
          6506,
          22088,
          57289,
          57289,
          71529,
          30316,
          3884,
          5837,
          5837,
          5837,
          5837,
          3541,
          3541,
          13389,
          9401,
          9401,
          31660,
          18529,
          14240,
          14240,
          2218,
          34102,
          34102,
          42567,
          42567,
          22444,
          22444,
          22444,
          22444,
          22444,
          22444,
          8004,
          14856,
          8004,
          8004,
          8004,
          8004,
          8004,
          8004,
          8004,
          8004,
          8004,
          8004,
          8004,
          8004,
          8004,
          8004,
          8004,
          8004,
          8004,
          8004,
          35456,
          12336,
          12336,
          10844,
          10844,
          10844,
          2064,
          22843,
          22843,
          22843,
          22843,
          22843,
          22843,
          22843,
          22843,
          22843,
          29024,
          22843,
          22843,
          15991,
          15991,
          15991,
          15991,
          15991,
          15991,
          15991,
          14121,
          14121,
          7848,
          7848,
          6030,
          6181,
          6181,
          6181,
          6181,
          6181,
          6181,
          3854,
          2327,
          16139,
          4998,
          8030,
          8030,
          3786,
          3988,
          10036,
          10036,
          10036,
          10036,
          6852,
          3601,
          3525,
          2957,
          2957,
          5538,
          10682,
          8001,
          7231,
          7231,
          86691,
          86691,
          86691,
          86691,
          17713,
          17713,
          15991,
          15991,
          9870
         ],
         "yaxis": "y"
        }
       ],
       "layout": {
        "barmode": "relative",
        "legend": {
         "tracegroupgap": 0
        },
        "template": {
         "data": {
          "bar": [
           {
            "error_x": {
             "color": "#2a3f5f"
            },
            "error_y": {
             "color": "#2a3f5f"
            },
            "marker": {
             "line": {
              "color": "#E5ECF6",
              "width": 0.5
             },
             "pattern": {
              "fillmode": "overlay",
              "size": 10,
              "solidity": 0.2
             }
            },
            "type": "bar"
           }
          ],
          "barpolar": [
           {
            "marker": {
             "line": {
              "color": "#E5ECF6",
              "width": 0.5
             },
             "pattern": {
              "fillmode": "overlay",
              "size": 10,
              "solidity": 0.2
             }
            },
            "type": "barpolar"
           }
          ],
          "carpet": [
           {
            "aaxis": {
             "endlinecolor": "#2a3f5f",
             "gridcolor": "white",
             "linecolor": "white",
             "minorgridcolor": "white",
             "startlinecolor": "#2a3f5f"
            },
            "baxis": {
             "endlinecolor": "#2a3f5f",
             "gridcolor": "white",
             "linecolor": "white",
             "minorgridcolor": "white",
             "startlinecolor": "#2a3f5f"
            },
            "type": "carpet"
           }
          ],
          "choropleth": [
           {
            "colorbar": {
             "outlinewidth": 0,
             "ticks": ""
            },
            "type": "choropleth"
           }
          ],
          "contour": [
           {
            "colorbar": {
             "outlinewidth": 0,
             "ticks": ""
            },
            "colorscale": [
             [
              0,
              "#0d0887"
             ],
             [
              0.1111111111111111,
              "#46039f"
             ],
             [
              0.2222222222222222,
              "#7201a8"
             ],
             [
              0.3333333333333333,
              "#9c179e"
             ],
             [
              0.4444444444444444,
              "#bd3786"
             ],
             [
              0.5555555555555556,
              "#d8576b"
             ],
             [
              0.6666666666666666,
              "#ed7953"
             ],
             [
              0.7777777777777778,
              "#fb9f3a"
             ],
             [
              0.8888888888888888,
              "#fdca26"
             ],
             [
              1,
              "#f0f921"
             ]
            ],
            "type": "contour"
           }
          ],
          "contourcarpet": [
           {
            "colorbar": {
             "outlinewidth": 0,
             "ticks": ""
            },
            "type": "contourcarpet"
           }
          ],
          "heatmap": [
           {
            "colorbar": {
             "outlinewidth": 0,
             "ticks": ""
            },
            "colorscale": [
             [
              0,
              "#0d0887"
             ],
             [
              0.1111111111111111,
              "#46039f"
             ],
             [
              0.2222222222222222,
              "#7201a8"
             ],
             [
              0.3333333333333333,
              "#9c179e"
             ],
             [
              0.4444444444444444,
              "#bd3786"
             ],
             [
              0.5555555555555556,
              "#d8576b"
             ],
             [
              0.6666666666666666,
              "#ed7953"
             ],
             [
              0.7777777777777778,
              "#fb9f3a"
             ],
             [
              0.8888888888888888,
              "#fdca26"
             ],
             [
              1,
              "#f0f921"
             ]
            ],
            "type": "heatmap"
           }
          ],
          "heatmapgl": [
           {
            "colorbar": {
             "outlinewidth": 0,
             "ticks": ""
            },
            "colorscale": [
             [
              0,
              "#0d0887"
             ],
             [
              0.1111111111111111,
              "#46039f"
             ],
             [
              0.2222222222222222,
              "#7201a8"
             ],
             [
              0.3333333333333333,
              "#9c179e"
             ],
             [
              0.4444444444444444,
              "#bd3786"
             ],
             [
              0.5555555555555556,
              "#d8576b"
             ],
             [
              0.6666666666666666,
              "#ed7953"
             ],
             [
              0.7777777777777778,
              "#fb9f3a"
             ],
             [
              0.8888888888888888,
              "#fdca26"
             ],
             [
              1,
              "#f0f921"
             ]
            ],
            "type": "heatmapgl"
           }
          ],
          "histogram": [
           {
            "marker": {
             "pattern": {
              "fillmode": "overlay",
              "size": 10,
              "solidity": 0.2
             }
            },
            "type": "histogram"
           }
          ],
          "histogram2d": [
           {
            "colorbar": {
             "outlinewidth": 0,
             "ticks": ""
            },
            "colorscale": [
             [
              0,
              "#0d0887"
             ],
             [
              0.1111111111111111,
              "#46039f"
             ],
             [
              0.2222222222222222,
              "#7201a8"
             ],
             [
              0.3333333333333333,
              "#9c179e"
             ],
             [
              0.4444444444444444,
              "#bd3786"
             ],
             [
              0.5555555555555556,
              "#d8576b"
             ],
             [
              0.6666666666666666,
              "#ed7953"
             ],
             [
              0.7777777777777778,
              "#fb9f3a"
             ],
             [
              0.8888888888888888,
              "#fdca26"
             ],
             [
              1,
              "#f0f921"
             ]
            ],
            "type": "histogram2d"
           }
          ],
          "histogram2dcontour": [
           {
            "colorbar": {
             "outlinewidth": 0,
             "ticks": ""
            },
            "colorscale": [
             [
              0,
              "#0d0887"
             ],
             [
              0.1111111111111111,
              "#46039f"
             ],
             [
              0.2222222222222222,
              "#7201a8"
             ],
             [
              0.3333333333333333,
              "#9c179e"
             ],
             [
              0.4444444444444444,
              "#bd3786"
             ],
             [
              0.5555555555555556,
              "#d8576b"
             ],
             [
              0.6666666666666666,
              "#ed7953"
             ],
             [
              0.7777777777777778,
              "#fb9f3a"
             ],
             [
              0.8888888888888888,
              "#fdca26"
             ],
             [
              1,
              "#f0f921"
             ]
            ],
            "type": "histogram2dcontour"
           }
          ],
          "mesh3d": [
           {
            "colorbar": {
             "outlinewidth": 0,
             "ticks": ""
            },
            "type": "mesh3d"
           }
          ],
          "parcoords": [
           {
            "line": {
             "colorbar": {
              "outlinewidth": 0,
              "ticks": ""
             }
            },
            "type": "parcoords"
           }
          ],
          "pie": [
           {
            "automargin": true,
            "type": "pie"
           }
          ],
          "scatter": [
           {
            "fillpattern": {
             "fillmode": "overlay",
             "size": 10,
             "solidity": 0.2
            },
            "type": "scatter"
           }
          ],
          "scatter3d": [
           {
            "line": {
             "colorbar": {
              "outlinewidth": 0,
              "ticks": ""
             }
            },
            "marker": {
             "colorbar": {
              "outlinewidth": 0,
              "ticks": ""
             }
            },
            "type": "scatter3d"
           }
          ],
          "scattercarpet": [
           {
            "marker": {
             "colorbar": {
              "outlinewidth": 0,
              "ticks": ""
             }
            },
            "type": "scattercarpet"
           }
          ],
          "scattergeo": [
           {
            "marker": {
             "colorbar": {
              "outlinewidth": 0,
              "ticks": ""
             }
            },
            "type": "scattergeo"
           }
          ],
          "scattergl": [
           {
            "marker": {
             "colorbar": {
              "outlinewidth": 0,
              "ticks": ""
             }
            },
            "type": "scattergl"
           }
          ],
          "scattermapbox": [
           {
            "marker": {
             "colorbar": {
              "outlinewidth": 0,
              "ticks": ""
             }
            },
            "type": "scattermapbox"
           }
          ],
          "scatterpolar": [
           {
            "marker": {
             "colorbar": {
              "outlinewidth": 0,
              "ticks": ""
             }
            },
            "type": "scatterpolar"
           }
          ],
          "scatterpolargl": [
           {
            "marker": {
             "colorbar": {
              "outlinewidth": 0,
              "ticks": ""
             }
            },
            "type": "scatterpolargl"
           }
          ],
          "scatterternary": [
           {
            "marker": {
             "colorbar": {
              "outlinewidth": 0,
              "ticks": ""
             }
            },
            "type": "scatterternary"
           }
          ],
          "surface": [
           {
            "colorbar": {
             "outlinewidth": 0,
             "ticks": ""
            },
            "colorscale": [
             [
              0,
              "#0d0887"
             ],
             [
              0.1111111111111111,
              "#46039f"
             ],
             [
              0.2222222222222222,
              "#7201a8"
             ],
             [
              0.3333333333333333,
              "#9c179e"
             ],
             [
              0.4444444444444444,
              "#bd3786"
             ],
             [
              0.5555555555555556,
              "#d8576b"
             ],
             [
              0.6666666666666666,
              "#ed7953"
             ],
             [
              0.7777777777777778,
              "#fb9f3a"
             ],
             [
              0.8888888888888888,
              "#fdca26"
             ],
             [
              1,
              "#f0f921"
             ]
            ],
            "type": "surface"
           }
          ],
          "table": [
           {
            "cells": {
             "fill": {
              "color": "#EBF0F8"
             },
             "line": {
              "color": "white"
             }
            },
            "header": {
             "fill": {
              "color": "#C8D4E3"
             },
             "line": {
              "color": "white"
             }
            },
            "type": "table"
           }
          ]
         },
         "layout": {
          "annotationdefaults": {
           "arrowcolor": "#2a3f5f",
           "arrowhead": 0,
           "arrowwidth": 1
          },
          "autotypenumbers": "strict",
          "coloraxis": {
           "colorbar": {
            "outlinewidth": 0,
            "ticks": ""
           }
          },
          "colorscale": {
           "diverging": [
            [
             0,
             "#8e0152"
            ],
            [
             0.1,
             "#c51b7d"
            ],
            [
             0.2,
             "#de77ae"
            ],
            [
             0.3,
             "#f1b6da"
            ],
            [
             0.4,
             "#fde0ef"
            ],
            [
             0.5,
             "#f7f7f7"
            ],
            [
             0.6,
             "#e6f5d0"
            ],
            [
             0.7,
             "#b8e186"
            ],
            [
             0.8,
             "#7fbc41"
            ],
            [
             0.9,
             "#4d9221"
            ],
            [
             1,
             "#276419"
            ]
           ],
           "sequential": [
            [
             0,
             "#0d0887"
            ],
            [
             0.1111111111111111,
             "#46039f"
            ],
            [
             0.2222222222222222,
             "#7201a8"
            ],
            [
             0.3333333333333333,
             "#9c179e"
            ],
            [
             0.4444444444444444,
             "#bd3786"
            ],
            [
             0.5555555555555556,
             "#d8576b"
            ],
            [
             0.6666666666666666,
             "#ed7953"
            ],
            [
             0.7777777777777778,
             "#fb9f3a"
            ],
            [
             0.8888888888888888,
             "#fdca26"
            ],
            [
             1,
             "#f0f921"
            ]
           ],
           "sequentialminus": [
            [
             0,
             "#0d0887"
            ],
            [
             0.1111111111111111,
             "#46039f"
            ],
            [
             0.2222222222222222,
             "#7201a8"
            ],
            [
             0.3333333333333333,
             "#9c179e"
            ],
            [
             0.4444444444444444,
             "#bd3786"
            ],
            [
             0.5555555555555556,
             "#d8576b"
            ],
            [
             0.6666666666666666,
             "#ed7953"
            ],
            [
             0.7777777777777778,
             "#fb9f3a"
            ],
            [
             0.8888888888888888,
             "#fdca26"
            ],
            [
             1,
             "#f0f921"
            ]
           ]
          },
          "colorway": [
           "#636efa",
           "#EF553B",
           "#00cc96",
           "#ab63fa",
           "#FFA15A",
           "#19d3f3",
           "#FF6692",
           "#B6E880",
           "#FF97FF",
           "#FECB52"
          ],
          "font": {
           "color": "#2a3f5f"
          },
          "geo": {
           "bgcolor": "white",
           "lakecolor": "white",
           "landcolor": "#E5ECF6",
           "showlakes": true,
           "showland": true,
           "subunitcolor": "white"
          },
          "hoverlabel": {
           "align": "left"
          },
          "hovermode": "closest",
          "mapbox": {
           "style": "light"
          },
          "paper_bgcolor": "white",
          "plot_bgcolor": "#E5ECF6",
          "polar": {
           "angularaxis": {
            "gridcolor": "white",
            "linecolor": "white",
            "ticks": ""
           },
           "bgcolor": "#E5ECF6",
           "radialaxis": {
            "gridcolor": "white",
            "linecolor": "white",
            "ticks": ""
           }
          },
          "scene": {
           "xaxis": {
            "backgroundcolor": "#E5ECF6",
            "gridcolor": "white",
            "gridwidth": 2,
            "linecolor": "white",
            "showbackground": true,
            "ticks": "",
            "zerolinecolor": "white"
           },
           "yaxis": {
            "backgroundcolor": "#E5ECF6",
            "gridcolor": "white",
            "gridwidth": 2,
            "linecolor": "white",
            "showbackground": true,
            "ticks": "",
            "zerolinecolor": "white"
           },
           "zaxis": {
            "backgroundcolor": "#E5ECF6",
            "gridcolor": "white",
            "gridwidth": 2,
            "linecolor": "white",
            "showbackground": true,
            "ticks": "",
            "zerolinecolor": "white"
           }
          },
          "shapedefaults": {
           "line": {
            "color": "#2a3f5f"
           }
          },
          "ternary": {
           "aaxis": {
            "gridcolor": "white",
            "linecolor": "white",
            "ticks": ""
           },
           "baxis": {
            "gridcolor": "white",
            "linecolor": "white",
            "ticks": ""
           },
           "bgcolor": "#E5ECF6",
           "caxis": {
            "gridcolor": "white",
            "linecolor": "white",
            "ticks": ""
           }
          },
          "title": {
           "x": 0.05
          },
          "xaxis": {
           "automargin": true,
           "gridcolor": "white",
           "linecolor": "white",
           "ticks": "",
           "title": {
            "standoff": 15
           },
           "zerolinecolor": "white",
           "zerolinewidth": 2
          },
          "yaxis": {
           "automargin": true,
           "gridcolor": "white",
           "linecolor": "white",
           "ticks": "",
           "title": {
            "standoff": 15
           },
           "zerolinecolor": "white",
           "zerolinewidth": 2
          }
         }
        },
        "title": {
         "text": "Impressions Distribution for Each Hashtag"
        },
        "xaxis": {
         "anchor": "y",
         "domain": [
          0,
          1
         ],
         "title": {
          "text": "Hashtag"
         }
        },
        "yaxis": {
         "anchor": "x",
         "domain": [
          0,
          1
         ],
         "title": {
          "text": "Impressions"
         }
        }
       }
      }
     },
     "metadata": {},
     "output_type": "display_data"
    }
   ],
   "source": [
    "hashtag_likes = {}\n",
    "hashtag_impressions = {}\n",
    "\n",
    "for index, row in data.iterrows():\n",
    "    hashtags = str(row['Hashtags']).split()\n",
    "    for hashtag in hashtags:\n",
    "        hashtag = hashtag.strip()\n",
    "        if hashtag not in hashtag_likes:\n",
    "            hashtag_likes[hashtag] = 0\n",
    "            hashtag_impressions[hashtag] = 0\n",
    "        hashtag_likes[hashtag] += row['Likes']\n",
    "        hashtag_impressions[hashtag] += row['Impressions']\n",
    "\n",
    "likes_distribution = pd.DataFrame(list(hashtag_likes.items()), columns=['Hashtag', 'Likes'])\n",
    "\n",
    "impressions_distribution = pd.DataFrame(list(hashtag_impressions.items()), columns=['Hashtag', 'Impressions'])\n",
    "\n",
    "fig_likes = px.bar(likes_distribution, x='Hashtag', y='Likes', \n",
    "                   title='Likes Distribution for Each Hashtag')\n",
    "\n",
    "fig_impressions = px.bar(impressions_distribution, x='Hashtag', \n",
    "                         y='Impressions', \n",
    "                         title='Impressions Distribution for Each Hashtag')\n",
    "\n",
    "fig_likes.show()\n",
    "fig_impressions.show()"
   ]
  },
  {
   "cell_type": "code",
   "execution_count": null,
   "metadata": {},
   "outputs": [],
   "source": []
  }
 ],
 "metadata": {
  "kernelspec": {
   "display_name": "Python 3",
   "language": "python",
   "name": "python3"
  },
  "language_info": {
   "codemirror_mode": {
    "name": "ipython",
    "version": 3
   },
   "file_extension": ".py",
   "mimetype": "text/x-python",
   "name": "python",
   "nbconvert_exporter": "python",
   "pygments_lexer": "ipython3",
   "version": "3.11.0"
  }
 },
 "nbformat": 4,
 "nbformat_minor": 2
}
